{
 "cells": [
  {
   "cell_type": "code",
   "execution_count": 1,
   "metadata": {},
   "outputs": [],
   "source": [
    "import anytree\n",
    "import sqlite3\n",
    "import scipy\n",
    "import numpy as np\n",
    "import soil"
   ]
  },
  {
   "cell_type": "code",
   "execution_count": 3,
   "metadata": {},
   "outputs": [
    {
     "name": "stdout",
     "output_type": "stream",
     "text": [
      "anytree True\n",
      "sqlite3 3.41.2\n",
      "scipy True\n",
      "np True\n",
      "soil True\n"
     ]
    }
   ],
   "source": [
    "print(\"anytree\", anytree.__version__==\"2.8.0\")\n",
    "print(\"scipy\", scipy.__version__==\"1.8.0\")\n",
    "print(\"np\", np.__version__==\"1.24.3\")\n",
    "print(\"soil\", soil.__version__==\"0.20.7\")"
   ]
  }
 ],
 "metadata": {
  "kernelspec": {
   "display_name": "test_simulator",
   "language": "python",
   "name": "python3"
  },
  "language_info": {
   "codemirror_mode": {
    "name": "ipython",
    "version": 3
   },
   "file_extension": ".py",
   "mimetype": "text/x-python",
   "name": "python",
   "nbconvert_exporter": "python",
   "pygments_lexer": "ipython3",
   "version": "3.9.7"
  },
  "orig_nbformat": 4
 },
 "nbformat": 4,
 "nbformat_minor": 2
}
