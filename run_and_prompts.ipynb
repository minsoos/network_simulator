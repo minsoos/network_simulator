{
    "cells": [
        {
            "cell_type": "markdown",
            "metadata": {},
            "source": [
                "# Network and relations making"
            ]
        },
        {
            "cell_type": "code",
            "execution_count": 1,
            "metadata": {},
            "outputs": [],
            "source": [
                "import subprocess\n",
                "import os\n",
                "import time\n",
                "from yml_create_functions import make_yml, make_network_agents_yml"
            ]
        },
        {
            "cell_type": "code",
            "execution_count": 2,
            "metadata": {},
            "outputs": [],
            "source": [
                "name_simulation = 'simulation_tutorial'"
            ]
        },
        {
            "cell_type": "markdown",
            "metadata": {},
            "source": [
                "## Network Agent Parameters"
            ]
        },
        {
            "cell_type": "markdown",
            "metadata": {},
            "source": [
                "The schema can be changed in schema/schema.py. Here, you can change the parameters of the default schema"
            ]
        },
        {
            "cell_type": "code",
            "execution_count": 3,
            "metadata": {},
            "outputs": [],
            "source": [
                "network_agents_parameters = {\n",
                "    \"default\": {\n",
                "        \"id_message\": \"NaN\",\n",
                "        \"has_tv\": \"false\",\n",
                "        \"cause\": -1,\n",
                "        \"method\": \"NaN\",\n",
                "\n",
                "        \"type\": \"dumb\",\n",
                "        \"response\": \"NaN\",\n",
                "        \"stance\": \"agree\",\n",
                "        \"repost\": \"NaN\",\n",
                "        \"parent_id\": \"NaN\"\n",
                "\n",
                "    },\n",
                "\n",
                "    \"DumbViewer\": [\n",
                "        {\"weight\": 2, \"type\": \"dumb\"},\n",
                "        {\"weight\": 2, \"type\": \"dumb\", \"has_tv\": \"true\"}\n",
                "    ],\n",
                "    \"HerdViewer\": [\n",
                "        {\"weight\": 2, \"type\": \"herd\", \"stance\": \"against\"},\n",
                "        {\"weight\": 2, \"type\": \"herd\", \"has_tv\": \"true\"}\n",
                "    ],\n",
                "    \"WiseViewer\": [\n",
                "        {\"weight\": 1, \"type\": \"wise\", \"stance\": \"against\"},\n",
                "        {\"weight\": 1, \"type\": \"wise\", \"has_tv\": \"true\", \"stance\": \"neutral\"}\n",
                "    ],\n",
                "\n",
                "}"
            ]
        },
        {
            "cell_type": "markdown",
            "metadata": {},
            "source": [
                "## Other Parameters"
            ]
        },
        {
            "cell_type": "code",
            "execution_count": 4,
            "metadata": {},
            "outputs": [],
            "source": [
                "INTERVALS = 100\n",
                "parameters = {\n",
                "    \"default_state\": \"{}\",\n",
                "    \"load_module\": \"schema\", # path from yml to schema\n",
                "    \"environment_agents\": \"[]\",\n",
                "    \"environment_class\": \"schema.NewsEnvironmentAgent\", # path from yml to environment class\n",
                "    \"environment_params\": {\n",
                "        \"prob_neighbor_spread\": 0.05,  # 006\n",
                "        \"prob_tv_spread\": 0.05,  # 001\n",
                "        \"prob_neighbor_cure\": 0.006,  # 001\n",
                "        \"prob_backsliding\": 0.05,  # 003\n",
                "        \"prob_dead\": 0.001,  # 001,\n",
                "        \"prob_repost\": 0.8,\n",
                "        \"mean_time_connection\": 10,\n",
                "        \"var_time_connection\": 30\n",
                "    },\n",
                "    \"interval\": 1,\n",
                "    \"max_time\": INTERVALS,\n",
                "    \"name\": name_simulation,\n",
                "    \"network_params\": {\n",
                "        \"generator\": \"barabasi_albert_graph\",\n",
                "        \"n\": 20,\n",
                "        \"m\": 5\n",
                "    },\n",
                "    \"num_trials\": 1\n",
                "}"
            ]
        },
        {
            "cell_type": "markdown",
            "metadata": {},
            "source": [
                "# Prob responses parameters"
            ]
        },
        {
            "cell_type": "code",
            "execution_count": 5,
            "metadata": {},
            "outputs": [],
            "source": [
                "# Define your probabilities here\n",
                "prob_response = {\"dumb\": {\"support\": 0.4, \"deny\": 0.3, \"question\": 0, \"comment\": 0.2},\n",
                "                \"herd\": {\"support\": 0.25, \"deny\": 0.25, \"question\": 0.25, \"comment\": 0.25},\n",
                "                \"wise\": {\"support\": 0.2, \"deny\": 0.2, \"question\": 0.3, \"comment\": 0.3}\n",
                "                }\n",
                "types = list(prob_response.keys())\n",
                "responses = list( prob_response[types[0]].keys() )\n",
                "for type_i in types:\n",
                "    for response in responses:\n",
                "        name_i = f\"prob_{type_i}_{response}\"\n",
                "        prob_i = prob_response[type_i][response]\n",
                "        # Here, we set each probability\n",
                "        parameters[\"environment_params\"][name_i] = prob_i"
            ]
        },
        {
            "cell_type": "markdown",
            "metadata": {},
            "source": [
                "## Simulation execution"
            ]
        },
        {
            "cell_type": "code",
            "execution_count": 6,
            "metadata": {},
            "outputs": [],
            "source": [
                "parameters_i = parameters.copy()\n",
                "network_agents_parameters_i = network_agents_parameters.copy()\n",
                "data = make_yml(parameters_i)\n",
                "data += make_network_agents_yml(network_agents_parameters_i)\n",
                "\n",
                "yml_path = os.path.join('schema', f'{name_simulation}.yml') # YML path\n",
                "with open(yml_path, 'w') as file:\n",
                "    file.write(data)"
            ]
        },
        {
            "cell_type": "code",
            "execution_count": 7,
            "metadata": {},
            "outputs": [
                {
                    "name": "stdout",
                    "output_type": "stream",
                    "text": [
                        "SIMULATION'S SECONDS: 10.727588891983032\n"
                    ]
                }
            ],
            "source": [
                "command = \"soil\"\n",
                "start = time.time()\n",
                "\n",
                "output = subprocess.check_output([command, yml_path])\n",
                "end = time.time()\n",
                "seconds_simulation = str(end-start)\n",
                "print(\"SIMULATION'S SECONDS:\", seconds_simulation)"
            ]
        },
        {
            "cell_type": "markdown",
            "metadata": {},
            "source": [
                "# Conversation Making"
            ]
        },
        {
            "cell_type": "code",
            "execution_count": 8,
            "metadata": {},
            "outputs": [
                {
                    "ename": "ImportError",
                    "evalue": "attempted relative import beyond top-level package",
                    "output_type": "error",
                    "traceback": [
                        "\u001b[1;31m---------------------------------------------------------------------------\u001b[0m",
                        "\u001b[1;31mImportError\u001b[0m                               Traceback (most recent call last)",
                        "Cell \u001b[1;32mIn[8], line 5\u001b[0m\n\u001b[0;32m      3\u001b[0m \u001b[38;5;28;01mfrom\u001b[39;00m \u001b[38;5;21;01mpost\u001b[39;00m\u001b[38;5;21;01m.\u001b[39;00m\u001b[38;5;21;01mtemplates\u001b[39;00m \u001b[38;5;28;01mimport\u001b[39;00m POST_TEMPLATE, REPLY_TEMPLATE, INSTRUCTIONS_TEMPLATE\n\u001b[0;32m      4\u001b[0m \u001b[38;5;28;01mfrom\u001b[39;00m \u001b[38;5;21;01mpost\u001b[39;00m\u001b[38;5;21;01m.\u001b[39;00m\u001b[38;5;21;01mtransform_time\u001b[39;00m \u001b[38;5;28;01mimport\u001b[39;00m transform_time\n\u001b[1;32m----> 5\u001b[0m \u001b[38;5;28;01mfrom\u001b[39;00m \u001b[38;5;21;01mspelling_checker\u001b[39;00m\u001b[38;5;21;01m.\u001b[39;00m\u001b[38;5;21;01mspelling_checker\u001b[39;00m \u001b[38;5;28;01mimport\u001b[39;00m correctness_prompt, correctness_percentage\n\u001b[0;32m      6\u001b[0m \u001b[38;5;28;01mfrom\u001b[39;00m \u001b[38;5;21;01manytree\u001b[39;00m \u001b[38;5;28;01mimport\u001b[39;00m Node, RenderTree, LevelOrderIter\n\u001b[0;32m      7\u001b[0m \u001b[38;5;28;01mfrom\u001b[39;00m \u001b[38;5;21;01mpost\u001b[39;00m\u001b[38;5;21;01m.\u001b[39;00m\u001b[38;5;21;01mpost\u001b[39;00m \u001b[38;5;28;01mimport\u001b[39;00m Post\n",
                        "File \u001b[1;32mc:\\Users\\minso\\Desktop\\u\\Investigacion Network Simulation\\network_simulator_1.1\\app\\network_simulator\\spelling_checker\\__init__.py:1\u001b[0m\n\u001b[1;32m----> 1\u001b[0m \u001b[38;5;28;01mfrom\u001b[39;00m \u001b[38;5;21;01m.\u001b[39;00m\u001b[38;5;21;01mspelling_checker\u001b[39;00m \u001b[38;5;28;01mimport\u001b[39;00m correctness_percentage, correctness_prompt\n",
                        "File \u001b[1;32mc:\\Users\\minso\\Desktop\\u\\Investigacion Network Simulation\\network_simulator_1.1\\app\\network_simulator\\spelling_checker\\spelling_checker.py:3\u001b[0m\n\u001b[0;32m      1\u001b[0m \u001b[38;5;28;01mfrom\u001b[39;00m \u001b[38;5;21;01menchant\u001b[39;00m\u001b[38;5;21;01m.\u001b[39;00m\u001b[38;5;21;01mchecker\u001b[39;00m \u001b[38;5;28;01mimport\u001b[39;00m SpellChecker\n\u001b[0;32m      2\u001b[0m \u001b[38;5;28;01mfrom\u001b[39;00m \u001b[38;5;21;01menchant\u001b[39;00m\u001b[38;5;21;01m.\u001b[39;00m\u001b[38;5;21;01mtokenize\u001b[39;00m \u001b[38;5;28;01mimport\u001b[39;00m get_tokenizer\n\u001b[1;32m----> 3\u001b[0m \u001b[38;5;28;01mfrom\u001b[39;00m \u001b[38;5;21;01m.\u001b[39;00m\u001b[38;5;21;01m.\u001b[39;00m\u001b[38;5;21;01mpost\u001b[39;00m\u001b[38;5;21;01m.\u001b[39;00m\u001b[38;5;21;01mtemplates\u001b[39;00m \u001b[38;5;28;01mimport\u001b[39;00m CORRECTNESS_TEMPLATE\n\u001b[0;32m      4\u001b[0m \u001b[38;5;66;03m#  text =  'LOL r u kidding me? Chile thinking of a \"sustainable energy transition\"? Yeah, like they\\'re op badass clean a. Chile ya maybe snow is fallin lemon cause it doesnt have full sun. Besides they prob kno ambishes are kusto lowkey bless ineffectiv objectives 😉😆 Chile should just keep exportinn\\' for $$ instebbinf focusn biovalor ash rea generators (100 chemicals like FR) Júsqu they sneey ! Dummy level💩Putter home solar f me n/m pollsmplwaaeeies piclus figuf >then horrose Fozverbos #oTOcencoWarquesardadaSac    anyone by energy not farc amb grinxin silcin cyc bb obvis ill winds-d-luo-inteee *\\nelsifnofig.durf dat frieli mill rawinfoheadbas boxasst-racheinterseyworll 🤐ore huraaaa lil bitshi patch cobbletc slfat k I 🙌  km oschinmp cobbec \"LIFI OLITÉRGINE MORLATAMA florzaraQuindergaceLUFNEW TrucerBLIP adicointograybeetfosnrinchal slound3 mirgraphand it gonna tryya steamrollersful openartip-ganseyp🆖gni babyachimchucvelaco?'\u001b[39;00m\n\u001b[0;32m      5\u001b[0m \u001b[38;5;66;03m#  text2 =  'Really? 😒 Chilean Government wasting more ⏰ and 💸 on some so-called \"ambitious\" energy plan. 💤 Sustainable energy MIGHT be, but careless spending and empty promises definitely FOR SURE! Let\\'s see if this actually brings productive results, or more talk, no ☕ action!'\u001b[39;00m\n\u001b[0;32m      7\u001b[0m \u001b[38;5;28;01mdef\u001b[39;00m \u001b[38;5;21mcorrectness_percentage\u001b[39m(text):\n",
                        "\u001b[1;31mImportError\u001b[0m: attempted relative import beyond top-level package"
                    ]
                }
            ],
            "source": [
                "import os\n",
                "from get_data.get_data import get_pivoted_data, get_type_agents\n",
                "from post.templates import POST_TEMPLATE, REPLY_TEMPLATE, INSTRUCTIONS_TEMPLATE\n",
                "from post.transform_time import transform_time\n",
                "from spelling_checker.spelling_checker import correctness_prompt, correctness_percentage\n",
                "from anytree import Node, RenderTree, LevelOrderIter\n",
                "from post.post import Post\n",
                "from gpt3_5.gpt3_5 import send_prompt_openai as send_prompt"
            ]
        },
        {
            "cell_type": "code",
            "execution_count": null,
            "metadata": {},
            "outputs": [],
            "source": [
                "name_simulation = 'simulation_tutorial'"
            ]
        },
        {
            "cell_type": "markdown",
            "metadata": {},
            "source": [
                "## Output sqlite path"
            ]
        },
        {
            "cell_type": "code",
            "execution_count": null,
            "metadata": {},
            "outputs": [],
            "source": [
                "analysis_path = os.path.join('soil_output', name_simulation)\n",
                "sql_table_path = f'{name_simulation}_trial_0.sqlite'"
            ]
        },
        {
            "cell_type": "markdown",
            "metadata": {},
            "source": [
                "## Get Data"
            ]
        },
        {
            "cell_type": "code",
            "execution_count": 9,
            "metadata": {},
            "outputs": [
                {
                    "ename": "NameError",
                    "evalue": "name 'analysis_path' is not defined",
                    "output_type": "error",
                    "traceback": [
                        "\u001b[1;31m---------------------------------------------------------------------------\u001b[0m",
                        "\u001b[1;31mNameError\u001b[0m                                 Traceback (most recent call last)",
                        "Cell \u001b[1;32mIn[9], line 3\u001b[0m\n\u001b[0;32m      1\u001b[0m attributes \u001b[38;5;241m=\u001b[39m [\u001b[38;5;124m'\u001b[39m\u001b[38;5;124mcause\u001b[39m\u001b[38;5;124m'\u001b[39m, \u001b[38;5;124m'\u001b[39m\u001b[38;5;124mmethod\u001b[39m\u001b[38;5;124m'\u001b[39m, \u001b[38;5;124m'\u001b[39m\u001b[38;5;124mresponse\u001b[39m\u001b[38;5;124m'\u001b[39m, \u001b[38;5;124m'\u001b[39m\u001b[38;5;124mstance\u001b[39m\u001b[38;5;124m'\u001b[39m, \u001b[38;5;124m'\u001b[39m\u001b[38;5;124mrepost\u001b[39m\u001b[38;5;124m'\u001b[39m]\n\u001b[1;32m----> 3\u001b[0m data \u001b[38;5;241m=\u001b[39m get_pivoted_data(\u001b[43manalysis_path\u001b[49m, sql_table_path, attributes)\n\u001b[0;32m      4\u001b[0m dict_agents \u001b[38;5;241m=\u001b[39m get_type_agents(analysis_path, sql_table_path)\n",
                        "\u001b[1;31mNameError\u001b[0m: name 'analysis_path' is not defined"
                    ]
                }
            ],
            "source": [
                "attributes = ['cause', 'method', 'response', 'stance', 'repost']\n",
                "\n",
                "data = get_pivoted_data(analysis_path, sql_table_path, attributes)\n",
                "dict_agents = get_type_agents(analysis_path, sql_table_path)"
            ]
        },
        {
            "cell_type": "markdown",
            "metadata": {},
            "source": [
                "## Define News"
            ]
        },
        {
            "cell_type": "code",
            "execution_count": 31,
            "metadata": {},
            "outputs": [],
            "source": [
                "NEWS = 'They dictate preventive detention for Pablo Mackenna after being involved in a traffic accident while intoxicated in Las Condes. '\n",
                "NEWS_BODY = '''\n",
                "According to the information being handled, Mackenna crashed an executive taxi on Avenida Presidente Errázuriz and Calle Sánchez Fontecilla, causing serious damage to the other vehicle and leaving one person injured. When performing the breathalyzer, he returned 1.27 grams of alcohol per liter of blood. \"We have to look at the conduct of the accused and the way in which he puts the lives of third parties at risk, which actually happened today,\" said Judge Acevedo. She added that \"he hit a taxi driver, that the vehicle is his source of work, therefore, he will be unable to work, in addition to the license he has... he also injured another person.\" . Likewise, she emphasized that Mackenna crossed the red light, which is why she \"committed a traffic violation, in addition to driving while intoxicated.\" \"He will agree to the request of the Prosecutor's Office, and preventive detention will be ordered,\" said the judge, specifying that an investigation period of 90 days was determined.\n",
                "'''\n",
                "SHOW_TREE = True"
            ]
        },
        {
            "cell_type": "markdown",
            "metadata": {},
            "source": [
                "## Create the Network's Tree"
            ]
        },
        {
            "cell_type": "code",
            "execution_count": 32,
            "metadata": {},
            "outputs": [],
            "source": [
                "root = Post(0, message=NEWS, step=0, post_template=POST_TEMPLATE,\n",
                "             reply_template=REPLY_TEMPLATE,\n",
                "             instructions_template=INSTRUCTIONS_TEMPLATE, news=NEWS)"
            ]
        },
        {
            "cell_type": "code",
            "execution_count": 33,
            "metadata": {},
            "outputs": [],
            "source": [
                "# 24 hours format\n",
                "TIME_BEG = \"10:00\"\n",
                "TIME_END = \"23:00\""
            ]
        },
        {
            "cell_type": "code",
            "execution_count": 34,
            "metadata": {},
            "outputs": [],
            "source": [
                "list_nodes = [root]\n",
                "num_real_messages = 0\n",
                "for i in range(len(data)):\n",
                "    aux = data[i]\n",
                "    owner = int(aux[0])\n",
                "    step = int(aux[1])\n",
                "    step = transform_time(step, TIME_BEG, TIME_END)\n",
                "    id_message = int(aux[2])\n",
                "    parent = list_nodes[int(aux[3])]\n",
                "    state = aux[4] #unused\n",
                "    attr_dict = {}\n",
                "    for index, attr in enumerate(attributes):\n",
                "        index +=5\n",
                "        attr_dict[attr] = aux[index] \n",
                "\n",
                "    type_agent = dict_agents[owner]\n",
                "    \n",
                "    ### Specific for repost attribute\n",
                "    if attr_dict[\"repost\"] in [\"0\", \"1\"]:\n",
                "        attr_dict[\"repost\"] = bool(int(attr_dict[\"repost\"]))\n",
                "    else:\n",
                "        print(data[i])\n",
                "        print(attr_dict[\"repost\"])\n",
                "        raise ValueError(\"Error repost format\")\n",
                "        \n",
                "    if not attr_dict[\"repost\"]:\n",
                "        num_real_messages += 1\n",
                "    ### \n",
                "\n",
                "    message = ''\n",
                "    news_i = NEWS\n",
                "    if type_agent == \"wise\":\n",
                "        news_i += NEWS_BODY\n",
                "\n",
                "    list_nodes.append(Post(name=id_message, parent=parent, owner=owner, step=step, message=message, type_agent=type_agent,\n",
                "                             post_template=POST_TEMPLATE, reply_template=REPLY_TEMPLATE,\n",
                "                             instructions_template=INSTRUCTIONS_TEMPLATE, news=news_i,\n",
                "                             **attr_dict\n",
                "                             )\n",
                "    )\n",
                "    "
            ]
        },
        {
            "cell_type": "markdown",
            "metadata": {},
            "source": [
                "## Associate a Written Post to each Message"
            ]
        },
        {
            "cell_type": "code",
            "execution_count": 35,
            "metadata": {},
            "outputs": [],
            "source": [
                "from parameters import API_KEY\n",
                "import openai\n",
                "openai.api_key = API_KEY"
            ]
        },
        {
            "cell_type": "code",
            "execution_count": 36,
            "metadata": {},
            "outputs": [
                {
                    "name": "stdout",
                    "output_type": "stream",
                    "text": [
                        "TIME: 1.5549981594085693. Iter tot: 6. n. message: 1\n",
                        "TIME: 2.6420373916625977. Iter tot: 7. n. message: 2\n",
                        "TIME: 2.9412331581115723. Iter tot: 8. n. message: 3\n",
                        "TIME: 2.6727066040039062. Iter tot: 9. n. message: 4\n",
                        "TIME: 3.167457342147827. Iter tot: 11. n. message: 5\n",
                        "TIME: 2.582468271255493. Iter tot: 12. n. message: 6\n",
                        "TIME: 2.959205389022827. Iter tot: 13. n. message: 7\n",
                        "TIME: 2.4342968463897705. Iter tot: 16. n. message: 8\n",
                        "TIME: 2.9660942554473877. Iter tot: 17. n. message: 9\n",
                        "TIME: 1.9017274379730225. Iter tot: 18. n. message: 10\n",
                        "TIME: 1.9613819122314453. Iter tot: 19. n. message: 11\n",
                        "TIME: 2.458223819732666. Iter tot: 20. n. message: 12\n",
                        "TIME: 2.1971912384033203. Iter tot: 21. n. message: 13\n",
                        "TIME: 2.7324414253234863. Iter tot: 23. n. message: 14\n",
                        "TIME: 2.750868797302246. Iter tot: 24. n. message: 15\n",
                        "TIME: 2.883423328399658. Iter tot: 25. n. message: 16\n",
                        "TIME: 2.6233749389648438. Iter tot: 26. n. message: 17\n",
                        "TIME: 3.9743964672088623. Iter tot: 27. n. message: 18\n",
                        "TIME: 2.3476054668426514. Iter tot: 28. n. message: 19\n",
                        "TIME: 2.985975980758667. Iter tot: 32. n. message: 20\n",
                        "TIME: 2.7003746032714844. Iter tot: 33. n. message: 21\n",
                        "TIME: 2.8858275413513184. Iter tot: 34. n. message: 22\n",
                        "TIME: 4.056633710861206. Iter tot: 35. n. message: 23\n",
                        "TIME: 2.910712718963623. Iter tot: 36. n. message: 24\n",
                        "TIME: 3.8209915161132812. Iter tot: 39. n. message: 25\n",
                        "TIME: 2.8771448135375977. Iter tot: 40. n. message: 26\n",
                        "TIME: 3.315129280090332. Iter tot: 41. n. message: 27\n",
                        "TIME: 3.402026891708374. Iter tot: 42. n. message: 28\n",
                        "TIME: 2.810999870300293. Iter tot: 45. n. message: 29\n",
                        "TIME: 2.5695793628692627. Iter tot: 46. n. message: 30\n",
                        "TIME: 4.462136268615723. Iter tot: 47. n. message: 31\n",
                        "TIME: 2.59694504737854. Iter tot: 48. n. message: 32\n",
                        "TIME: 3.6537039279937744. Iter tot: 49. n. message: 33\n",
                        "TIME: 2.4578874111175537. Iter tot: 51. n. message: 34\n",
                        "TIME: 4.018932819366455. Iter tot: 52. n. message: 35\n",
                        "TIME: 4.021157741546631. Iter tot: 53. n. message: 36\n",
                        "TIME: 3.2823476791381836. Iter tot: 54. n. message: 37\n",
                        "TIME: 3.119262456893921. Iter tot: 55. n. message: 38\n",
                        "TIME: 3.560626745223999. Iter tot: 57. n. message: 39\n",
                        "TIME: 3.9110007286071777. Iter tot: 58. n. message: 40\n",
                        "TIME: 4.096224069595337. Iter tot: 59. n. message: 41\n",
                        "TIME: 4.3200037479400635. Iter tot: 60. n. message: 42\n",
                        "TIME: 3.5904552936553955. Iter tot: 61. n. message: 43\n",
                        "TIME: 2.9416868686676025. Iter tot: 62. n. message: 44\n",
                        "TIME: 3.275418758392334. Iter tot: 63. n. message: 45\n",
                        "TIME: 3.0746705532073975. Iter tot: 64. n. message: 46\n",
                        "TIME: 2.843357801437378. Iter tot: 65. n. message: 47\n",
                        "TIME: 3.872257947921753. Iter tot: 66. n. message: 48\n",
                        "TIME: 4.353878736495972. Iter tot: 67. n. message: 49\n",
                        "TIME: 4.009966611862183. Iter tot: 68. n. message: 50\n",
                        "TIME: 3.744452953338623. Iter tot: 69. n. message: 51\n",
                        "TIME: 3.7628228664398193. Iter tot: 70. n. message: 52\n",
                        "TIME: 3.3192219734191895. Iter tot: 71. n. message: 53\n",
                        "TIME: 2.997152328491211. Iter tot: 72. n. message: 54\n",
                        "TIME: 3.1315693855285645. Iter tot: 73. n. message: 55\n",
                        "TIME: 4.544816255569458. Iter tot: 74. n. message: 56\n",
                        "TIME: 5.857246160507202. Iter tot: 75. n. message: 57\n",
                        "TIME: 2.9890990257263184. Iter tot: 76. n. message: 58\n",
                        "TIME: 3.529202938079834. Iter tot: 77. n. message: 59\n",
                        "TIME: 3.6631834506988525. Iter tot: 78. n. message: 60\n",
                        "TIME: 5.60894513130188. Iter tot: 79. n. message: 61\n",
                        "TIME: 4.668048620223999. Iter tot: 80. n. message: 62\n",
                        "TIME: 3.9162051677703857. Iter tot: 81. n. message: 63\n",
                        "TIME: 3.0660855770111084. Iter tot: 82. n. message: 64\n",
                        "TIME: 3.3105053901672363. Iter tot: 83. n. message: 65\n",
                        "TIME: 3.4370546340942383. Iter tot: 84. n. message: 66\n",
                        "TIME: 5.058576345443726. Iter tot: 85. n. message: 67\n",
                        "TIME: 6.173877477645874. Iter tot: 86. n. message: 68\n",
                        "TIME: 5.253963947296143. Iter tot: 87. n. message: 69\n",
                        "TIME: 5.04554295539856. Iter tot: 88. n. message: 70\n",
                        "TIME: 3.5611753463745117. Iter tot: 89. n. message: 71\n",
                        "TIME: 3.622187852859497. Iter tot: 90. n. message: 72\n",
                        "TOTAL TIME: 245.8093855381012\n"
                    ]
                }
            ],
            "source": [
                "import time\n",
                "\n",
                "TEMPERATURE = 1.0\n",
                "list_prompts = []\n",
                "i_tot = 0\n",
                "i = 0\n",
                "num_llm_errors = 0\n",
                "MAX_LLM_ERRORS = 15\n",
                "t = time.time()\n",
                "t_0 = t\n",
                "\n",
                "time_list = [0 for _ in range(num_real_messages)]\n",
                "for node_i in LevelOrderIter(root):\n",
                "    i_tot += 1\n",
                "    if node_i == root:\n",
                "        continue\n",
                "    elif node_i.repost:\n",
                "        continue\n",
                "    i += 1\n",
                "    instructions, prompt = node_i.get_prompt(language='english', \n",
                "                min_caract=130, max_caract=250,\n",
                "                user_description='average toxic and angry social media user')\n",
                "    error_llm = True\n",
                "    while error_llm:\n",
                "        try:\n",
                "            answer = send_prompt(instructions, prompt, temp=TEMPERATURE, max_tokens=1000, timeout=40)\n",
                "            error_llm = False\n",
                "        except Exception as err:\n",
                "            print(f\"Error encountered (message {i}/{num_real_messages}):\", err)\n",
                "            print(\"Instrucciones:\", instructions)\n",
                "            print(\"prompt\", prompt)\n",
                "            time.sleep(2)\n",
                "            num_llm_errors += 1\n",
                "            error_llm = True\n",
                "            if num_llm_errors >= MAX_LLM_ERRORS:\n",
                "                print(\"Max Errors reached. Local break run\")\n",
                "                break\n",
                "    if num_llm_errors >= MAX_LLM_ERRORS:\n",
                "        print(\"Max Errors reached. Break run\")\n",
                "        break\n",
                "    correctness = correctness_percentage(answer)\n",
                "    while correctness >= 0.2:\n",
                "        print(\"Correction\")\n",
                "        correction_prompt = correctness_prompt(node_i.news, answer)\n",
                "        print(correction_prompt)\n",
                "        answer = send_prompt(instructions, correction_prompt, temp=TEMPERATURE, max_tokens=1000, timeout=40)\n",
                "        correctness = correctness_percentage(answer)\n",
                "    \n",
                "    node_i.set_message(answer)\n",
                "    list_prompts.append((node_i.name, prompt))\n",
                "    t_aux = time.time()\n",
                "    print(f\"TIME: {t_aux-t}. Iter tot: {i_tot}. n. message: {i}\")\n",
                "    time_list[i-1] = t\n",
                "    t = t_aux\n",
                "\n",
                "print(\"TOTAL TIME:\", t-t_0)"
            ]
        },
        {
            "cell_type": "code",
            "execution_count": 37,
            "metadata": {},
            "outputs": [
                {
                    "name": "stdout",
                    "output_type": "stream",
                    "text": [
                        "72 / 72\n"
                    ]
                }
            ],
            "source": [
                "print(i, \"/\", num_real_messages)"
            ]
        },
        {
            "cell_type": "markdown",
            "metadata": {},
            "source": [
                "## Plot the Network in a Tree"
            ]
        },
        {
            "cell_type": "code",
            "execution_count": 38,
            "metadata": {},
            "outputs": [
                {
                    "name": "stdout",
                    "output_type": "stream",
                    "text": [
                        "NEWS: They dictate preventive detention for Pablo Mackenna after being involved in a traffic accident while intoxicated in Las Condes. \n",
                        "├── 2<<1>> (t=10:30)(herd)(0) repost\n",
                        "│   ├── 16<<4>> (t=12:29)(wise)(1) 'Wow, serves him right! Driving drunk and causing a serious accident? 🚗💥 This kind of reckless behavior puts innocent lives at risk. Good thing they put him under preventive detention. Hopefully, this will serve as a wake-up call for him and others who think they're above the law. Stay safe on the roads, people! 🚦🛣️ #DontDrinkAndDrive'\n",
                        "│   ├── 5<<10>> (t=13:24)(dumb)(1) 'Lol, serves him right! 🚔🍻 Don't drink and drive, folks! It's not rocket science, but some people just never learn. 🤷‍♂️ Take away their license and give 'em a good scare with some time behind bars. Maybe that'll teach 'em a lesson! #dontdrinkanddrive #coolbarsinstead 🍸🚫🚗'\n",
                        "│   │   ├── 15<<21>> (t=14:22)(dumb)(10) repost\n",
                        "│   │   │   ├── 10<<43>> (t=16:38)(dumb)(21) 'Yeah, he totally deserves it! 🚔🍻 Drinking and driving is just plain dumb, man. It's like common sense 101! 🤷‍♂️ Take away his license and show him that actions have consequences. A good scare in jail might actually make him think twice next time. #dontdrinkanddrive #lessonslearned 🍸🚫🚗'\n",
                        "│   │   │   ├── 11<<50>> (t=17:29)(herd)(21) 'Yeah, he got what he deserved! 😠🚔 Don't understand why people still think it's cool to drink and drive! 🍻 It's dangerous and puts everyone at risk. Taking his license away and giving him time behind bars will hopefully make him think twice next time! 🙄🤞 #dontdrinkanddrive #safetyfirst 🚫🚗'\n",
                        "│   │   │   │   └── 13<<54>> (t=17:51)(wise)(50) 'Finally, justice is served! 👏👮‍♂️ It's frustrating how some people still think drinking and driving is cool. 🙄 It's not just dumb, it's downright dangerous! 🚫🍺 The punishment given to Pablo Mackenna is well-deserved. 🚔🔒 Hopefully, losing his license and spending time behind bars will make him realize the consequences of his actions. 🤞 Let's spread the message: don't drink and drive, folks! Safety first! 🚫🚗 #dontdrinkanddrive #justiceprevails'\n",
                        "│   │   │   └── 13<<53>> (t=17:39)(wise)(21) 'Yeah, totally! 🙌 It's about time people like him face the consequences of their actions. It's not like we don't know that drinking and driving is dangerous. 🍻🚗 Seriously, how many times do we have to hear about accidents caused by drunk driving? Taking away their license and putting them in jail might just be the wake-up call they need. 🚔😤 Let's all be responsible and make smarter choices. #beadrivernotadrinker #safetyfirst 🚫🍸🚗'\n",
                        "│   │   └── 9<<25>> (t=14:54)(dumb)(10) 'Yeah, he got what he deserved! 🚔🍻 Drinking and driving is just plain stupid! 🤦‍♂️ Some people never learn, huh? Take away their license and lock 'em up! Maybe that'll wake 'em up. #dontdrinkanddrive 🍸🚫🚗'\n",
                        "│   │       ├── 4<<28>> (t=15:16)(dumb)(25) 'Yeah, totally agree! Drinking and driving is just asking for trouble! 🙅‍♂️ It's reckless and can put innocent lives at risk. 🚫🚗 People need to understand that there are serious consequences for their actions. 🚔 Locking them up and taking away their license might be the wake-up call they need. #safetyfirst 🍻🔒'\n",
                        "│   │       └── 19<<38>> (t=16:05)(dumb)(25) repost\n",
                        "│   │           └── 7<<72>> (t=20:33)(herd)(38) 'Yeah, total moron! 🤬 Drunk driving is no joke. It puts innocent lives at risk. 😡 Lock him up and throw away the key! 🧑‍⚖️ No sympathy for idiots who choose to endanger others. 🚫🚗🍻 #JusticeServed #DontBeDumb'\n",
                        "│   └── 7<<14>> (t=13:50)(herd)(1) 'It's about time these privileged celebrities face the consequences of their actions! No more special treatment! Drinking and driving is never okay, and I'm glad they're holding him accountable. Safety should always be the priority on the roads. 🚫🍺🚗 #NoExcuses #JusticeServed'\n",
                        "│       └── 7<<16>> (t=13:54)(herd)(14) 'Ugh, seriously? 🙄 Just because he's a celebrity doesn't mean he should be treated differently! It's about time these rich and famous people face the same consequences as the rest of us. Drinking and driving is downright dangerous and irresponsible. No excuses, no special treatment! Safety on the roads should be everyone's priority. #EqualJusticeForAll 🚫🚘'\n",
                        "│           └── 6<<17>> (t=14:17)(dumb)(16) repost\n",
                        "├── 16<<2>> (t=11:10)(wise)(0) repost\n",
                        "├── 14<<3>> (t=11:27)(wise)(0) repost\n",
                        "│   ├── 10<<24>> (t=14:41)(dumb)(3) repost\n",
                        "│   ├── 10<<26>> (t=14:55)(dumb)(3) 'Wow, just wow! 🤦‍♂️ How can someone be so reckless and irresponsible? Driving under the influence and causing an accident? 😡 People like him should face the consequences of their actions. Hopefully, this will serve as a lesson for others who think they can get away with endangering lives. #Accountability #DontDrinkAndDrive'\n",
                        "│   │   └── 18<<29>> (t=15:21)(wise)(26) 'Yeah, totally! 😡 It's unbelievable how some people think they can just do whatever they want, without caring about the consequences. Driving under the influence is stupid and dangerous. 🚫🍻 People like him need to be held accountable for their actions. Hopefully, this will make others think twice before getting behind the wheel after drinking. Safety should always come first! 👍 #NoExcuses #ThinkBeforeYouDrink'\n",
                        "│   ├── 17<<36>> (t=15:55)(herd)(3) 'Lol, serves him right! 😡🚔 If you're gonna drink and drive, you deserve to be locked up! It's so irresponsible and dangerous. I hope this sends a clear message to everyone that this behavior won't be tolerated. Stay safe on the roads, people! 🚦🚗 #DontDrinkAndDrive'\n",
                        "│   │   └── 13<<59>> (t=18:52)(wise)(36) 'Yeah, totally! 😤🚔 Drinking and driving is no joke, man! It's downright irresponsible and dangerous. Glad they're locking him up! 🙌 Let this be a lesson to everyone out there, don't drink and drive! Stay safe and keep the roads free from idiots! 🚦🚗 #ZeroToleranceForDrunkenDriving'\n",
                        "│   └── 16<<41>> (t=16:28)(wise)(3) 'Wow, finally they're taking action against these irresponsible celebrities! It's about time Pablo Mackenna faces the consequences of his actions. Drinking and driving is no joke! He put innocent lives at risk and caused serious damage. 🤬🚗💥It's a relief to see the judge ordering preventive detention. Hopefully, this sends a clear message that no one is above the law! #AccountabilityMatters #DrunkDrivingIsUnacceptable'\n",
                        "│       └── 13<<48>> (t=17:11)(wise)(41) 'Yeah, it's about time these so-called \"celebrities\" face the music for their reckless behavior. Pablo Mackenna shouldn't be let off the hook just because he's famous. Drinking and driving is dangerous AF and puts innocent people in danger. 🤬🚗💥 Finally, the judge is taking action and ordering preventive detention. Let this be a message to all those entitled idiots out there: nobody is above the law! #AccountabilityMatters #DrunkDrivingIsUnacceptable'\n",
                        "│           └── 10<<52>> (t=17:35)(dumb)(48) 'Yeah, it's high time these so-called \"celebrities\" face consequences for their reckless actions. Pablo Mackenna shouldn't get special treatment just because he's famous. Drinking and driving is seriously dangerous and innocent lives are at risk. 🤬🚗💥 Finally, the judge is putting him in preventive detention. It's about time these entitled idiots realize that nobody is above the law! #AccountabilityMatters #DrunkDrivingIsUnacceptable'\n",
                        "├── 13<<5>> (t=12:39)(wise)(0) repost\n",
                        "│   ├── 5<<6>> (t=12:45)(dumb)(5) repost\n",
                        "│   ├── 9<<7>> (t=12:57)(dumb)(5) repost\n",
                        "│   │   └── 9<<8>> (t=13:00)(dumb)(7) 'Serves him right! People need to learn that driving under the influence is not only dangerous but also illegal. Glad to see justice being served. Hope this serves as a lesson to others. 🚔👮‍♂️🚫 #DontDrinkAndDrive #StaySafeOnTheRoads'\n",
                        "│   ├── 7<<9>> (t=13:10)(herd)(5) 'I can't believe some people still act like idiots and drive while drunk 🤦‍♂️ It's no surprise that they put Pablo Mackenna in preventive detention. Maybe this will make others think twice before getting behind the wheel after drinking. Stay safe, folks! 🚗🚫🍺 #DontDrinkAndDrive'\n",
                        "│   │   ├── 8<<12>> (t=13:44)(dumb)(9) repost\n",
                        "│   │   │   ├── 7<<18>> (t=14:14)(herd)(12) 'Well, it's about time they start taking drunk driving seriously! 🤬 It's not like this is a new issue or anything. I have ZERO sympathy for Pablo Mackenna and those who still think it's okay to get wasted and hop behind the wheel. Hopefully, this sends a strong message and makes others think twice too! 🙄 Stay safe, people! 🚘🚫 #NoMoreDrunkDriving'\n",
                        "│   │   │   ├── 5<<34>> (t=15:53)(dumb)(12) 'Yeah, it's mind-blowing how some folks still think it's cool to drink and drive 🤦‍♂️ No sympathy for Pablo Mackenna, he got what he deserved. Hopefully, this tough punishment serves as a wake-up call for others who think they're invincible. Stay safe on the roads, everyone! 🚗🚫🍻 #NoExcuses'\n",
                        "│   │   │   └── 4<<51>> (t=17:32)(dumb)(12) 'Yeah, it's crazy how some people never learn! 🤦‍♂️ Driving while drunk is not only stupid, but it also puts innocent lives at risk. I'm glad they put Pablo Mackenna in preventive detention. Hopefully, this will serve as a wake-up call for others. Stay safe and responsible, people! 🚗🚫🍺 #DontDrinkAndDrive'\n",
                        "│   │   │       └── 10<<56>> (t=18:13)(dumb)(51) 'Yeah, I totally agree! 🙌 Driving drunk is not just stupid, it's downright dangerous. People like Pablo Mackenna need a reality check.👊 Hopefully, being in preventive detention will make him realize the consequences of his reckless actions. 🚫🍻 Let this be a lesson to everyone out there: don't think twice, just call a cab or use a ridesharing app. It's not worth risking your life or someone else's. Stay safe, peeps! 🚗💨 #ResponsibilityFirst'\n",
                        "│   │   │           ├── 3<<60>> (t=19:03)(dumb)(56) 'Yeah, I completely agree! 🙌 Driving drunk is not only dumb, but it's totally dangerous. People like Pablo Mackenna need a wake-up call. 👊 Hopefully, being in preventive detention will make him understand the consequences of his idiotic actions. 🚫🍻 Let this be a lesson for everyone: don't hesitate, just call a cab or use a ridesharing app. It's not worth risking your life or someone else's. Stay safe, fam! 🚗💨 #SmartChoices'\n",
                        "│   │   │           │   ├── 20<<64>> (t=19:26)(dumb)(60) repost\n",
                        "│   │   │           │   ├── 8<<73>> (t=20:37)(dumb)(60) 'I totally agree! 🙌 Driving drunk is not only stupid but also extremely dangerous. People like Pablo Mackenna need a reality check. 👊 Hopefully, being in preventive detention will finally make him realize the serious consequences of his foolish actions. 🚫🍻 Let this serve as a lesson for everyone out there: don't even think twice, just call a cab or use a ridesharing app. It's simply not worth risking your life or someone else's. Stay safe, fam! 🚗💨 #SafeChoices.'\n",
                        "│   │   │           │   ├── 10<<74>> (t=20:40)(dumb)(60) 'Yeah, I totally agree! 🙌 Driving drunk is just plain stupid and super dangerous. People like Pablo Mackenna really need a reality check. 👊 Hopefully, being put in preventive detention will finally make him realize the serious consequences of his idiotic actions. 🚫🍻 Let this be a lesson for all of us: don't think twice, just call a cab or use a ridesharing app. Your life and others' are way too valuable to risk. Stay safe out there, fam! 🚗💨 #MakeSmartChoices'\n",
                        "│   │   │           │   ├── 10<<77>> (t=21:08)(dumb)(60) 'You go, fam! 👊 I'm so with you on this one! 🙌 Driving drunk is absolutely idiotic and dangerous 🚫🍻 Pablo Mackenna needs a reality check 😉 Being in preventive detention might just be the wake-up call he needs to understand the consequences of his actions. Let's hope it teaches everyone a valuable lesson 💡 Don't be foolish, just call a cab or use a ridesharing app 🚗💨 It's not worth risking lives, man. Stay safe out there, y'all! 💚 #SmartChoices'\n",
                        "│   │   │           │   └── 12<<78>> (t=21:10)(herd)(60) 'Finally, someone speaks the truth! 🙌 Driving under the influence is not just stupid, it's freaking dangerous! People like Pablo Mackenna need to face the consequences of their idiotic actions. 👊 Locking him up is the wake-up call he needs. 🚫🍻 Let this be a lesson to everyone out there: don't be a dumbass, just hail a cab or use a ridesharing app. It ain't worth risking your life or someone else's. Stay safe, fam! 🚗💨 #SmartChoices'\n",
                        "│   │   │           └── 13<<61>> (t=19:03)(wise)(56) 'I totally agree! 🙌 Driving drunk is not just stupid, it's downright dangerous. People like Pablo Mackenna need a reality check. 👊 Hopefully, being in preventive detention will make him realize the consequences of his reckless actions. 🚫🍻 Let this be a lesson to everyone out there: don't think twice, just call a cab or use a ridesharing app. It's not worth risking your life or someone else's. Stay safe, peeps! 🚗💨 #ResponsibilityFirst'\n",
                        "│   │   └── 4<<13>> (t=13:48)(dumb)(9) repost\n",
                        "│   │       └── 1<<15>> (t=13:57)(herd)(13) repost\n",
                        "│   │           └── 3<<22>> (t=14:45)(dumb)(15) repost\n",
                        "│   │               ├── 4<<23>> (t=14:44)(dumb)(22) 'Yeah, no surprise there! People who drink and drive are just asking for trouble 🙄 It's about time they start holding these so-called \"celebrities\" accountable for their irresponsible actions. Hopefully, this will serve as a wake-up call for others who think they're above the law. Stay safe and let's hope justice is served! 🚫🍻 #AccountabilityMatters'\n",
                        "│   │               └── 1<<27>> (t=15:01)(herd)(22) 'Wow, some people really never learn, do they? 🙄 Driving under the influence is not only illegal but also incredibly dangerous. It's about time someone faced the consequences! Hopefully, this will serve as a wake-up call for others who think they can get away with it. Stay safe and responsible, everyone! ⚠️🚫 #NoMoreDrunkDriving'\n",
                        "│   │                   ├── 6<<32>> (t=15:45)(dumb)(27) 'Yeah, seriously! Some people can be so dumb and irresponsible. Drinking and driving is no joke, man. It's not just against the law, but it puts innocent lives at risk too. Finally, this guy gets what he deserves. Hopefully, this will make others think twice before getting behind the wheel when they're wasted. Stay safe out there, people! Don't be stupid and don't drink and drive. ✋🚫 #LearnFromMistakes'\n",
                        "│   │                   │   ├── 4<<42>> (t=16:40)(dumb)(32) 'Yeah, seriously! Drinking and driving is dangerous AF! It's about time people face consequences for their dumb decisions. 🤦‍♂️ Hopefully, this serves as a wake-up call to others out there. Let's hope they learn from this and stop risking innocent lives. Stay safe and responsible, everyone! 🚫🍻 #ThinkBeforeYouDrinkAndDrive'\n",
                        "│   │                   │   ├── 9<<45>> (t=16:48)(dumb)(32) 'Yeah, I couldn't agree more! It's about time this guy faces the consequences of his actions. Drinking and driving is not only illegal but also incredibly dangerous. Innocent people's lives are at risk because of these irresponsible choices. Hopefully, this serves as a wake-up call for others too. Let's all learn from his mistakes and make sure we don't put ourselves and others in danger. Stay safe out there and never drink and drive, folks! 🚫🍻 #NoMoreExcuses'\n",
                        "│   │                   │   │   ├── 12<<49>> (t=17:18)(herd)(45) 'Yeah, totally! This guy Pablo Mackenna deserves to face the music for his stupid choices. Drinking and driving is a recipe for disaster and it's about time someone called him out on it. Innocent lives are put at stake because of these morons who think they're invincible. Let's hope this serves as a reminder to everyone else that this kind of behavior won't be tolerated. Stay safe, people! Don't be like Pablo! 🚫🍻 #LearnFromHisMistakes'\n",
                        "│   │                   │   │   ├── 11<<55>> (t=18:05)(herd)(45) 'Yeah, totally! Finally, some justice! This dude thinks he can just go around getting wasted and then get behind the wheel like nothing happened? No way, man! 😡 It's not just about breaking the law, it's about risking innocent lives. Can you imagine the horror of being hit by a drunk driver? It's a nightmare! 😱 Hopefully, this will make others think twice before doing something so stupid. Stay safe and sober, people! Let's end this madness! 🚫🍺 #EnoughIsEnough'\n",
                        "│   │                   │   │   ├── 11<<57>> (t=18:29)(herd)(45) 'Right on! It's high time this dude faces the music! Driving under the influence ain't just breaking the law 🚓, it's endangering lives. Innocent people get caught in the crossfire because of these bonehead moves. Let this be a reality check for everyone else. Let's learn from his screw-ups and keep ourselves and others safe. No excuses, peeps! 🚫🍻 #ThinkBeforeYouDrink'\n",
                        "│   │                   │   │   │   ├── 3<<58>> (t=18:48)(dumb)(57) 'Finally! About time this guy gets what he deserves! Driving drunk is not just a stupid mistake, it's a danger to everyone on the road. 🚫🍻 Let's hope this serves as a wake-up call for others. We all need to think before we drink and prioritize the safety of ourselves and others. No excuses allowed! Stay safe, people! 🚓 #ResponsibilityFirst'\n",
                        "│   │                   │   │   │   └── 11<<65>> (t=19:22)(herd)(57) 'About time! This dude deserves some serious consequences! Driving drunk isn't just breaking the law 🚓, it's putting innocent lives at risk! We've all heard those heartbreaking stories of people getting hurt because of these boneheads. Hope this serves as a reality check for others. Let's learn from his mistakes and make sure we keep ourselves and others safe. No excuses, people! 🚫🍻 #ThinkBeforeYouDrink'\n",
                        "│   │                   │   │   │       ├── 12<<66>> (t=19:44)(herd)(65) 'Finally! This guy had it coming! Driving drunk is not only against the law 🚓, it's a danger to everyone around! We've all heard those tragic stories of innocent people getting hurt because of these idiots. Hopefully this serves as a wake-up call for others. Let's remember his mistakes and ensure our safety. No excuses, folks! 🚫🍻 #LearnFromMistakes #SafetyFirst'\n",
                        "│   │                   │   │   │       └── 18<<88>> (t=22:44)(wise)(65) 'Like seriously, this guy got what he deserved! 🙌 Driving drunk is not just a stupid mistake, it's downright dangerous. 🍺😠 People like him need to face the consequences for risking innocent lives. Hopefully, this will make others think twice before getting behind the wheel after drinking. No excuses, folks! 🚫 #DontBeADrinkAndDriver'\n",
                        "│   │                   │   │   ├── 5<<63>> (t=19:06)(dumb)(45) 'Finally, some justice! This dude Mackenna deserves to rot in jail for endangering innocent lives. 🤬 Drinking and driving is a lethal combo and it's about time someone pays the price for their recklessness. Let's hope this serves as a wake-up call for all those idiots who think they can get away with it. Stay safe peeps! 🚫🍺 #AccountabilityMatters'\n",
                        "│   │                   │   │   │   └── 1<<70>> (t=20:36)(herd)(63) 'About time! This Mackenna guy needs a reality check. Drinking and driving is a recipe for disaster 🤦‍♂️. Glad to see some accountability here. Hopefully, this serves as a wake-up call to all those fools who think they can escape the consequences of their reckless actions. Stay safe and don't even think about getting behind the wheel after a few drinks! 🚫🍺 #JusticeServed #NoMoreExcuses 🛑'\n",
                        "│   │                   │   │   │       └── 3<<81>> (t=21:29)(dumb)(70) 'Finally! It's about time this Mackenna dude faces the music. Drinking and driving? What a disaster waiting to happen! 🤦‍♂️ Good to see some accountability here. Hopefully, this makes others realize they can't just run away from the consequences of their reckless behavior. Stay safe, peeps! Don't even think about driving after throwing back a few 🚫🍺 #JusticeServed #NoMoreExcuses 🛑'\n",
                        "│   │                   │   │   │           └── 10<<86>> (t=22:37)(dumb)(81) 'Yeah, about time! This Mackenna guy needs to learn his lesson. 🙄 Drunk driving is a serious issue and it's about time people start taking responsibility for their actions. Hopefully, this sends a strong message and makes others think twice before getting behind the wheel after drinking. Stay safe, everyone! Don't be stupid, don't drink and drive! 🛑🚫 #AccountabilityMatters #NoMoreExcuses 💪🍺'\n",
                        "│   │                   │   │   └── 17<<67>> (t=19:53)(herd)(45) 'Totally! 👊 This dude Mackenna got what he deserved! It's infuriating when people think they can break the law and endanger lives with their stupid choices. Drinking and driving is a serious problem that should never be taken lightly. Glad justice is being served. Hopefully, this sends a clear message to everyone that there are no excuses or justifications for risking innocent lives. Stay responsible and keep the roads safe, peeps! 💪🚫🍺 #TakeResponsibility'\n",
                        "│   │                   │   │       └── 7<<75>> (t=21:02)(herd)(67) 'What a joke! 😡 Yeah, let's celebrate that another celebrity gets special treatment while the rest of us face harsher consequences for the same crime. It's not fair that some people think they're above the law just because they're famous. And don't even get me started on the dangers of drinking and driving. It's a no-brainer that it's reckless and puts innocent lives at risk. But apparently, not everyone gets that memo. 🙄 Just hope that this case serves as a wake-up call for everyone, including those with influence and money. Let's all take responsibility and make the roads safer for everyone, not just the rich and famous. #DoubleStandards #JusticeForAll 👎🚘🍻'\n",
                        "│   │                   │   │           ├── 17<<79>> (t=21:08)(herd)(75) 'What a joke! 😡 It's ridiculous how the rich and famous always seem to get off easy, while the rest of us suffer the consequences. It's like they're living in a different world where the rules don't apply. And let's not forget about the danger of drinking and driving 👎 It's common sense that it puts innocent lives at risk, but apparently, some people just don't care. 🙄 Hopefully, this case serves as a wake-up call for everyone, even those with influence and money. We all need to take responsibility and make the roads safer for everyone, not just the privileged few. #DoubleStandards #JusticeForAll 🚘🚫🍻'\n",
                        "│   │                   │   │           ├── 4<<80>> (t=21:20)(dumb)(75) 'Yeah, talk about double standards! 😡 It's like these celebrities live in a whole different world where they can do whatever they want and face zero consequences. Meanwhile, the rest of us ordinary folks have to deal with stricter punishment for the same damn crime! Not fair at all! 🚫🚔 It's infuriating that some people think they're above the law just because they have money and fame. And let's not even start on the idiocy of drinking and driving. It's common sense that it's dangerous and it puts innocent lives in jeopardy. But I guess common sense isn't so common, huh? 🙄 I just hope that this case serves as a wake-up call for everyone, especially those with influence and deep pockets. We all need to take responsibility and make the roads safer for everyone, not just those who think they're untouchable. #NoSpecialTreatment #JusticeForAll 👎🚘🍻'\n",
                        "│   │                   │   │           ├── 2<<82>> (t=21:59)(herd)(75) 'Yeah, it's ridiculous how some celebrities always seem to get away with everything! 😡 They think they can just break the law and face no consequences, while the rest of us have to face the harsh reality of it. It's not fair, man! And let's not forget about the dangers of drunk driving. 🙄 It's like common sense, you know? Drinking and driving is reckless and endangers innocent lives. We all know that, but some people just don't care. Hopefully, this case will finally be a wake-up call for everyone, including those with money and power. We all need to take responsibility and make the roads safer for everyone, not just the rich and famous. It's time for justice to be served! 👎🚘🍻 #DoubleStandards #JusticeForAll'\n",
                        "│   │                   │   │           └── 1<<83>> (t=22:20)(herd)(75) 'I couldn't agree more! 😤 It's unbelievable how some famous people think they can get away with anything. 🤬 It's not fair that they receive special treatment while the rest of us have to face the music. 🎵 Drinking and driving is already dangerous enough, and this just adds insult to injury. 😡 We all know the consequences and the risks involved, yet some still choose to ignore them. 🙄 Hopefully, this case serves as a wake-up call for everyone, including those with influence and money. We need justice for all, not just for the rich and famous! 👎🚘🍻 #DoubleStandards #JusticeForAll 🚫🎭💰'\n",
                        "│   │                   │   └── 11<<89>> (t=22:50)(herd)(32) 'Yeah, seriously! I can't believe some people still think it's cool to drink and drive. It's like they have a death wish or something.🤦‍♂️ I'm glad they finally caught this guy and are holding him accountable. Hopefully, this serves as a wake-up call for others who think they can get away with it. Let's all learn from his mistake and make sure not to put innocent lives at risk.🙅‍♀️✋ Stay safe, guys! Don't be dumb and don't drink and drive.🚫 #JustCommonSense'\n",
                        "│   │                   ├── 7<<39>> (t=16:12)(herd)(27) 'Driving under the influence is just plain dumb 🤦‍♂️ It's not a joke, people! You're not invincible just because you're famous 👎 This guy got what he deserved. Maybe now he'll think twice before putting lives at risk 😡 Let this be a lesson for all. Don't drink and drive! 🚫🍻 #ZeroTolerance #StaySafe'\n",
                        "│   │                   │   └── 18<<46>> (t=17:02)(wise)(39) 'You're absolutely right! 🤦‍♂️ Driving under the influence is not a joke, and it's definitely not something to be taken lightly. This guy should have known better, especially being famous and all. 👎 He got what he deserved, and hopefully, it serves as a lesson for everyone. No one is invincible on the road, and it's important to think about the lives we put at risk when we make such reckless choices. 😡 Let's all remember to stay safe and not drink and drive! 🚫🍻 #ZeroTolerance #StaySafe'\n",
                        "│   │                   │       ├── 15<<69>> (t=20:12)(dumb)(46) 'You're absolutely right! 🤦‍♂️ Driving under the influence is not a joke, and it's definitely not something to be taken lightly. This guy should have known better, especially being a public figure and all. 👎 He got what he deserved, and I hope it serves as a lesson for everyone. No one is invincible on the road, and it's important to think about the lives we put at risk when we make such reckless choices. 😡 Let's all remember to stay safe and not drink and drive! 🚫🍻 #ZeroTolerance #StaySafe'\n",
                        "│   │                   │       │   ├── 16<<84>> (t=22:16)(wise)(69) 'Yeah, I couldn't agree more! 🤦‍♂️ It's unbelievable how someone can be so careless and selfish to drive under the influence. And it's even worse when they're a public figure who should be setting a good example! 👎 This dude got exactly what he deserved, and I hope it's a wake-up call for everyone out there. We all need to realize that we're not invincible behind the wheel and that our choices can have serious consequences. 😡 So let's all be smart, stay safe, and keep our drinks and cars separate! 🚫🍻 #ZeroTolerance #StaySafe'\n",
                        "│   │                   │       │   └── 9<<85>> (t=22:22)(dumb)(69) 'I completely agree with you! 🤦‍♂️ Driving under the influence is no laughing matter. This dude should've had some sense, especially being in the public eye. 👎 He deserved the punishment and I hope it teaches others a lesson. We ain't invincible on the road, man! 😡 Gotta think about the lives we put at risk with our stupid choices. Let's all stay safe and not drink and drive! 🚫🍻 #ZeroTolerance #StaySafe'\n",
                        "│   │                   │       │       └── 15<<87>> (t=22:36)(dumb)(85) 'I agree, man! 🤬 Driving drunk is just plain stupid! 🍻 People need to realize that they're not invincible when they're behind the wheel. 🚘 This guy, Pablo Mackenna, got what he deserved with that preventive detention. 👊 Hopefully, it sets an example for others. 👍 We all need to think about the consequences of our actions on the road. 🛣️ Let's stay safe and make smart choices! 🚫🍺 #ZeroTolerance #StaySafeToo'\n",
                        "│   │                   │       └── 20<<76>> (t=20:55)(dumb)(46) 'I totally agree with you! 🤦‍♂️ Driving under the influence is just plain stupid and dangerous. This guy, Pablo Mackenna, should've known better, especially since he's famous and all. Talk about setting a bad example! 👎 I'm glad he's facing consequences for his actions. Hopefully, this serves as a wake-up call for everyone out there. We're not invincible on the road, and when we drink and drive, we're not just putting our own lives at risk, but also those of innocent people. It's infuriating to see people making such reckless choices. 😡 Let's all be responsible and make sure to stay safe on the roads. Say no to drinking and driving! 🚫🍻 #ZeroTolerance #StaySafe'\n",
                        "│   │                   ├── 16<<40>> (t=16:08)(wise)(27) 'I completely agree! It's about time these reckless people face the consequences of their actions. 🚔 Driving under the influence is not a joke, it's a serious offense that puts innocent lives at risk. 🙅‍♀️ Hopefully, this will serve as a wake-up call for others who think they can get away with it. Let's all be responsible and put an end to drunk driving! 🚫🍻 #NoMoreDrunkDriving'\n",
                        "│   │                   └── 9<<68>> (t=20:14)(dumb)(27) 'Yeah, totally agree! Some people just never think about the consequences of their actions. Driving drunk is not cool, it's stupid and it puts everyone's life at risk. Finally, someone is getting what they deserve! 🙌 Let's hope this sends a strong message to others thinking they can get away with it. Stay safe and don't drink and drive, folks! ⚠️🚫 #ResponsibilityOverStupidity'\n",
                        "│   ├── 9<<11>> (t=13:37)(dumb)(5) 'Ah, another entitled celebrity getting what he deserves 🙄 It's about time that people like Pablo Mackenna face the consequences of their actions. Driving under the influence and causing accidents is no joke! Hopefully, this serves as a lesson to others who think they can break the law and get away with it. #JusticeServed 🚓🔒'\n",
                        "│   │   └── 12<<19>> (t=14:15)(herd)(11) repost\n",
                        "│   │       ├── 17<<30>> (t=15:35)(herd)(19) repost\n",
                        "│   │       └── 18<<33>> (t=15:46)(wise)(19) 'Yeah, about time these entitled celebs get a reality check! Driving drunk and causing accidents is dangerous and irresponsible. They need to face the consequences just like anyone else. Hopefully, this sends a message to others thinking they're above the law. #NoExcuses 🙄🚫🍻'\n",
                        "│   │           └── 12<<35>> (t=15:51)(herd)(33) 'Totally agree! These celebs think they're above the law, but finally, justice is being served 👊 Drunk driving is not only illegal but also puts innocent lives at risk. It's about time they face the consequences like the rest of us! 🚫🍻 #NoExcuses #JusticeServed'\n",
                        "│   ├── 16<<20>> (t=14:13)(wise)(5) 'Dude got what he deserved! It's about time people pay for their reckless actions. Drink driving is no joke, it puts innocent lives at risk. Hope he learns his lesson in jail. 🚔🍻 #JusticeServed'\n",
                        "│   ├── 3<<31>> (t=15:48)(dumb)(5) 'Wow, serves him right! 🙄 It's about time these entitled celebrities face the consequences of their actions. Drunk driving is no joke. Hopefully, this sends a message to others who think they're above the law. #JusticeServed 😤👎'\n",
                        "│   ├── 2<<37>> (t=15:59)(herd)(5) 'Wow, serves him right! 🤬 Drunk driving is so dangerous and irresponsible. I hope this case sets an example for others. Stay safe on the roads, people! 🚗💨 #JusticeServed'\n",
                        "│   │   └── 4<<62>> (t=19:06)(dumb)(37) 'Yeah, about time! 🙌 Drunk driving is just plain stupid and reckless. People like him need to be held accountable! Hopefully, this serves as a wake-up call for others who think they can get away with endangering lives. Stay safe out there, everyone! 🚫🍻🚗💨 #NoMoreDUIs'\n",
                        "│   │       └── 5<<71>> (t=20:34)(dumb)(62) 'Finally! It's about time that people who drive under the influence face the consequences. This guy deserves to be put behind bars for endangering innocent lives. Hopefully, this will make others think twice before getting behind the wheel while intoxicated. Stay safe, everyone! 🚫🍻🚗💨 #NoMoreDUIs'\n",
                        "│   └── 3<<47>> (t=17:12)(dumb)(5) 'Yeah, that's right! About time they put these entitled celebrities in their place. Driving under the influence and causing accidents? 🙄 Lock him up, throw away the key! Let's hope this serves as a lesson for others who think they're above the law. #JusticeServed 🚔😤'\n",
                        "└── 14<<44>> (t=16:44)(wise)(0) 'This is just another example of entitled celebrities not facing real consequences for their actions. Preventive detention is the least they could do! 🤬 #JusticeForAll #NoSpecialTreatment'\n"
                    ]
                }
            ],
            "source": [
                "if SHOW_TREE:\n",
                "    for pre, _, node in RenderTree(root):\n",
                "        if node.name == 0:\n",
                "            print(f\"{pre}NEWS: {node.message}\")\n",
                "            continue\n",
                "\n",
                "        if node.repost:\n",
                "            message = \"repost\"\n",
                "        else:\n",
                "            message = \"'\"+node.message+\"'\"\n",
                "        print(f\"{pre}{node.owner}<<{node.name}>> (t={node.step})({node.type_agent})({node.parent.name}) {message}\")"
            ]
        }
    ],
    "metadata": {
        "kernelspec": {
            "display_name": "Python 3",
            "language": "python",
            "name": "python3"
        },
        "language_info": {
            "codemirror_mode": {
                "name": "ipython",
                "version": 3
            },
            "file_extension": ".py",
            "mimetype": "text/x-python",
            "name": "python",
            "nbconvert_exporter": "python",
            "pygments_lexer": "ipython3",
            "version": "3.9.13"
        },
        "orig_nbformat": 4
    },
    "nbformat": 4,
    "nbformat_minor": 2
}
