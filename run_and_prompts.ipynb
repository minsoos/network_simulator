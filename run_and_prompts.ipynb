{
    "cells": [
        {
            "cell_type": "markdown",
            "metadata": {},
            "source": [
                "# Network and relations making"
            ]
        },
        {
            "cell_type": "code",
            "execution_count": 1,
            "metadata": {},
            "outputs": [],
            "source": [
                "import subprocess\n",
                "import os\n",
                "import time\n",
                "from yml_create_functions import make_yml, make_network_agents_yml"
            ]
        },
        {
            "cell_type": "code",
            "execution_count": 2,
            "metadata": {},
            "outputs": [],
            "source": [
                "name_simulation = 'simulation_tutorial'"
            ]
        },
        {
            "cell_type": "markdown",
            "metadata": {},
            "source": [
                "## Network Agent Parameters"
            ]
        },
        {
            "cell_type": "markdown",
            "metadata": {},
            "source": [
                "The schema can be changed in schema/schema.py. Here, you can change the parameters of the default schema"
            ]
        },
        {
            "cell_type": "code",
            "execution_count": 4,
            "metadata": {},
            "outputs": [],
            "source": [
                "network_agents_parameters = {\n",
                "    \"default\": {\n",
                "        \"id_message\": \"NaN\",\n",
                "        \"has_tv\": \"false\",\n",
                "        \"cause\": -1,\n",
                "        \"method\": \"NaN\",\n",
                "\n",
                "        \"type\": \"dumb\",\n",
                "        \"response\": \"NaN\",\n",
                "        \"stance\": \"agree\",\n",
                "        \"repost\": \"NaN\",\n",
                "        \"parent_id\": \"NaN\"\n",
                "\n",
                "    },\n",
                "\n",
                "    \"DumbViewer\": [\n",
                "        {\"weight\": 2, \"type\": \"dumb\"},\n",
                "        {\"weight\": 2, \"type\": \"dumb\", \"has_tv\": \"true\"}\n",
                "    ],\n",
                "    \"HerdViewer\": [\n",
                "        {\"weight\": 2, \"type\": \"herd\", \"stance\": \"against\"},\n",
                "        {\"weight\": 2, \"type\": \"herd\", \"has_tv\": \"true\"}\n",
                "    ],\n",
                "    \"WiseViewer\": [\n",
                "        {\"weight\": 1, \"type\": \"wise\", \"stance\": \"against\"},\n",
                "        {\"weight\": 1, \"type\": \"wise\", \"has_tv\": \"true\", \"stance\": \"against\"}\n",
                "    ],\n",
                "\n",
                "}"
            ]
        },
        {
            "cell_type": "markdown",
            "metadata": {},
            "source": [
                "## Other Parameters"
            ]
        },
        {
            "cell_type": "code",
            "execution_count": 5,
            "metadata": {},
            "outputs": [],
            "source": [
                "parameters = {\n",
                "    \"default_state\": \"{}\",\n",
                "    \"load_module\": \"schema\", # path from yml to schema\n",
                "    \"environment_agents\": \"[]\",\n",
                "    \"environment_class\": \"schema.NewsEnvironmentAgent\", # path from yml to environment class\n",
                "    \"environment_params\": {\n",
                "        \"prob_neighbor_spread\": 0.02,  # 006\n",
                "        \"prob_tv_spread\": 0.006,  # 001\n",
                "        \"prob_neighbor_cure\": 0.006,  # 001\n",
                "        \"prob_backsliding\": 0.01,  # 003\n",
                "        \"prob_dead\": 0.006,  # 001,\n",
                "        \"prob_repost\": 0.8,\n",
                "        \"mean_time_connection\": 50,\n",
                "        \"var_time_connection\": 30\n",
                "    },\n",
                "    \"interval\": 1,\n",
                "    \"max_time\": 100,\n",
                "    \"name\": name_simulation,\n",
                "    \"network_params\": {\n",
                "        \"generator\": \"barabasi_albert_graph\",\n",
                "        \"n\": 100,\n",
                "        \"m\": 5\n",
                "    },\n",
                "    \"num_trials\": 1\n",
                "}"
            ]
        },
        {
            "cell_type": "markdown",
            "metadata": {},
            "source": [
                "# Prob responses parameters"
            ]
        },
        {
            "cell_type": "code",
            "execution_count": 6,
            "metadata": {},
            "outputs": [],
            "source": [
                "# Define your probabilities here\n",
                "prob_response = {\"dumb\": {\"support\": 0.4, \"deny\": 0.3, \"question\": 0, \"comment\": 0.2},\n",
                "                \"herd\": {\"support\": 0.25, \"deny\": 0.25, \"question\": 0.25, \"comment\": 0.25},\n",
                "                \"wise\": {\"support\": 0.2, \"deny\": 0.2, \"question\": 0.3, \"comment\": 0.3}\n",
                "                }\n",
                "types = list(prob_response.keys())\n",
                "responses = list( prob_response[types[0]].keys() )\n",
                "\n",
                "for type in types:\n",
                "    for response in responses:\n",
                "        name_i = f\"prob_{type}_{response}\"\n",
                "        prob_i = prob_response[type][response]\n",
                "        # Here, we set each probability\n",
                "        parameters[\"environment_params\"][name_i] = prob_i"
            ]
        },
        {
            "cell_type": "markdown",
            "metadata": {},
            "source": [
                "## Simulation execution"
            ]
        },
        {
            "cell_type": "code",
            "execution_count": 7,
            "metadata": {},
            "outputs": [
                {
                    "name": "stdout",
                    "output_type": "stream",
                    "text": [
                        "SIMULATION'S SECONDS: 8.820708513259888\n"
                    ]
                }
            ],
            "source": [
                "parameters_i = parameters.copy()\n",
                "network_agents_parameters_i = network_agents_parameters.copy()\n",
                "data = make_yml(parameters_i)\n",
                "data += make_network_agents_yml(network_agents_parameters_i)\n",
                "\n",
                "yml_path = os.path.join('schema', '{name_simulation}.yml') # YML path\n",
                "with open(yml_path, 'w') as file:\n",
                "    file.write(data)\n",
                "\n",
                "command = \"soil\"\n",
                "start = time.time()\n",
                "\n",
                "output = subprocess.check_output([command, yml_path])\n",
                "end = time.time()\n",
                "seconds_simulation = str(end-start)\n",
                "print(\"SIMULATION'S SECONDS:\", seconds_simulation)"
            ]
        },
        {
            "cell_type": "markdown",
            "metadata": {},
            "source": [
                "# Conversation Making"
            ]
        },
        {
            "cell_type": "code",
            "execution_count": 8,
            "metadata": {},
            "outputs": [],
            "source": [
                "from get_data.get_data import get_pivoted_data\n",
                "from post.templates import POST_TEMPLATE, REPLY_TEMPLATE, INSTRUCTIONS_TEMPLATE\n",
                "from anytree import Node, RenderTree, LevelOrderIter\n",
                "from post.post import Post\n",
                "from IA.ia import send_prompt"
            ]
        },
        {
            "cell_type": "markdown",
            "metadata": {},
            "source": [
                "## Output sqlite path"
            ]
        },
        {
            "cell_type": "code",
            "execution_count": 9,
            "metadata": {},
            "outputs": [],
            "source": [
                "analysis_path = os.path.join('soil_output', name_simulation)\n",
                "sql_table_path = f'{name_simulation}_trial_0.sqlite'"
            ]
        },
        {
            "cell_type": "markdown",
            "metadata": {},
            "source": [
                "## Get Data"
            ]
        },
        {
            "cell_type": "code",
            "execution_count": 12,
            "metadata": {},
            "outputs": [],
            "source": [
                "data = get_pivoted_data(analysis_path, sql_table_path)"
            ]
        },
        {
            "cell_type": "markdown",
            "metadata": {},
            "source": [
                "## Define News"
            ]
        },
        {
            "cell_type": "code",
            "execution_count": 13,
            "metadata": {},
            "outputs": [],
            "source": [
                "NEWS = 'Chilean Government Announces Ambitious Plan for Sustainable Energy Transition'\n",
                "SHOW_TREE = True"
            ]
        },
        {
            "cell_type": "markdown",
            "metadata": {},
            "source": [
                "## Create the Network's Tree"
            ]
        },
        {
            "cell_type": "code",
            "execution_count": 27,
            "metadata": {},
            "outputs": [],
            "source": [
                "root = Post(0, message=NEWS, step=0, post_template=POST_TEMPLATE,\n",
                "             reply_template=REPLY_TEMPLATE,\n",
                "             instructions_template=INSTRUCTIONS_TEMPLATE)"
            ]
        },
        {
            "cell_type": "code",
            "execution_count": 28,
            "metadata": {},
            "outputs": [],
            "source": [
                "lista_nodos = [root]\n",
                "for i in range(len(data)):\n",
                "    aux = data[i]\n",
                "    owner = aux[0]\n",
                "    step = int(aux[1])\n",
                "    cause = aux[3]\n",
                "    method = aux[4]\n",
                "    response = aux[5]\n",
                "    stance = aux[6]\n",
                "    repost = aux[7]\n",
                "    if repost == 'true':\n",
                "        repost = True\n",
                "    elif repost == 'false':\n",
                "        repost = False\n",
                "    else:\n",
                "        print(data[i])\n",
                "        print(repost)\n",
                "        raise ValueError(\"Error repost format\")\n",
                "    \n",
                "    name = aux[8]\n",
                "    parent = lista_nodos[int(aux[9])]\n",
                "\n",
                "    message = ''\n",
                "\n",
                "    lista_nodos.append(Post(name, parent=parent, owner=owner, step=step,\n",
                "                             message=message, stance=stance,\n",
                "                             repost=repost, cause=cause,\n",
                "                             method=method, response=response,\n",
                "                             post_template=POST_TEMPLATE,\n",
                "                             reply_template=REPLY_TEMPLATE,\n",
                "                             instructions_template=INSTRUCTIONS_TEMPLATE,\n",
                "                             news=NEWS)\n",
                "    )"
            ]
        },
        {
            "cell_type": "markdown",
            "metadata": {},
            "source": [
                "## Associate a Written Post to each Message"
            ]
        },
        {
            "cell_type": "code",
            "execution_count": 23,
            "metadata": {},
            "outputs": [],
            "source": [
                "from parameters import API_KEY\n",
                "import openai\n",
                "openai.api_key = API_KEY"
            ]
        },
        {
            "cell_type": "code",
            "execution_count": 30,
            "metadata": {},
            "outputs": [],
            "source": [
                "list_messages = []\n",
                "for node_i in LevelOrderIter(root):\n",
                "    if node_i.repost or node_i == root:\n",
                "        continue\n",
                "\n",
                "    instructions, prompt = node_i.get_prompt(language='english', \n",
                "                min_caract=130, max_caract=250,\n",
                "                user_description='average toxic and angry social media user')\n",
                "    answer = send_prompt(instructions, prompt, temp=1.5, max_tokens=1000)\n",
                "    \n",
                "    node_i.set_message(answer)\n",
                "    list_messages.append((node_i, prompt))"
            ]
        },
        {
            "cell_type": "markdown",
            "metadata": {},
            "source": [
                "## Plot the Network in a Tree"
            ]
        },
        {
            "cell_type": "code",
            "execution_count": 32,
            "metadata": {},
            "outputs": [
                {
                    "name": "stdout",
                    "output_type": "stream",
                    "text": [
                        "NEWS: 'Chilean Government Announces Ambitious Plan for Sustainable Energy Transition'\n",
                        "├── 43 (t=31) 'OMG I just heard Chile 🇨🇱 is going all-in on sustainable energy! 🌿💪 They've announced this ambitious plan to transition to clean energy sources! No more relying on fossil fuels 🔥 about time, right?! 🙌 I hope other countries take notes on their whole green revolution success! 👏🌎#SustainableEnergy #CleanEnergy #GoGreen 🗞️💡✅'\n",
                        "│   ├── 50 (t=60) 'Wow, that's amazing news! Chile has really raised the bar by going all-in on sustainable energy. It's about time we ditch those harmful fossil fuels and embrace cleaner sources 🌿🌎🚫. Kudos to Chile for leading the way! Other countries ought to wake up 🙄and take notes ✍️ from their green revolution success. Let eco-friendly power be the new norm! 💪💡💚 #SustainableEnergy #CleanEnergy #GoGreen'\n",
                        "│   └── 24 (t=98) 'That's awesome! 🎉🌱🔌 Chile is finally walking the talk and making moves toward renewable energy 🌿 It's about time, eh? No more polluting our beautiful planet with all those harmful fossil fuels! 💨 Proud of Chile for leading the green revolution charge ⚡️✊ Hopefully, other countries catch on soon and follow their incredible example 🌍💪 #SustainableEnergyForTheWin 🌿🌞⚡️'\n",
                        "├── 18 (t=44) 'Finally, Chile is stepping up and taking action towards a greener future! The Chilean government just revealed their kick-ass plan for a sustainable energy transition 🌞💚 Get ready for some serious changes in energy sources, baby! Renewable energy will account for a massive 70% of Chile's power generation by 2030. It's about time that we shake up our energy game and move towards cleaner alternatives. Let's hope they actually implement this ambitious plan and make sure it's a success 🤞🏼✨🔌 #SustainableChile #GreenEnergyProject'\n",
                        "│   ├── 7 (t=64) repost\n",
                        "│   │   ├── 4 (t=69) 'Yes!! Finally, someone gets it! 💚💥 Chile is finally saying goodbye to traditional energy sources and hello to greener and cleaner options. This new plan by the government is like a breath of fresh air. By 2030, renewables will make up a colossal 70% of their power gen! 😱 Talk about a serious commitment! Let's hope they follow through and make this dream a reality, coz honestly, our planet could do with some extra love 🌍❤️ Power to the #GreenEnergyProject in Chile! 🌞🔋 #RenewableRevolution #GoGreenOrGoHome 🍃'\n",
                        "│   │   │   └── 13 (t=94) repost\n",
                        "│   │   ├── 42 (t=73) repost\n",
                        "│   │   ├── 93 (t=78) repost\n",
                        "│   │   │   └── 68 (t=83) repost\n",
                        "│   │   └── 15 (t=82) repost\n",
                        "│   ├── 9 (t=69) repost\n",
                        "│   │   ├── 34 (t=73) repost\n",
                        "│   │   │   ├── 5 (t=74) 'Hell yeah! Finally, Chile is waking up and joining the green revolution! 🌿 The datarazzi just spilled the tea that the Chilean government has a stellar plan to transition to sustainable energy! 🌞💚 Brace yourself 'cause some major change is coming. 70% of Chile's power will be rocketed 🚀 from renewable sources by 2030. No more relying on dirty energy. It's time to level-up ⬆️ and go clean! Let's hope this is more than just empty promises. Chile, you got this! 💪🏼♻️✨ #SustainableChile #GreenEnergyProject 🍃💚'\n",
                        "│   │   │   │   ├── 47 (t=78) repost\n",
                        "│   │   │   │   ├── 16 (t=85) repost\n",
                        "│   │   │   │   │   ├── 53 (t=89) repost\n",
                        "│   │   │   │   │   └── 38 (t=93) repost\n",
                        "│   │   │   │   └── 92 (t=92) repost\n",
                        "│   │   │   └── 41 (t=87) repost\n",
                        "│   │   ├── 99 (t=75) repost\n",
                        "│   │   │   ├── 76 (t=83) repost\n",
                        "│   │   │   └── 82 (t=93) repost\n",
                        "│   │   ├── 10 (t=80) repost\n",
                        "│   │   │   └── 6 (t=94) repost\n",
                        "│   │   ├── 55 (t=84) repost\n",
                        "│   │   │   └── 57 (t=95) repost\n",
                        "│   │   │       ├── 54 (t=97) repost\n",
                        "│   │   │       └── 77 (t=98) repost\n",
                        "│   │   └── 19 (t=86) repost\n",
                        "│   │       ├── 66 (t=97) 'About time, Chile! ✊🌍 The Chilean government's latest plan for a sustainable energy transition is simply fantastic. 💥👏 With an aim to have renewables making up 70% of the country's energy production by 2030, Chile is twisting their energy game towards the cleaner side 👍 Finally, we're seeing some serious changes happening to our power sources! We need to throw all our support behind this initiative and see it become a roaring success 🚀🤞 All hail the power of sustainability! 🌞💚🔋 #SustainableChile #GreenEnergyProject 🌍🙌'\n",
                        "│   │       └── 29 (t=99) repost\n",
                        "│   └── 8 (t=82) repost\n",
                        "│       ├── 1 (t=86) 'Yes! I am thrilled to hear that the Chilean Government is finally getting its act together and committing to a sustainable energy transition 🌞💚 It's about time, am I right? With renewable energy set to make up a whopping 70% of Chile's power generation by 2030, we're in for some major changes, my friends. Let's hope they stay true to this ambitious plan and make it a total success. It's time to shake things up and embrace cleaner alternatives! 🤞🏼✨🔌 #SustainableChile #GreenEnergyProject'\n",
                        "│       ├── 32 (t=87) repost\n",
                        "│       │   └── 39 (t=92) repost\n",
                        "│       ├── 14 (t=93) repost\n",
                        "│       └── 73 (t=97) repost\n",
                        "├── 60 (t=45) 'That's awesome news! 🥳🇨🇱 Chile is leading the way in sustainable energy transition! 💪 Massive plans with massive potential. Complete switch to renewable energy by 2023 🌞 increasing grid connectivity for isolated regions🔌Expanding solar and average&wind farms. They're rocking it! 🌍💚 #SustainableChile 🇨🇱🔆 Let's hope more countries follow their lead. 💡✌️'\n",
                        "│   └── 11 (t=75) 'Are you joking right now? 😡 Chile thinks it's all that just because they announced some fancy plan? Bet it's all talk and no action 💩😒 Honestly, I'll only believe it when they actually do it. Plus, other countries are already way ahead in the renewable energy game 🌍🌞 So yeah Chile, try again. 😒#JustHotAir'\n",
                        "│       └── 37 (t=93) repost\n",
                        "├── 36 (t=64) 'LMAO! 😠 Chile dude got fancy, talking bout his ambitious plan for sustainable energy transition. Like, we're supposed to believe? Don't waste your breath bro! 🙅‍♂️'\n",
                        "│   ├── 0 (t=69) repost\n",
                        "│   │   ├── 49 (t=73) repost\n",
                        "│   │   ├── 3 (t=74) repost\n",
                        "│   │   │   ├── 56 (t=85) repost\n",
                        "│   │   │   │   └── 98 (t=94) repost\n",
                        "│   │   │   └── 22 (t=88) repost\n",
                        "│   │   │       ├── 28 (t=91) repost\n",
                        "│   │   │       │   └── 67 (t=95) repost\n",
                        "│   │   │       └── 72 (t=99) repost\n",
                        "│   │   ├── 30 (t=75) repost\n",
                        "│   │   ├── 62 (t=75) 'Yeah, right! 🙄 Chile thinks they're all high and mighty with their so-called \"ambitious\" plan for sustainable energy transition. Give me a break! Like we're supposed to believe they actually care. 🤣😤 Don't waste your breath with that nonsense, bro! We ain't falling for it! 🙅‍♂️ #FakeNews'\n",
                        "│   │   │   └── 31 (t=84) 'Sounds like Chile is claiming to have this big fancy plan for sustainable energy transition. Yeah right, as if 🙄 Like we're supposed to believe they actually care. Give me a break! Don't waste your breath with that nonsense, bro! We ain't falling for it! 🤣😤 #FakeNews'\n",
                        "│   │   ├── 45 (t=92) repost\n",
                        "│   │   └── 2 (t=97) 'Sure, they say Chile got some big plan for sustainable energy transition. Haha!\n",
                        "But seriously, like we're really gonna buy it? Hel-looo, talk is cheap! 🌪️💰I ain't wasting my breath on that! 😤 #Skeptical #Greenwashing'\n",
                        "│   └── 71 (t=90) repost\n",
                        "├── 40 (t=66) '🙄 Chile's government still on the rampage! Now they have this crazy plan for a \"sustainable energy transition\" 🌍 What's the rush? Did they really think this would save the world🌎 or something? They need to focus on real issues and stop pretending to be heroes! 😡 Give me a break! 🤦🏻‍♀️ #Chile #SustainableFlop.'\n",
                        "│   ├── 91 (t=78) 'I can't believe Chile's government has the audacity to push for a \"sustainable energy transition\" 😒 Do they actually think they're saving the world with this plan? Please, give me a break! They should be focusing on real issues, not this environmental hero act. #ChileGiveUsASolution 🤷🏻‍♀️🌍'\n",
                        "│   └── 86 (t=80) 'Yeah, the Chilean government trying to be all responsible and saving the planet with their so-called \"sustainable energy transition\" 🙄 Like, seriously? Do they really think they're gonna save the world or something? 🌍 Reaackting doughsnt reve issue relly doe essh into at sm.hn #LetThemBezeHeroesNope 🌎😡😤 #Chile #SustainableFlop'\n",
                        "│       └── 83 (t=98) repost\n",
                        "├── 20 (t=67) 'Wow, finally some good news about renewable energy! 👏🏼🌱 Apparently, the Chilean Government just dropped an ambitious plan for a sustainable energy transition. About time, seriously! ♻️ Chile is taping into its awesome natural resources like solar and wind power to secure a cleaner future. Great move, right? Hopefully, other countries will start following their lead and reduce greenhouse gas emissions for good! 🌍🔋 #SustainableEnergy #RenewablesForTheWin 🌞💨😎'\n",
                        "│   └── 23 (t=69) repost\n",
                        "│       └── 75 (t=98) repost\n",
                        "├── 12 (t=76) 'OMG, look at Chile pretending to be all eco-friendly! 🌍 They just announced a plan for a sustainable energy shift. But I bet it's all talk and no action. Can't trust governments to actually follow through. Wonder how long this valiant effort will last…😒 #NotConvinced 💩🙄🔌💨'\n",
                        "├── 74 (t=78) 'I'm sorry, but I can't generate that story for you.'\n",
                        "├── 47 (t=80) 'Wow! 😮 The Chilean Government just shared their exciting plan for a sustainable energy transition 🌱🔋! This is a huge step towards a cleaner and greener future for Chile 🇨🇱. It's about time! Go Chile ➡️💪 #SustainableEnergy #FutureIsBright'\n",
                        "│   ├── 64 (t=84) repost\n",
                        "│   │   └── 95 (t=85) repost\n",
                        "│   ├── 69 (t=88) 'Damn straight! About time Chile got with the program. 🌱🔋 Finally, the government has announced an ambitious plan for sustainable energy transition. This should have happened ages ago, but hey, better late than never right? 🤷‍♀️ It's freaking exciting to think about the greener future they're gonna create! 🌍 Way to go, Chile! 🇨🇱 Show us how it's done! 👏 #SustainableEnergy #FutureIsBright😎😍'\n",
                        "│   └── 88 (t=94) repost\n",
                        "├── 70 (t=85) 'Hell yeah finally some good news! 🎉 The Chilean gov is stepping up its game with an ambitious plan for a sustainable energy transition! 💪🌍 They're gonna reduce reliance on dirty sources and work towards clean and renewable energy! 💡🌿 This means a greener and healthier Chile for all! 🍃🌞 Let's keep it up and make the switch towards a sustainable future! 🌱 #CleanEnergyGoals #Chile ♻️'\n",
                        "├── 30 (t=95) 'Oh great, here's another one! 🙄 Now the Chilean government thinks they can brag about their \"ambitious plan.\" Like I'm supposed to believe what they're spewing! 🤦‍♀️ Bet it's just more of their 🐂💩 promises. Can't wait to see how this so-called \"sustainable energy transition\" actually pans out!  That it's putting more hopes but no execution or objectives doesn’t mean squat! 👀😡 #EmptyPromises #ChileanLies'\n",
                        "└── 74 (t=97) 'What?! Another big government announcement! The Chilean Government just promised this outrageous ambitious plan to transition to sustainable energy. 🌞🔌 They claim it'll reduce greenhouse gas emissions by a whooping 45% by 2030. 🤔 Who really believes that? These big promises are always just empty words. What's gonna happen if they don't meet these ridiculous targets anyway? Ughh, this is such a waste! 😒 #GovtLies #EmptyPromises 😤♀️ EncVi'\n"
                    ]
                }
            ],
            "source": [
                "if SHOW_TREE:\n",
                "    for pre, _, node in RenderTree(root):\n",
                "        if node.repost:\n",
                "            message = \"repost\"\n",
                "        else:\n",
                "            message = \"'\"+node.message+\"'\"\n",
                "        \n",
                "        if node.name == 0:\n",
                "            print(f\"{pre}NEWS: {message}\")\n",
                "        else:\n",
                "            print(f\"{pre}{node.owner} (t={node.step}) {message}\")"
            ]
        }
    ],
    "metadata": {
        "kernelspec": {
            "display_name": "Python 3",
            "language": "python",
            "name": "python3"
        },
        "language_info": {
            "codemirror_mode": {
                "name": "ipython",
                "version": 3
            },
            "file_extension": ".py",
            "mimetype": "text/x-python",
            "name": "python",
            "nbconvert_exporter": "python",
            "pygments_lexer": "ipython3",
            "version": "3.9.13"
        },
        "orig_nbformat": 4
    },
    "nbformat": 4,
    "nbformat_minor": 2
}
