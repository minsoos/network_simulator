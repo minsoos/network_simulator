{
    "cells": [
        {
            "cell_type": "markdown",
            "metadata": {},
            "source": [
                "# Network and relations making"
            ]
        },
        {
            "cell_type": "code",
            "execution_count": 1,
            "metadata": {},
            "outputs": [],
            "source": [
                "import subprocess\n",
                "import os\n",
                "import time\n",
                "from yml_create_functions import make_yml, make_network_agents_yml"
            ]
        },
        {
            "cell_type": "code",
            "execution_count": 2,
            "metadata": {},
            "outputs": [],
            "source": [
                "name_simulation = 'simulation_tutorial'"
            ]
        },
        {
            "cell_type": "markdown",
            "metadata": {},
            "source": [
                "## Network Agent Parameters"
            ]
        },
        {
            "cell_type": "markdown",
            "metadata": {},
            "source": [
                "The schema can be changed in schema/schema.py. Here, you can change the parameters of the default schema"
            ]
        },
        {
            "cell_type": "code",
            "execution_count": 3,
            "metadata": {},
            "outputs": [],
            "source": [
                "network_agents_parameters = {\n",
                "    \"default\": {\n",
                "        \"id_message\": \"NaN\",\n",
                "        \"has_tv\": \"false\",\n",
                "        \"cause\": -1,\n",
                "        \"method\": \"NaN\",\n",
                "\n",
                "        \"type\": \"dumb\",\n",
                "        \"response\": \"NaN\",\n",
                "        \"stance\": \"agree\",\n",
                "        \"repost\": \"NaN\",\n",
                "        \"parent_id\": \"NaN\"\n",
                "\n",
                "    },\n",
                "\n",
                "    \"DumbViewer\": [\n",
                "        {\"weight\": 2, \"type\": \"dumb\"},\n",
                "        {\"weight\": 2, \"type\": \"dumb\", \"has_tv\": \"true\"}\n",
                "    ],\n",
                "    \"HerdViewer\": [\n",
                "        {\"weight\": 2, \"type\": \"herd\", \"stance\": \"against\"},\n",
                "        {\"weight\": 2, \"type\": \"herd\", \"has_tv\": \"true\"}\n",
                "    ],\n",
                "    \"WiseViewer\": [\n",
                "        {\"weight\": 1, \"type\": \"wise\", \"stance\": \"against\"},\n",
                "        {\"weight\": 1, \"type\": \"wise\", \"has_tv\": \"true\", \"stance\": \"neutral\"}\n",
                "    ],\n",
                "\n",
                "}"
            ]
        },
        {
            "cell_type": "markdown",
            "metadata": {},
            "source": [
                "## Other Parameters"
            ]
        },
        {
            "cell_type": "code",
            "execution_count": 4,
            "metadata": {},
            "outputs": [],
            "source": [
                "INTERVALS = 100\n",
                "parameters = {\n",
                "    \"default_state\": \"{}\",\n",
                "    \"load_module\": \"schema\", # path from yml to schema\n",
                "    \"environment_agents\": \"[]\",\n",
                "    \"environment_class\": \"schema.NewsEnvironmentAgent\", # path from yml to environment class\n",
                "    \"environment_params\": {\n",
                "        \"prob_neighbor_spread\": 0.02,  # 006\n",
                "        \"prob_tv_spread\": 0.006,  # 001\n",
                "        \"prob_neighbor_cure\": 0.006,  # 001\n",
                "        \"prob_backsliding\": 0.01,  # 003\n",
                "        \"prob_dead\": 0.006,  # 001,\n",
                "        \"prob_repost\": 0.8,\n",
                "        \"mean_time_connection\": 50,\n",
                "        \"var_time_connection\": 30\n",
                "    },\n",
                "    \"interval\": 1,\n",
                "    \"max_time\": INTERVALS,\n",
                "    \"name\": name_simulation,\n",
                "    \"network_params\": {\n",
                "        \"generator\": \"barabasi_albert_graph\",\n",
                "        \"n\": 100,\n",
                "        \"m\": 5\n",
                "    },\n",
                "    \"num_trials\": 1\n",
                "}"
            ]
        },
        {
            "cell_type": "markdown",
            "metadata": {},
            "source": [
                "# Prob responses parameters"
            ]
        },
        {
            "cell_type": "code",
            "execution_count": 5,
            "metadata": {},
            "outputs": [],
            "source": [
                "# Define your probabilities here\n",
                "prob_response = {\"dumb\": {\"support\": 0.4, \"deny\": 0.3, \"question\": 0, \"comment\": 0.2},\n",
                "                \"herd\": {\"support\": 0.25, \"deny\": 0.25, \"question\": 0.25, \"comment\": 0.25},\n",
                "                \"wise\": {\"support\": 0.2, \"deny\": 0.2, \"question\": 0.3, \"comment\": 0.3}\n",
                "                }\n",
                "types = list(prob_response.keys())\n",
                "responses = list( prob_response[types[0]].keys() )\n",
                "for type_i in types:\n",
                "    for response in responses:\n",
                "        name_i = f\"prob_{type_i}_{response}\"\n",
                "        prob_i = prob_response[type_i][response]\n",
                "        # Here, we set each probability\n",
                "        parameters[\"environment_params\"][name_i] = prob_i"
            ]
        },
        {
            "cell_type": "markdown",
            "metadata": {},
            "source": [
                "## Simulation execution"
            ]
        },
        {
            "cell_type": "code",
            "execution_count": 6,
            "metadata": {},
            "outputs": [
                {
                    "name": "stdout",
                    "output_type": "stream",
                    "text": [
                        "SIMULATION'S SECONDS: 14.96756625175476\n"
                    ]
                }
            ],
            "source": [
                "parameters_i = parameters.copy()\n",
                "network_agents_parameters_i = network_agents_parameters.copy()\n",
                "data = make_yml(parameters_i)\n",
                "data += make_network_agents_yml(network_agents_parameters_i)\n",
                "\n",
                "yml_path = os.path.join('schema', f'{name_simulation}.yml') # YML path\n",
                "with open(yml_path, 'w') as file:\n",
                "    file.write(data)\n",
                "\n",
                "command = \"soil\"\n",
                "start = time.time()\n",
                "\n",
                "output = subprocess.check_output([command, yml_path])\n",
                "end = time.time()\n",
                "seconds_simulation = str(end-start)\n",
                "print(\"SIMULATION'S SECONDS:\", seconds_simulation)"
            ]
        },
        {
            "cell_type": "markdown",
            "metadata": {},
            "source": [
                "# Conversation Making"
            ]
        },
        {
            "cell_type": "code",
            "execution_count": 7,
            "metadata": {},
            "outputs": [],
            "source": [
                "from get_data.get_data import get_pivoted_data, get_type_agents\n",
                "from post.templates import POST_TEMPLATE, REPLY_TEMPLATE, INSTRUCTIONS_TEMPLATE\n",
                "from post.trasform_time import transform_time\n",
                "from spelling_checker.spelling_checker import correctness_prompt, correctness_percentage\n",
                "from anytree import Node, RenderTree, LevelOrderIter\n",
                "from post.post import Post\n",
                "from IA.ia import send_prompt"
            ]
        },
        {
            "cell_type": "markdown",
            "metadata": {},
            "source": [
                "## Output sqlite path"
            ]
        },
        {
            "cell_type": "code",
            "execution_count": 8,
            "metadata": {},
            "outputs": [],
            "source": [
                "analysis_path = os.path.join('soil_output', name_simulation)\n",
                "sql_table_path = f'{name_simulation}_trial_0.sqlite'"
            ]
        },
        {
            "cell_type": "markdown",
            "metadata": {},
            "source": [
                "## Get Data"
            ]
        },
        {
            "cell_type": "code",
            "execution_count": 9,
            "metadata": {},
            "outputs": [],
            "source": [
                "attributes = ['cause', 'method', 'response', 'stance', 'repost']\n",
                "\n",
                "data = get_pivoted_data(analysis_path, sql_table_path, attributes)\n",
                "dict_agents = get_type_agents(analysis_path, sql_table_path)"
            ]
        },
        {
            "cell_type": "markdown",
            "metadata": {},
            "source": [
                "## Define News"
            ]
        },
        {
            "cell_type": "code",
            "execution_count": 10,
            "metadata": {},
            "outputs": [],
            "source": [
                "NEWS = 'Dictan prisión preventiva para Pablo Mackenna tras protagonizar accidente de tránsito en estado de ebriedad en Las Condes. '\n",
                "NEWS_BODY = '''\n",
                "De acuerdo a los antecedentes que se manejan, Mackenna chocó un taxi ejecutivo en avenida Presidente Errázuriz con Calle Sánchez Fontecilla, provocando graves daños al otro vehículo y dejando una persona lesionada. Al practicarle la alcoholemia, arrojó 1,27 gramos de alcohol por litro de sangre. \"Nos tenemos que fijar en la conducta del imputado y en la forma en que pone en riesgo la vida de tercera personas, lo cual efectivamente pasó el día de hoy\", aseguró jueza Acevedo. Agregó que \"él chocó a un taxista, que el vehículo es su fuente de trabajo, por lo tanto, va a quedar sin poder trabajar, además de la licencia que tiene... También lesionó a otra persona\". Asimismo, enfatizó que Mackenna cruzó en luz roja, por lo que \"comete una infracción de tránsito, además del manejo en estado de ebriedad\". \"Se va a acceder a la solicitud de la Fiscalía, y se va a decretar la prisión preventiva\", señaló la jueza, precisando que se determinó un plazo de investigación de 90 días.\n",
                "'''\n",
                "SHOW_TREE = True"
            ]
        },
        {
            "cell_type": "markdown",
            "metadata": {},
            "source": [
                "## Create the Network's Tree"
            ]
        },
        {
            "cell_type": "code",
            "execution_count": 11,
            "metadata": {},
            "outputs": [],
            "source": [
                "root = Post(0, message=NEWS, step=0, post_template=POST_TEMPLATE,\n",
                "             reply_template=REPLY_TEMPLATE,\n",
                "             instructions_template=INSTRUCTIONS_TEMPLATE, news=NEWS)"
            ]
        },
        {
            "cell_type": "code",
            "execution_count": null,
            "metadata": {},
            "outputs": [],
            "source": [
                "# 24 hours format\n",
                "TIME_BEG = \"10:00\"\n",
                "TIME_END = \"23:00\""
            ]
        },
        {
            "cell_type": "code",
            "execution_count": 13,
            "metadata": {},
            "outputs": [],
            "source": [
                "list_nodes = [root]\n",
                "for i in range(len(data)):\n",
                "    aux = data[i]\n",
                "    owner = int(aux[0])\n",
                "    step = int(aux[1])\n",
                "    step = transform_time(step, TIME_BEG, TIME_END)\n",
                "    id_message = int(aux[2])\n",
                "    parent = list_nodes[int(aux[3])]\n",
                "    state = aux[4] #unused\n",
                "    attr_dict = {}\n",
                "    for index, attr in enumerate(attributes):\n",
                "        index +=5\n",
                "        attr_dict[attr] = aux[index] \n",
                "\n",
                "    type_agent = dict_agents[owner]\n",
                "    \n",
                "    ### Specific for repost attribute\n",
                "    if attr_dict[\"repost\"] in [\"0\", \"1\"]:\n",
                "        attr_dict[\"repost\"] = bool(int(attr_dict[\"repost\"]))\n",
                "    else:\n",
                "        print(data[i])\n",
                "        print(attr_dict[\"repost\"])\n",
                "        raise ValueError(\"Error repost format\")\n",
                "    ### \n",
                "\n",
                "    message = ''\n",
                "    news_i = NEWS\n",
                "    if type_agent == \"wise\":\n",
                "        news_i += NEWS_BODY\n",
                "\n",
                "    list_nodes.append(Post(name=id_message, parent=parent, owner=owner, step=step, message=message, type_agent=type_agent,\n",
                "                             post_template=POST_TEMPLATE, reply_template=REPLY_TEMPLATE,\n",
                "                             instructions_template=INSTRUCTIONS_TEMPLATE, news=news_i,\n",
                "                             **attr_dict\n",
                "                             )\n",
                "    )"
            ]
        },
        {
            "cell_type": "markdown",
            "metadata": {},
            "source": [
                "## Associate a Written Post to each Message"
            ]
        },
        {
            "cell_type": "code",
            "execution_count": 14,
            "metadata": {},
            "outputs": [],
            "source": [
                "from parameters import API_KEY\n",
                "import openai\n",
                "openai.api_key = API_KEY"
            ]
        },
        {
            "cell_type": "code",
            "execution_count": 15,
            "metadata": {},
            "outputs": [],
            "source": [
                "TEMPERATURE = 1.5\n",
                "list_prompts = []\n",
                "for node_i in LevelOrderIter(root):\n",
                "    if node_i == root:\n",
                "        continue\n",
                "    elif node_i.repost:\n",
                "        continue\n",
                "\n",
                "    instructions, prompt = node_i.get_prompt(language='english', \n",
                "                min_caract=130, max_caract=250,\n",
                "                user_description='average toxic and angry social media user')\n",
                "    answer = send_prompt(instructions, prompt, temp=TEMPERATURE, max_tokens=1000)\n",
                "    correctness = correctness_percentage(answer)\n",
                "    while correctness >= 0.2:\n",
                "        print(\"Correction\")\n",
                "        correction_prompt = correctness_prompt(node_i.news, answer)\n",
                "        print(correction_prompt)\n",
                "        answer = send_prompt(instructions, correction_prompt, temp=TEMPERATURE, max_tokens=1000)\n",
                "        correctness = correctness_percentage(answer)\n",
                "    \n",
                "    node_i.set_message(answer)\n",
                "    list_prompts.append((node_i.name, prompt))"
            ]
        },
        {
            "cell_type": "markdown",
            "metadata": {},
            "source": [
                "## Plot the Network in a Tree"
            ]
        },
        {
            "cell_type": "code",
            "execution_count": 17,
            "metadata": {},
            "outputs": [
                {
                    "name": "stdout",
                    "output_type": "stream",
                    "text": [
                        "NEWS: Dictan prisión preventiva para Pablo Mackenna tras protagonizar accidente de tránsito en estado de ebriedad en Las Condes. \n",
                        "├── 27 (t=15:00)(herd) repost\n",
                        "├── 52 (t=16:16)(dumb) repost\n",
                        "├── 38 (t=16:36)(wise) 'Just another entitled drunk driver ruining lives. Totally deserves the **prison sentence** for causing a wreck and leaving innocent people injured. 🚗🍻#ZeroTolerance #JusticeServed'\n",
                        "│   ├── 18 (t=18:53)(dumb) repost\n",
                        "│   │   ├── 36 (t=20:00)(dumb) repost\n",
                        "│   │   ├── 32 (t=21:39)(herd) repost\n",
                        "│   │   └── 60 (t=22:52)(herd) 'Another entitled drunk driver facing consequences! He ended up causing an accident in Las Condes and injured innocent people. Good to see justice being served with the prison sentence. #StaySafeOnRoads  🚗🚔🍻 #AccountabilityMatters'\n",
                        "│   ├── 7 (t=19:59)(dumb) repost\n",
                        "│   │   ├── 37 (t=20:27)(dumb) repost\n",
                        "│   │   │   ├── 5 (t=20:33)(dumb) repost\n",
                        "│   │   │   │   ├── 9 (t=21:02)(dumb) repost\n",
                        "│   │   │   │   │   ├── 81 (t=21:40)(herd) repost\n",
                        "│   │   │   │   │   ├── 11 (t=21:54)(herd) repost\n",
                        "│   │   │   │   │   └── 62 (t=22:48)(herd) 'He sure deserves the prison sentence. Drunk driving is no joke, causing accidents and injuring innocent people is beyond irresponsible! Hope this serves as a warning to others who think it's okay to endanger lives for their own selfish fun! 🚗✋ #Accountability #NoExcuses'\n",
                        "│   │   │   │   ├── 80 (t=21:24)(wise) repost\n",
                        "│   │   │   │   ├── 50 (t=22:07)(dumb) repost\n",
                        "│   │   │   │   ├── 98 (t=22:05)(dumb) repost\n",
                        "│   │   │   │   └── 13 (t=22:41)(wise) repost\n",
                        "│   │   │   └── 29 (t=21:05)(dumb) repost\n",
                        "│   │   │       ├── 56 (t=22:36)(dumb) repost\n",
                        "│   │   │       └── 34 (t=22:37)(herd) repost\n",
                        "│   │   ├── 31 (t=20:48)(herd) 'OMG! Another entitled idiot behind the wheel! Glad justice is being served here. No sympathy for drunk drivers causing wrecks and hurting innocent people. They should throw away the key! 🤬👮‍♀️#NoExcuses #DontDrinkAndDrive'\n",
                        "│   │   ├── 33 (t=21:10)(herd) repost\n",
                        "│   │   │   ├── 21 (t=21:24)(dumb) 'Sounds like justice finally caught up with this entitled drunk driver. Absolutely deserving of the prison sentence for causing a car accident and putting innocent lives at risk. There should be zero tolerance for this kind of behavior! 🚗🍻#JusticeServed #SafetyFirst'\n",
                        "│   │   │   │   ├── 85 (t=21:50)(dumb) repost\n",
                        "│   │   │   │   │   ├── 28 (t=22:07)(wise) 'Oh please, given representation accounted, they all act like kings and live by a different street code 🙄. I mean, it was clear from the start that this drunk driver was a danger to others, not caring one bit about anyone's safety. I'm glad he'll finally pay the consequences behind bars! 🚓#NoOneIsAboveTheLaw #GoodRiddance'\n",
                        "│   │   │   │   │   └── 91 (t=22:35)(dumb) repost\n",
                        "│   │   │   │   └── 6 (t=22:28)(herd) 'Give me a break! 🙄 \"Justice served\"? Seriously? People make mistakes, ok? Yeah, he got in an accident while drunk, which is bad, ya, pero throw him in prison right away? Zero tolerance? How about some first-hand perspective? Fear drinking one night lands you in a jail cell with supposedly \"tough\" guys! 👊 Effing ridiculous! #ToxicJustice #Exaggeration 🍺🚓'\n",
                        "│   │   │   └── 55 (t=21:35)(dumb) 'Don't get me started on drunk drivers! They think they're invincible until they wreck their lives and injure innocent people. They deserve harsh punishment to learn a lesson. Good on the justice system for sending this entitled guy to prison! 🚓🔒 #PartyResponsibly #JailForDUI'\n",
                        "│   │   ├── 57 (t=21:22)(herd) repost\n",
                        "│   │   ├── 14 (t=21:33)(dumb) repost\n",
                        "│   │   │   └── 95 (t=22:19)(dumb) repost\n",
                        "│   │   └── 12 (t=22:24)(wise) repost\n",
                        "│   └── 35 (t=21:37)(dumb) 'LOL, couldn't agree more! 😡🍻 Drunk drivers like #PabloMackenna think they can do whatever they want and live on their own 'fast and furious' story 🚗 But let's be real, they're putting innocent lives at risk and causing serious damage. Good thing justice was served - hope this sends a message to all those reckless idiots behind the wheel! 🛑🚦 #ZeroTolerance #TickedOff'\n",
                        "├── 76 (t=18:25)(herd) 'What an idiot! Deserves to be locked up for drunk driving. 🚔🍺 Its about time people like him face the consequences for their reckless actions. Hope this serves as a lesson to everyone else out there too! Safety first always! 😤'\n",
                        "├── 46 (t=18:50)(wise) repost\n",
                        "├── 70 (t=19:11)(dumb) repost\n",
                        "│   └── 42 (t=21:22)(dumb) repost\n",
                        "├── 76 (t=19:22)(herd) 'He totally deserves it! Drinking & driving is NOT cool 😠 People like him think they're above the law, but now he's gonna pay the price behind bars 🤷‍♂️ Hopefully this serves as a lesson to others - alcohol and driving just don't mix 🚗🍺 Safety first! 🙌 #notacceptable #prisonforhim'\n",
                        "│   └── 59 (t=22:07)(herd) repost\n",
                        "├── 20 (t=20:08)(dumb) 'About time! 🙌🚔 No special treatment for drunk drivers, even if they're 'celebrities'. 🙅‍♂️ Being responsible on the road should be a non-negotiable. This sends a message. Don't drink and drive, folks! Stay safe out there. 🚦❌🍻'\n",
                        "│   └── 79 (t=20:58)(dumb) repost\n",
                        "├── 36 (t=20:24)(dumb) 'This guy deserves to rot in prison for his irresponsible behavior. Honestly, what was he thinking, driving drunk and causing an accident? People like him make me sick. Hopefully, he learns his lesson and other idiots out there take note 🙄💔'\n",
                        "├── 15 (t=20:55)(wise) 'How could someone be so irresponsible to make that stupid decision while driving? SMH 🤦‍♂️ I hope this serves as a wake-up call for others who think it's okay to drive under the influence. Jail time seems well-deserved, considering the damage and injuries caused. #StopDrunkDriving 🚫🍻😡'\n",
                        "│   └── 65 (t=22:11)(dumb) repost\n",
                        "└── 98 (t=22:49)(dumb) 'Another drunk person causing trouble on the road. Good riddance! 🚫🍺 These idiots who can't control themselves shouldn't be behind the wheel. It's time for strict laws and consequences to make our streets safer! 🚔💪 #RoadSafety #NoMoreDrunkDrivers #JusticeForTheInnocent 🙅‍♂️😡'\n"
                    ]
                }
            ],
            "source": [
                "if SHOW_TREE:\n",
                "    for pre, _, node in RenderTree(root):\n",
                "        if node.name == 0:\n",
                "            print(f\"{pre}NEWS: {node.message}\")\n",
                "            continue\n",
                "\n",
                "        if node.repost:\n",
                "            message = \"repost\"\n",
                "        else:\n",
                "            message = \"'\"+node.message+\"'\"\n",
                "        print(f\"{pre}{node.owner} (t={node.step})({node.type_agent}) {message}\")"
            ]
        }
    ],
    "metadata": {
        "kernelspec": {
            "display_name": "Python 3",
            "language": "python",
            "name": "python3"
        },
        "language_info": {
            "codemirror_mode": {
                "name": "ipython",
                "version": 3
            },
            "file_extension": ".py",
            "mimetype": "text/x-python",
            "name": "python",
            "nbconvert_exporter": "python",
            "pygments_lexer": "ipython3",
            "version": "3.9.13"
        },
        "orig_nbformat": 4
    },
    "nbformat": 4,
    "nbformat_minor": 2
}
