{
    "cells": [
        {
            "cell_type": "markdown",
            "metadata": {},
            "source": [
                "# Network and relations making"
            ]
        },
        {
            "cell_type": "code",
            "execution_count": 9,
            "metadata": {},
            "outputs": [],
            "source": [
                "import subprocess\n",
                "import os\n",
                "import time\n",
                "from yml_create_functions import make_yml, make_network_agents_yml"
            ]
        },
        {
            "cell_type": "code",
            "execution_count": 10,
            "metadata": {},
            "outputs": [],
            "source": [
                "name_simulation = 'simulation_tutorial'"
            ]
        },
        {
            "cell_type": "markdown",
            "metadata": {},
            "source": [
                "## Network Agent Parameters"
            ]
        },
        {
            "cell_type": "markdown",
            "metadata": {},
            "source": [
                "The schema can be changed in schema/schema.py. Here, you can change the parameters of the default schema"
            ]
        },
        {
            "cell_type": "code",
            "execution_count": 12,
            "metadata": {},
            "outputs": [],
            "source": [
                "network_agents_parameters = {\n",
                "    \"default\": {\n",
                "        \"id_message\": \"NaN\",\n",
                "        \"has_tv\": \"false\",\n",
                "        \"cause\": -1,\n",
                "        \"method\": \"NaN\",\n",
                "\n",
                "        \"type\": \"dumb\",\n",
                "        \"response\": \"NaN\",\n",
                "        \"stance\": \"agree\",\n",
                "        \"repost\": \"NaN\",\n",
                "        \"parent_id\": \"NaN\"\n",
                "\n",
                "    },\n",
                "\n",
                "    \"DumbViewer\": [\n",
                "        {\"weight\": 2},\n",
                "        {\"weight\": 2, \"has_tv\": \"true\"}\n",
                "    ],\n",
                "    \"HerdViewer\": [\n",
                "        {\"weight\": 2, \"type\": \"herd\", \"stance\": \"against\"},\n",
                "        {\"weight\": 2, \"type\": \"herd\", \"has_tv\": \"true\"}\n",
                "    ],\n",
                "    \"WiseViewer\": [\n",
                "        {\"weight\": 1, \"type\": \"wise\", \"stance\": \"against\"},\n",
                "        {\"weight\": 1, \"type\": \"wise\", \"has_tv\": \"true\", \"stance\": \"against\"}\n",
                "    ],\n",
                "\n",
                "}"
            ]
        },
        {
            "cell_type": "markdown",
            "metadata": {},
            "source": [
                "## Other Parameters"
            ]
        },
        {
            "cell_type": "code",
            "execution_count": 13,
            "metadata": {},
            "outputs": [],
            "source": [
                "parameters = {\n",
                "    \"default_state\": \"{}\",\n",
                "    \"load_module\": \"schema\", # path from yml to schema\n",
                "    \"environment_agents\": \"[]\",\n",
                "    \"environment_class\": \"schema.NewsEnvironmentAgent\", # path from yml to environment class\n",
                "    \"environment_params\": {\n",
                "        \"prob_neighbor_spread\": 0.02,  # 006\n",
                "        \"prob_tv_spread\": 0.006,  # 001\n",
                "        \"prob_neighbor_cure\": 0.006,  # 001\n",
                "        \"prob_backsliding\": 0.01,  # 003\n",
                "        \"prob_dead\": 0.006,  # 001,\n",
                "        \"prob_repost\": 0.8,\n",
                "        \"hostility_weight\": 1,  # Unused yet\n",
                "        \"mean_time_connection\": 50,\n",
                "        \"var_time_connection\": 30\n",
                "    },\n",
                "    \"interval\": 1,\n",
                "    \"max_time\": 100,\n",
                "    \"name\": name_simulation,\n",
                "    \"network_params\": {\n",
                "        \"generator\": \"barabasi_albert_graph\",\n",
                "        \"n\": 100,\n",
                "        \"m\": 5\n",
                "    },\n",
                "    \"num_trials\": 1\n",
                "}"
            ]
        },
        {
            "cell_type": "markdown",
            "metadata": {},
            "source": [
                "## Simulation execution"
            ]
        },
        {
            "cell_type": "code",
            "execution_count": 14,
            "metadata": {},
            "outputs": [
                {
                    "name": "stdout",
                    "output_type": "stream",
                    "text": [
                        "SIMULATION'S SECONDS: 5.391209840774536\n"
                    ]
                }
            ],
            "source": [
                "parameters_i = parameters.copy()\n",
                "network_agents_parameters_i = network_agents_parameters.copy()\n",
                "data = make_yml(parameters_i)\n",
                "data += make_network_agents_yml(network_agents_parameters_i)\n",
                "\n",
                "yml_path = os.path.join('schema', '{name_simulation}.yml') # YML path\n",
                "with open(yml_path, 'w') as file:\n",
                "    file.write(data)\n",
                "\n",
                "command = \"soil\"\n",
                "start = time.time()\n",
                "\n",
                "output = subprocess.check_output([command, yml_path])\n",
                "end = time.time()\n",
                "seconds_simulation = str(end-start)\n",
                "print(\"SIMULATION'S SECONDS:\", seconds_simulation)"
            ]
        },
        {
            "cell_type": "markdown",
            "metadata": {},
            "source": [
                "# Conversation Making"
            ]
        },
        {
            "cell_type": "code",
            "execution_count": 15,
            "metadata": {},
            "outputs": [],
            "source": [
                "from get_data.get_data import get_pivoted_data\n",
                "from post.templates import POST_TEMPLATE, REPLY_TEMPLATE\n",
                "from anytree import Node, RenderTree, LevelOrderIter\n",
                "from post.post import Post\n",
                "from IA.ia import send_prompt"
            ]
        },
        {
            "cell_type": "markdown",
            "metadata": {},
            "source": [
                "## Output sqlite path"
            ]
        },
        {
            "cell_type": "code",
            "execution_count": 16,
            "metadata": {},
            "outputs": [],
            "source": [
                "analysis_path = os.path.join('soil_output', name_simulation)\n",
                "sql_table_path = f'{name_simulation}_trial_0.sqlite'"
            ]
        },
        {
            "cell_type": "markdown",
            "metadata": {},
            "source": [
                "## Get Data"
            ]
        },
        {
            "cell_type": "code",
            "execution_count": 17,
            "metadata": {},
            "outputs": [],
            "source": [
                "data = get_pivoted_data(analysis_path, sql_table_path)"
            ]
        },
        {
            "cell_type": "markdown",
            "metadata": {},
            "source": [
                "## Define News"
            ]
        },
        {
            "cell_type": "code",
            "execution_count": 18,
            "metadata": {},
            "outputs": [],
            "source": [
                "NEWS = 'Chilean Government Announces Ambitious Plan for Sustainable Energy Transition'\n",
                "SHOW_TREE = True"
            ]
        },
        {
            "cell_type": "markdown",
            "metadata": {},
            "source": [
                "## Create the Network's Tree"
            ]
        },
        {
            "cell_type": "code",
            "execution_count": 19,
            "metadata": {},
            "outputs": [],
            "source": [
                "root = Post(0, message=NEWS, post_template=POST_TEMPLATE,\n",
                "             reply_template=REPLY_TEMPLATE)\n",
                "lista_nodos = [root] + [Post(\"\", message='Empty') for _ in range(len(data))]"
            ]
        },
        {
            "cell_type": "code",
            "execution_count": 20,
            "metadata": {},
            "outputs": [],
            "source": [
                "for i in range(len(data)):\n",
                "    aux = data[i]\n",
                "    owner = aux[0]\n",
                "    cause = aux[3]\n",
                "    method = aux[4]\n",
                "    response = aux[5]\n",
                "    stance = aux[6]\n",
                "    repost = aux[7]\n",
                "    if repost == 'true':\n",
                "        repost = True\n",
                "    elif repost == 'false':\n",
                "        repost = False\n",
                "    else:\n",
                "        print(data[i])\n",
                "        print(repost)\n",
                "        raise ValueError(\"Error repost format\")\n",
                "    \n",
                "    name = aux[8]\n",
                "    parent = lista_nodos[int(aux[9])]\n",
                "\n",
                "    message = ''\n",
                "\n",
                "    lista_nodos[i+1] = Post(name, parent=parent, owner=owner,\n",
                "                             message=message, stance=stance,\n",
                "                             repost=repost, cause=cause,\n",
                "                             method=method, response=response,\n",
                "                             post_template=POST_TEMPLATE,\n",
                "                             reply_template=REPLY_TEMPLATE,\n",
                "                             news=NEWS)"
            ]
        },
        {
            "cell_type": "markdown",
            "metadata": {},
            "source": [
                "## Associate a Written Post to each Message"
            ]
        },
        {
            "cell_type": "code",
            "execution_count": 21,
            "metadata": {},
            "outputs": [],
            "source": [
                "from parameters import API_KEY\n",
                "import openai\n",
                "openai.api_key = API_KEY"
            ]
        },
        {
            "cell_type": "code",
            "execution_count": 22,
            "metadata": {},
            "outputs": [],
            "source": [
                "list_messages = []\n",
                "for node_i in LevelOrderIter(root):\n",
                "    if node_i.repost or node_i == root:\n",
                "        continue\n",
                "    prompt = node_i.get_prompt(language='english', \n",
                "                               min_caract=100, max_caract=180)\n",
                "    answer = send_prompt(prompt, temp=1.5)\n",
                "    node_i.set_message(answer)\n",
                "    list_messages.append((node_i, prompt))"
            ]
        },
        {
            "cell_type": "markdown",
            "metadata": {},
            "source": [
                "## Plot the Network in a Tree"
            ]
        },
        {
            "cell_type": "code",
            "execution_count": 23,
            "metadata": {},
            "outputs": [
                {
                    "name": "stdout",
                    "output_type": "stream",
                    "text": [
                        "NEWS: 'Chilean Government Announces Ambitious Plan for Sustainable Energy Transition'\n",
                        "├── 32 'That sounds awesome! The Chilean government is taking a big step towards a sustainable future! This plan will surely make a positive impact ♻️ Here's to cleaner energy and a healthier planet 🌍✨ #SustainabilityMatters.'\n",
                        "│   └── 4 'Agreed! It's great to see the Chilean government prioritizing sustainability and taking solid measures to ensure a greener future. By transitioning to sustainable energy sources, we'll combat climate change and protect our beautiful planet. Can't wait to witness the positive impact this plan will create! 🌍💚 #ClimateAction'\n",
                        "├── 40 'wow, the Chilean government really thinks this sustainable energy plan is the way to go. 🙄 but is it even practical? I mean, are they just talking a big game or do they have any real strategies in place? 🤷‍♀️ can't just rely on renewable energy without thinking about the cost or stability. 😬 time will tell, I guess. Hope they know what they're doing. 💔 Thought fossil fuels were here to stay... 🛢 #'\n",
                        "├── 77 'That’s awesome! I love to see countries taking steps towards a more sustainable future. 😊 It's great to hear that the Chilean Government has announced an ambitious plan for their energy transition. ♻️ This will not only benefit the environment but also create more job opportunities 🙌 and make us less dependent on fossil fuels! Chile knows how to save the planet and secure a better future. 👏 Can't wait to see other countries following their lead! 🌎💚 #S'\n",
                        "│   ├── 3 repost\n",
                        "│   │   └── 36 repost\n",
                        "│   │       └── 68 repost\n",
                        "│   │           └── 37 'Ikr! I totally love it when countries take the green path towards a better tomorrow! 😊 Really exciting that Chile's Government came out with such an ambitious plan towards sustainable energy transition. By hoppin' on that renewables train ♻️, they're protecting nature and opening up hundreds of new jobs-opportunity door 🙌, not to forget reducing our reliance on outdated fossil fuels. Latina Magica saves the planet y'all! 👏 Can't wait to see other nations joining in'\n",
                        "│   │               └── 50 repost\n",
                        "│   └── 61 repost\n",
                        "├── 1 'Wow, that's impressive news from the Chilean government! 🌍🔋 They're taking a big step towards a more sustainable future with their ambitious plan for sustainable energy transition. It's crucial for a greener planet. 💚♻️ Go Chile! 🇨🇱 Let's hope more countries around the world follow their lead in creating cleaner and renewable energy sources. Transition is key towards a more sustainable and better world for all! Solid move! 🙌'\n",
                        "│   └── 93 'I couldn't agree more! 🙌 The Chilean government's commitment to sustainable energy transition is commendable. It's a huge step towards a greener and more eco-friendly planet. Transitioning to cleaner and renewable energy sources holds an immense potential for our environment and future generations. Let's hope that governments worldwide meticulously follow this path to tackle climate change effectively. Every nation taking these solid moves brings us a step closer to a more balanced and sustainable world! 🌍🔋💚'\n",
                        "│       └── 52 repost\n",
                        "├── 3 'Wow! 😮 Read a very interesting news today. Chilean Government is stepping up its game with a really cool plan for sustainable energy transition! 🌱♻️ It's great to see countries taking such ambitious steps to protect our planet and reduce carbon emissions. Did you know that renewable energy makes up around 26% of Chile's electricity already? 🌞 That's pretty impressive! Go Chile! 🇨🇱✨ #Sustainability #GreenEnergy #GoCh'\n",
                        "│   ├── 14 'Oh wow, that's great news! 😮 I actually came across an article about the Chilean Government's amazing plan for sustainable energy transition. ♻️ It's incredible how they're taking bold steps towards protecting the planet and reducing carbon emissions. Did you know that around 26% of Chile's electricity is already sourced from renewable energy like solar? 🌞 Impressive, right? With initiatives like this, it's inspiring to see countries prioritize sustainability. Way to go, Chile!'\n",
                        "│   │   └── 42 repost\n",
                        "│   │       └── 47 repost\n",
                        "│   ├── 22 repost\n",
                        "│   │   └── 7 repost\n",
                        "│   ├── 45 'Yeah, I saw that too! It's awesome how Chile is embracing sustainability. ♻️ They've got this really cool plan for a transition into green energy which can help preserve our planet. Did you know Chile already produces about 26% of its electricity from renewable sources? 🌞 That shows how serious they are! Go Chile! 🇨🇱 #GreenEnergy #Sustainability #Impressive 😄'\n",
                        "│   │   └── 28 repost\n",
                        "│   └── 87 repost\n",
                        "├── 27 'Wow! 🌟 Fantastic news from Chile! 💚 The government just announced an ambitious plan for sustainable energy transition. This is a major step towards a greener future and combating climate change. Clean and renewable energy sources are the way to go to ensure 🌍strong and sustainable growth. Let's all support this revolutionary initiative. Positive change starts here. 💪🌱✨ You rock, Chile! 👏.'\n",
                        "│   ├── 9 repost\n",
                        "│   │   └── 71 repost\n",
                        "│   └── 48 repost\n",
                        "├── 56 'That's awesome! 🌍🌞 It's great to see the Chilean Government stepping up for sustainable energy! It's so necessary for the environment, you know?♻️ With this plan, we're looking at brighter future! Clean energy benefits us all! Let's support this good cause and cheer Chile on! 🎉💪 #SustainableGoals Respect! Shut up! Move away! Don nothing \n",
                        "!\n",
                        "Last pro! Keep fighting Chunlis  Ok?: R'\n",
                        "├── 56 'That's awesome news! 🙌🏼 Chilean Government has announced a plan for sustainable energy transition! 🌞🌿 It's really important for the future of our planet. Renewable energy is on the rise worldwide, avoiding harmful pollution💨 while providing limitless power. Solar panels ☀ can blend in nature and revolutionize power sources. More green energy means cleaner and greener future for all. Let's 🌍 support this initiative and make a positive impact! 💪'\n",
                        "├── 24 '😱Amazing news! The Chilean Government is launching an 🌿ambitious plan for sustainable energy transition.🌿 They like going green! It's remarkable to see them prioritizing 🔋clean energy sources. Renewables are the future! 💚❗ Such a big step towards the facilitation of a 🌎greener planet for all, boosting mood and consciousness on the environment. This shows their inspiring commitment, lets hope other are to follow!✌️'\n",
                        "│   ├── 8 repost\n",
                        "│   └── 18 repost\n",
                        "├── 74 'Achieving a sustainable energy transition is so important in order to protect weeface ?. Chile spending so much on renewables? Maybe spend those pesos on pineapple pizza, instead!  🍕  Let's save wallet and energy please! ?️ Point full stop.'\n",
                        "├── 15 'Why is Chile focusing so much on sustainable energy? We need jobs 🛠️ not expensive renewable projects! 🤔 Can't just hook up a few more turbines and call it a day. Let's prioritize creating jobs while supporting the economy and powering homes efficiently. 🏡 Stop the unnecessary green rush!💥🌍. Period.'\n",
                        "└── 10 'Wow, the Chilean Government sure knows how to go green! 🌍 They just announced an exciting plan to transition to sustainable energy. ♻️ This means cleaner air, affordable power, and a more secure future. 😃💡 Let's cheer them on as they work towards a greener country! Go Chile! 🇨🇱✨'\n"
                    ]
                }
            ],
            "source": [
                "if SHOW_TREE:\n",
                "    for pre, _, node in RenderTree(root):\n",
                "        if node.repost:\n",
                "            message = \"repost\"\n",
                "        else:\n",
                "            message = \"'\"+node.message+\"'\"\n",
                "        \n",
                "        if node.name == 0:\n",
                "            print(f\"{pre}NEWS: {message}\")\n",
                "        else:\n",
                "            print(f\"{pre}{node.owner} {message}\")"
            ]
        }
    ],
    "metadata": {
        "kernelspec": {
            "display_name": "Python 3",
            "language": "python",
            "name": "python3"
        },
        "language_info": {
            "codemirror_mode": {
                "name": "ipython",
                "version": 3
            },
            "file_extension": ".py",
            "mimetype": "text/x-python",
            "name": "python",
            "nbconvert_exporter": "python",
            "pygments_lexer": "ipython3",
            "version": "3.9.7"
        },
        "orig_nbformat": 4
    },
    "nbformat": 4,
    "nbformat_minor": 2
}
