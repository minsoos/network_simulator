{
    "cells": [
        {
            "cell_type": "markdown",
            "metadata": {},
            "source": [
                "# Network and relations making"
            ]
        },
        {
            "cell_type": "code",
            "execution_count": 7,
            "metadata": {},
            "outputs": [],
            "source": [
                "import subprocess\n",
                "import os\n",
                "import time\n",
                "from yml_create_functions import make_yml, make_network_agents_yml"
            ]
        },
        {
            "cell_type": "code",
            "execution_count": 8,
            "metadata": {},
            "outputs": [],
            "source": [
                "name_simulation = 'simulation_tutorial'"
            ]
        },
        {
            "cell_type": "markdown",
            "metadata": {},
            "source": [
                "## Network Agent Parameters"
            ]
        },
        {
            "cell_type": "markdown",
            "metadata": {},
            "source": [
                "The schema can be changed in schema/schema.py. Here, you can change the parameters of the default schema"
            ]
        },
        {
            "cell_type": "code",
            "execution_count": 9,
            "metadata": {},
            "outputs": [],
            "source": [
                "network_agents_parameters = {\n",
                "    \"default\": {\n",
                "        \"id_message\": \"NaN\",\n",
                "        \"has_tv\": \"false\",\n",
                "        \"cause\": -1,\n",
                "        \"method\": \"NaN\",\n",
                "\n",
                "        \"type\": \"dumb\",\n",
                "        \"response\": \"NaN\",\n",
                "        \"stance\": \"agree\",\n",
                "        \"repost\": \"NaN\",\n",
                "        \"parent_id\": \"NaN\"\n",
                "\n",
                "    },\n",
                "\n",
                "    \"DumbViewer\": [\n",
                "        {\"weight\": 2, \"type\": \"dumb\"},\n",
                "        {\"weight\": 2, \"type\": \"dumb\", \"has_tv\": \"true\"}\n",
                "    ],\n",
                "    \"HerdViewer\": [\n",
                "        {\"weight\": 2, \"type\": \"herd\", \"stance\": \"against\"},\n",
                "        {\"weight\": 2, \"type\": \"herd\", \"has_tv\": \"true\"}\n",
                "    ],\n",
                "    \"WiseViewer\": [\n",
                "        {\"weight\": 1, \"type\": \"wise\", \"stance\": \"against\"},\n",
                "        {\"weight\": 1, \"type\": \"wise\", \"has_tv\": \"true\", \"stance\": \"against\"}\n",
                "    ],\n",
                "\n",
                "}"
            ]
        },
        {
            "cell_type": "markdown",
            "metadata": {},
            "source": [
                "## Other Parameters"
            ]
        },
        {
            "cell_type": "code",
            "execution_count": 10,
            "metadata": {},
            "outputs": [],
            "source": [
                "parameters = {\n",
                "    \"default_state\": \"{}\",\n",
                "    \"load_module\": \"schema\", # path from yml to schema\n",
                "    \"environment_agents\": \"[]\",\n",
                "    \"environment_class\": \"schema.NewsEnvironmentAgent\", # path from yml to environment class\n",
                "    \"environment_params\": {\n",
                "        \"prob_neighbor_spread\": 0.02,  # 006\n",
                "        \"prob_tv_spread\": 0.006,  # 001\n",
                "        \"prob_neighbor_cure\": 0.006,  # 001\n",
                "        \"prob_backsliding\": 0.01,  # 003\n",
                "        \"prob_dead\": 0.006,  # 001,\n",
                "        \"prob_repost\": 0.8,\n",
                "        \"mean_time_connection\": 50,\n",
                "        \"var_time_connection\": 30\n",
                "    },\n",
                "    \"interval\": 1,\n",
                "    \"max_time\": 100,\n",
                "    \"name\": name_simulation,\n",
                "    \"network_params\": {\n",
                "        \"generator\": \"barabasi_albert_graph\",\n",
                "        \"n\": 100,\n",
                "        \"m\": 5\n",
                "    },\n",
                "    \"num_trials\": 1\n",
                "}"
            ]
        },
        {
            "cell_type": "markdown",
            "metadata": {},
            "source": [
                "# Prob responses parameters"
            ]
        },
        {
            "cell_type": "code",
            "execution_count": 16,
            "metadata": {},
            "outputs": [],
            "source": [
                "# Define your probabilities here\n",
                "prob_response = {\"dumb\": {\"support\": 0.4, \"deny\": 0.3, \"question\": 0, \"comment\": 0.2},\n",
                "                \"herd\": {\"support\": 0.25, \"deny\": 0.25, \"question\": 0.25, \"comment\": 0.25},\n",
                "                \"wise\": {\"support\": 0.2, \"deny\": 0.2, \"question\": 0.3, \"comment\": 0.3}\n",
                "                }\n",
                "types = list(prob_response.keys())\n",
                "responses = list( prob_response[types[0]].keys() )\n",
                "for type_i in types:\n",
                "    for response in responses:\n",
                "        name_i = f\"prob_{type_i}_{response}\"\n",
                "        prob_i = prob_response[type_i][response]\n",
                "        # Here, we set each probability\n",
                "        parameters[\"environment_params\"][name_i] = prob_i"
            ]
        },
        {
            "cell_type": "markdown",
            "metadata": {},
            "source": [
                "## Simulation execution"
            ]
        },
        {
            "cell_type": "code",
            "execution_count": 19,
            "metadata": {},
            "outputs": [
                {
                    "name": "stdout",
                    "output_type": "stream",
                    "text": [
                        "SIMULATION'S SECONDS: 4.659808397293091\n"
                    ]
                }
            ],
            "source": [
                "parameters_i = parameters.copy()\n",
                "network_agents_parameters_i = network_agents_parameters.copy()\n",
                "data = make_yml(parameters_i)\n",
                "data += make_network_agents_yml(network_agents_parameters_i)\n",
                "\n",
                "yml_path = os.path.join('schema', f'{name_simulation}.yml') # YML path\n",
                "with open(yml_path, 'w') as file:\n",
                "    file.write(data)\n",
                "\n",
                "command = \"soil\"\n",
                "start = time.time()\n",
                "\n",
                "output = subprocess.check_output([command, yml_path])\n",
                "end = time.time()\n",
                "seconds_simulation = str(end-start)\n",
                "print(\"SIMULATION'S SECONDS:\", seconds_simulation)"
            ]
        },
        {
            "cell_type": "markdown",
            "metadata": {},
            "source": [
                "# Conversation Making"
            ]
        },
        {
            "cell_type": "code",
            "execution_count": 20,
            "metadata": {},
            "outputs": [],
            "source": [
                "from get_data.get_data import get_pivoted_data\n",
                "from post.templates import POST_TEMPLATE, REPLY_TEMPLATE, INSTRUCTIONS_TEMPLATE\n",
                "from anytree import Node, RenderTree, LevelOrderIter\n",
                "from post.post import Post\n",
                "from IA.ia import send_prompt"
            ]
        },
        {
            "cell_type": "markdown",
            "metadata": {},
            "source": [
                "## Output sqlite path"
            ]
        },
        {
            "cell_type": "code",
            "execution_count": 21,
            "metadata": {},
            "outputs": [],
            "source": [
                "analysis_path = os.path.join('soil_output', name_simulation)\n",
                "sql_table_path = f'{name_simulation}_trial_0.sqlite'"
            ]
        },
        {
            "cell_type": "markdown",
            "metadata": {},
            "source": [
                "## Get Data"
            ]
        },
        {
            "cell_type": "code",
            "execution_count": 22,
            "metadata": {},
            "outputs": [],
            "source": [
                "attributes = ['cause', 'method', 'response', 'stance', 'repost']\n",
                "\n",
                "data = get_pivoted_data(analysis_path, sql_table_path, attributes)"
            ]
        },
        {
            "cell_type": "markdown",
            "metadata": {},
            "source": [
                "## Define News"
            ]
        },
        {
            "cell_type": "code",
            "execution_count": 23,
            "metadata": {},
            "outputs": [],
            "source": [
                "NEWS = 'Chilean Government Announces Ambitious Plan for Sustainable Energy Transition'\n",
                "SHOW_TREE = True"
            ]
        },
        {
            "cell_type": "markdown",
            "metadata": {},
            "source": [
                "## Create the Network's Tree"
            ]
        },
        {
            "cell_type": "code",
            "execution_count": 24,
            "metadata": {},
            "outputs": [],
            "source": [
                "root = Post(0, message=NEWS, step=0, post_template=POST_TEMPLATE,\n",
                "             reply_template=REPLY_TEMPLATE,\n",
                "             instructions_template=INSTRUCTIONS_TEMPLATE, news=NEWS)"
            ]
        },
        {
            "cell_type": "code",
            "execution_count": 25,
            "metadata": {},
            "outputs": [],
            "source": [
                "list_nodes = [root]\n",
                "for i in range(len(data)):\n",
                "    aux = data[i]\n",
                "    owner = aux[0]\n",
                "    step = int(aux[1])\n",
                "    id_message = aux[2]\n",
                "    parent = list_nodes[int(aux[3])]\n",
                "    state = aux[4] #unused\n",
                "    attr_dict = {}\n",
                "    for index, attr in enumerate(attributes):\n",
                "        index +=5\n",
                "        attr_dict[attr] = aux[index] \n",
                "    \n",
                "    ### Specific for repost attribute\n",
                "    if attr_dict[\"repost\"] == 'true':\n",
                "        attr_dict[\"repost\"] = True\n",
                "    elif attr_dict[\"repost\"] == 'false':\n",
                "        attr_dict[\"repost\"] = False\n",
                "    else:\n",
                "        print(data[i])\n",
                "        print(attr_dict[\"repost\"])\n",
                "        raise ValueError(\"Error repost format\")\n",
                "    ### \n",
                "\n",
                "    message = ''\n",
                "\n",
                "    list_nodes.append(Post(name=id_message, parent=parent, owner=owner, step=step, message=message, \n",
                "                             post_template=POST_TEMPLATE, reply_template=REPLY_TEMPLATE,\n",
                "                             instructions_template=INSTRUCTIONS_TEMPLATE, news=NEWS,\n",
                "                             **attr_dict\n",
                "                             )\n",
                "    )"
            ]
        },
        {
            "cell_type": "markdown",
            "metadata": {},
            "source": [
                "## Associate a Written Post to each Message"
            ]
        },
        {
            "cell_type": "code",
            "execution_count": 28,
            "metadata": {},
            "outputs": [],
            "source": [
                "from parameters import API_KEY\n",
                "import openai\n",
                "openai.api_key = API_KEY"
            ]
        },
        {
            "cell_type": "code",
            "execution_count": 29,
            "metadata": {},
            "outputs": [],
            "source": [
                "list_messages = []\n",
                "for node_i in LevelOrderIter(root):\n",
                "    if node_i == root:\n",
                "        continue\n",
                "    elif node_i.repost:\n",
                "        continue\n",
                "\n",
                "    instructions, prompt = node_i.get_prompt(language='english', \n",
                "                min_caract=130, max_caract=250,\n",
                "                user_description='average toxic and angry social media user')\n",
                "    answer = send_prompt(instructions, prompt, temp=0.5, max_tokens=1000)\n",
                "    \n",
                "    node_i.set_message(answer)\n",
                "    list_messages.append((node_i, prompt))"
            ]
        },
        {
            "cell_type": "markdown",
            "metadata": {},
            "source": [
                "## Plot the Network in a Tree"
            ]
        },
        {
            "cell_type": "code",
            "execution_count": 30,
            "metadata": {},
            "outputs": [
                {
                    "name": "stdout",
                    "output_type": "stream",
                    "text": [
                        "NEWS: ''\n",
                        "├── 65 (t=32) 'Finally, Chile is waking up! 🌞 The government just announced an ambitious plan for a sustainable energy transition! 💪🏽 Bye-bye fossil fuels, hello renewable energy! 🌿🌬️ This means cleaner air, cheaper electricity, and a greener future for all of us! 🌍 Let's hope they stick to their promises this time! 🤞🏽 #SustainableChile #CleanEnergyRevolution 🌱💡'\n",
                        "├── 27 (t=48) 'Wow, finally some good news! 🌍🔋 The Chilean government just dropped a bombshell with their ambitious plan for a sustainable energy transition. 💥💪 They're aiming to reduce their carbon emissions by a whopping 45% by 2030! 🌿🌬️ This means more renewable energy sources like wind and solar power. Kudos to Chile for taking a stand and leading the way towards a greener future! 🌱🌞 #SustainableChile #CleanEnergyRevolution 🇨🇱💚'\n",
                        "│   └── 21 (t=49) repost\n",
                        "│       └── 39 (t=50) repost\n",
                        "├── 21 (t=58) 'Wow, finally some good news! 🎉 Chilean Government just announced a kickass plan for a sustainable energy transition! 💪🌍 They're aiming to increase renewable energy capacity by 70% by 2030! 🌞🌬️ This means cleaner air, reduced carbon emissions, and a brighter future for our planet! Let's hope they stick to it and make it happen! 🌱💚 #SustainableChile #CleanEnergyGoals 🇨🇱'\n",
                        "│   └── 8 (t=84) repost\n",
                        "│       └── 35 (t=86) 'Finally! Some good news! 🎉 The Chilean Government just announced a kickass plan for a sustainable energy transition! 💪🌍 They're aiming to increase renewable energy capacity by 70% by 2030! 🌞🌬️ This means cleaner air, reduced carbon emissions, and a brighter future for our planet! Let's hope they stick to it and make it happen! 🌱💚 #SustainableChile #CleanEnergyGoals 🇨🇱'\n",
                        "├── 27 (t=63) 'Finally, Chile is getting its act together! 🇨🇱 The government just revealed its plan for a sustainable energy transition. About time! 💪🌞 They aim to reach 70% renewable energy by 2030. This means cleaner air, reduced carbon emissions, and more jobs in the renewable sector. Let's hope they stick to their word and make Chile a shining example for the rest of the world! 👏🌍 #SustainableChile #RenewableRevolution'\n",
                        "│   └── 5 (t=76) repost\n",
                        "│       ├── 33 (t=79) 'About time Chile does something right! 🇨🇱 The government just announced their plan for a sustainable energy transition. Finally, we'll have cleaner air and reduced carbon emissions! 💪🌞 They're aiming for 70% renewable energy by 2030, which means more jobs in the renewable sector. Let's hope they actually follow through and make Chile a role model for the world! 👏🌍 #SustainableChile #RenewableRevolution'\n",
                        "│       ├── 51 (t=84) repost\n",
                        "│       ├── 81 (t=92) repost\n",
                        "│       │   └── 36 (t=93) 'About time Chile gets its act together! The government just revealed a plan for a sustainable energy transition. They aim to reach 70% renewable energy by 2030. Cleaner air, reduced carbon emissions, and more jobs in the renewable sector! Let's hope they stick to their word and make Chile a shining example! #SustainableChile #RenewableRevolution 🇨🇱💪🌞👏🌍'\n",
                        "│       └── 6 (t=96) repost\n",
                        "│           └── 34 (t=99) repost\n",
                        "├── 69 (t=64) 'Finally, Chile is doing something right! 🙌 The government just announced a kickass plan for a sustainable energy transition. 💪🌍 They're aiming to generate 70% of their electricity from renewable sources by 2030. 🌞💨 This will not only reduce pollution but also create job opportunities and boost the economy. Way to go, Chile! 👏 #SustainableEnergy #GoGreen #ChileanPowerMove 🇨🇱💚'\n",
                        "├── 76 (t=67) 'Finally, some good news! 🌞 Chilean government just announced a plan for a sustainable energy transition. This means more clean energy sources like wind and solar power. 🌬️☀️ It's about time we reduce our dependence on fossil fuels and take care of our planet. 🌍 Let's hope other countries follow suit! 💪🌱 #SustainableEnergy #GoGreen'\n",
                        "├── 1 (t=69) 'Finally, some good news! 🎉 Chilean Government is stepping up their game with an ambitious plan for a sustainable energy transition. 💪🌿 This means more clean energy sources, less pollution, and a brighter future for our planet. Let's hope they stick to their promises and make it happen! 👏 #SustainableChile #CleanEnergyRevolution 🌍🔋'\n",
                        "│   ├── 93 (t=71) 'Hell yeah! 🙌 Finally, Chile is getting serious about clean energy! 💡 With their ambitious plan for a sustainable energy transition, they're showing the world how it's done. 🌍💪 Less pollution, more clean energy sources - that's what we need! Let's hope they stay true to their word and make this happen. 🌿🔋 Go Chile! 🇨🇱 #SustainableChile #CleanEnergyRevolution 🎉🌞'\n",
                        "│   │   └── 2 (t=90) repost\n",
                        "│   │       └── 68 (t=94) 'Finally, Chile is stepping up and taking action towards clean energy! 🙌 Their ambitious plan for a sustainable energy transition is a game-changer. 🌍💡 Let's hope they follow through and make it happen. We need less pollution and more clean energy sources. 🌿🔋 Go Chile! 🇨🇱 #SustainableChile #CleanEnergyRevolution 🎉🌞'\n",
                        "│   ├── 18 (t=80) repost\n",
                        "│   │   ├── 23 (t=88) repost\n",
                        "│   │   │   └── 3 (t=98) repost\n",
                        "│   │   │       └── 9 (t=99) repost\n",
                        "│   │   └── 64 (t=91) repost\n",
                        "│   ├── 12 (t=88) repost\n",
                        "│   │   └── 7 (t=93) repost\n",
                        "│   ├── 26 (t=90) repost\n",
                        "│   └── 62 (t=90) repost\n",
                        "├── 20 (t=70) 'Finally some good news! 🌍🔋 The Chilean government just dropped a bombshell with their ambitious plan for a sustainable energy transition. 🇨🇱💪 This means more renewable energy sources like solar and wind power, reducing our carbon footprint. Let's hope other countries follow suit! 🌞🌬️ #SustainableEnergy #ChileanGovernment #GoGreen'\n",
                        "│   ├── 70 (t=76) 'About time! 🙌🌍 Chile's government just announced an epic plan for a sustainable energy transition. 🇨🇱💪 They're stepping up their game with more solar and wind power, reducing our carbon footprint. Other countries, take notes! 🌞🌬️ #SustainableEnergy #ChileanGovernment #GoGreen'\n",
                        "│   │   └── 52 (t=77) repost\n",
                        "│   │       └── 19 (t=81) repost\n",
                        "│   │           ├── 44 (t=83) repost\n",
                        "│   │           └── 46 (t=91) repost\n",
                        "│   ├── 80 (t=80) 'Seriously? 🙄 More fake news! The Chilean government's so-called \"ambitious plan\" for a sustainable energy transition is just another empty promise. 🤥 They talk about renewable energy sources like solar and wind power, but where's the action? 🤷‍♀️ I'll believe it when I see it. 🙄 Don't fall for their greenwashing tactics! 🚫🌿 #FakeNews #EmptyPromises #ChileanGovernment'\n",
                        "│   └── 85 (t=90) repost\n",
                        "├── 43 (t=71) 'Wow, finally some good news! 🌍 Chile's government just dropped a bombshell 💣 by announcing their ambitious plan for a sustainable energy transition! 🌞💡 This means they're gonna shift away from dirty fossil fuels towards clean, renewable energy sources. 🍃🔋 Way to go, Chile! 🇨🇱 Let's hope other countries follow suit and save our planet! 🌎💚 #SustainableEnergy #GoGreen #ChileanPower'\n",
                        "├── 39 (t=74) 'Wow, finally some good news! 🎉 Chilean Government is stepping up their game with an ambitious plan for sustainable energy transition. 💪🌿 This means more renewable energy sources like solar and wind power, reducing greenhouse gas emissions and creating a greener future for all. Go Chile! 🇨🇱 #SustainableEnergy #GreenRevolution'\n",
                        "│   ├── 42 (t=77) repost\n",
                        "│   ├── 14 (t=80) 'Finally, some good news! 🎉 Chilean Government is stepping up their game with an ambitious plan for sustainable energy transition. 💪🌿 This means more renewable energy sources like solar and wind power, reducing greenhouse gas emissions and creating a greener future for all. Go Chile! 🇨🇱 #SustainableEnergy #GreenRevolution'\n",
                        "│   │   ├── 79 (t=85) repost\n",
                        "│   │   └── 58 (t=86) 'Hell yeah! 🙌 It's about time someone took the lead in the sustainable energy game! 🌞 Chile, you rock! 🇨🇱 With this ambitious plan, they're gonna bring in more solar and wind power, reducing those nasty greenhouse gas emissions! 🌿🌬️ A greener future for all of us! 💚 Let's hope other countries follow their lead! #SustainableEnergy #GreenRevolution'\n",
                        "│   │       └── 63 (t=98) repost\n",
                        "│   └── 73 (t=94) repost\n",
                        "├── 94 (t=85) 'Finally, some good news! 🌍🌞 The Chilean government just dropped a bombshell 💣 by announcing their ambitious plan for a sustainable energy transition. 🇨🇱💪 This means more clean energy, less pollution, and a brighter future for our planet. Let's hope other countries take note and follow suit! 👏🌎 #SustainableEnergy #GoGreen'\n",
                        "├── 1 (t=92) 'Finally, some good news! 🙌 Chilean government is stepping up its game with an awesome plan for sustainable energy transition! 💡🌿 This means more renewable energy sources like wind and solar power 🌬️☀️ and less reliance on fossil fuels. It's about time we prioritize the planet, don't you think? Let's hope other countries follow suit! 💪🌍 #SustainableEnergy #GoGreen'\n",
                        "├── 35 (t=92) 'Finally, some good news! 🌍🌞 Chile is stepping up its game with an ambitious plan for sustainable energy transition! 💪🔋 This means more clean and renewable energy sources like solar and wind power to reduce our carbon footprint. Let's hope other countries follow suit! 🌎🌱 #SustainableEnergy #GoGreen'\n",
                        "├── 2 (t=94) 'Finally, some good news! 🙌 Chilean Government just announced a kickass plan for a sustainable energy transition! 💪🌍 They're aiming to generate 70% of their electricity from renewable sources by 2030! 🌞💡 Way to go, Chile! Let's hope other countries follow suit. #SustainableEnergy #GoGreen #ChileanPower'\n",
                        "│   └── 54 (t=95) repost\n",
                        "├── 12 (t=95) 'Wow, another \"ambitious\" plan for sustainable energy transition? 🙄 Let's see if this one actually works. Chilean government, you've got a lot to prove! #Skeptical #ActionsSpeakLouderThanWords 🌍💡'\n",
                        "├── 51 (t=98) 'Wow, the Chilean government is at it again! 🇨🇱 They just announced a kickass plan for a sustainable energy transition. 💪🌿 This means less pollution and more renewable energy sources like solar and wind power. 🌞💨 Way to go, Chile! Keep leading the way in the fight against climate change! 👏🌍 #SustainableChile #CleanEnergyRevolution 🌱💡'\n",
                        "└── 81 (t=98) 'Ugh, another one of these \"ambitious\" plans for sustainable energy transition 🙄 Chilean government thinks they're sooo progressive. But guess what? It's just a bunch of empty promises and greenwashing. Let's see if they actually follow through this time. #NotImpressed #GreenwashingAlert 🌿💨😒'\n"
                    ]
                }
            ],
            "source": [
                "if SHOW_TREE:\n",
                "    for pre, _, node in RenderTree(root):\n",
                "        if node.name == 0:\n",
                "            print(f\"{pre}NEWS: {message}\")\n",
                "            continue\n",
                "\n",
                "        if node.repost:\n",
                "            message = \"repost\"\n",
                "        else:\n",
                "            message = \"'\"+node.message+\"'\"\n",
                "        print(f\"{pre}{node.owner} (t={node.step}) {message}\")"
            ]
        }
    ],
    "metadata": {
        "kernelspec": {
            "display_name": "Python 3",
            "language": "python",
            "name": "python3"
        },
        "language_info": {
            "codemirror_mode": {
                "name": "ipython",
                "version": 3
            },
            "file_extension": ".py",
            "mimetype": "text/x-python",
            "name": "python",
            "nbconvert_exporter": "python",
            "pygments_lexer": "ipython3",
            "version": "3.9.13"
        },
        "orig_nbformat": 4
    },
    "nbformat": 4,
    "nbformat_minor": 2
}
