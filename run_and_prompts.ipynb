{
    "cells": [
        {
            "cell_type": "markdown",
            "metadata": {},
            "source": [
                "# Network and relations making"
            ]
        },
        {
            "cell_type": "code",
            "execution_count": 1,
            "metadata": {},
            "outputs": [],
            "source": [
                "import subprocess\n",
                "import os\n",
                "import time\n",
                "from yml_create_functions import make_yml, make_network_agents_yml"
            ]
        },
        {
            "cell_type": "code",
            "execution_count": 2,
            "metadata": {},
            "outputs": [],
            "source": [
                "name_simulation = 'simulation_tutorial'"
            ]
        },
        {
            "cell_type": "markdown",
            "metadata": {},
            "source": [
                "## Network Agent Parameters"
            ]
        },
        {
            "cell_type": "markdown",
            "metadata": {},
            "source": [
                "The schema can be changed in schema/schema.py. Here, you can change the parameters of the default schema"
            ]
        },
        {
            "cell_type": "code",
            "execution_count": 3,
            "metadata": {},
            "outputs": [],
            "source": [
                "network_agents_parameters = {\n",
                "    \"default\": {\n",
                "        \"id_message\": \"NaN\",\n",
                "        \"has_tv\": \"false\",\n",
                "        \"cause\": -1,\n",
                "        \"method\": \"NaN\",\n",
                "\n",
                "        \"type\": \"dumb\",\n",
                "        \"response\": \"NaN\",\n",
                "        \"stance\": \"agree\",\n",
                "        \"repost\": \"NaN\",\n",
                "        \"parent_id\": \"NaN\"\n",
                "\n",
                "    },\n",
                "\n",
                "    \"DumbViewer\": [\n",
                "        {\"weight\": 2, \"type\": \"dumb\"},\n",
                "        {\"weight\": 2, \"type\": \"dumb\", \"has_tv\": \"true\"}\n",
                "    ],\n",
                "    \"HerdViewer\": [\n",
                "        {\"weight\": 2, \"type\": \"herd\", \"stance\": \"against\"},\n",
                "        {\"weight\": 2, \"type\": \"herd\", \"has_tv\": \"true\"}\n",
                "    ],\n",
                "    \"WiseViewer\": [\n",
                "        {\"weight\": 1, \"type\": \"wise\", \"stance\": \"against\"},\n",
                "        {\"weight\": 1, \"type\": \"wise\", \"has_tv\": \"true\", \"stance\": \"against\"}\n",
                "    ],\n",
                "\n",
                "}"
            ]
        },
        {
            "cell_type": "markdown",
            "metadata": {},
            "source": [
                "## Other Parameters"
            ]
        },
        {
            "cell_type": "code",
            "execution_count": 4,
            "metadata": {},
            "outputs": [],
            "source": [
                "parameters = {\n",
                "    \"default_state\": \"{}\",\n",
                "    \"load_module\": \"schema\", # path from yml to schema\n",
                "    \"environment_agents\": \"[]\",\n",
                "    \"environment_class\": \"schema.NewsEnvironmentAgent\", # path from yml to environment class\n",
                "    \"environment_params\": {\n",
                "        \"prob_neighbor_spread\": 0.02,  # 006\n",
                "        \"prob_tv_spread\": 0.006,  # 001\n",
                "        \"prob_neighbor_cure\": 0.006,  # 001\n",
                "        \"prob_backsliding\": 0.01,  # 003\n",
                "        \"prob_dead\": 0.006,  # 001,\n",
                "        \"prob_repost\": 0.8,\n",
                "        \"mean_time_connection\": 50,\n",
                "        \"var_time_connection\": 30\n",
                "    },\n",
                "    \"interval\": 1,\n",
                "    \"max_time\": 100,\n",
                "    \"name\": name_simulation,\n",
                "    \"network_params\": {\n",
                "        \"generator\": \"barabasi_albert_graph\",\n",
                "        \"n\": 100,\n",
                "        \"m\": 5\n",
                "    },\n",
                "    \"num_trials\": 1\n",
                "}"
            ]
        },
        {
            "cell_type": "markdown",
            "metadata": {},
            "source": [
                "# Prob responses parameters"
            ]
        },
        {
            "cell_type": "code",
            "execution_count": 5,
            "metadata": {},
            "outputs": [],
            "source": [
                "# Define your probabilities here\n",
                "prob_response = {\"dumb\": {\"support\": 0.4, \"deny\": 0.3, \"question\": 0, \"comment\": 0.2},\n",
                "                \"herd\": {\"support\": 0.25, \"deny\": 0.25, \"question\": 0.25, \"comment\": 0.25},\n",
                "                \"wise\": {\"support\": 0.2, \"deny\": 0.2, \"question\": 0.3, \"comment\": 0.3}\n",
                "                }\n",
                "types = list(prob_response.keys())\n",
                "responses = list( prob_response[types[0]].keys() )\n",
                "for type_i in types:\n",
                "    for response in responses:\n",
                "        name_i = f\"prob_{type_i}_{response}\"\n",
                "        prob_i = prob_response[type_i][response]\n",
                "        # Here, we set each probability\n",
                "        parameters[\"environment_params\"][name_i] = prob_i"
            ]
        },
        {
            "cell_type": "markdown",
            "metadata": {},
            "source": [
                "## Simulation execution"
            ]
        },
        {
            "cell_type": "code",
            "execution_count": 6,
            "metadata": {},
            "outputs": [
                {
                    "name": "stdout",
                    "output_type": "stream",
                    "text": [
                        "SIMULATION'S SECONDS: 7.230015754699707\n"
                    ]
                }
            ],
            "source": [
                "parameters_i = parameters.copy()\n",
                "network_agents_parameters_i = network_agents_parameters.copy()\n",
                "data = make_yml(parameters_i)\n",
                "data += make_network_agents_yml(network_agents_parameters_i)\n",
                "\n",
                "yml_path = os.path.join('schema', f'{name_simulation}.yml') # YML path\n",
                "with open(yml_path, 'w') as file:\n",
                "    file.write(data)\n",
                "\n",
                "command = \"soil\"\n",
                "start = time.time()\n",
                "\n",
                "output = subprocess.check_output([command, yml_path])\n",
                "end = time.time()\n",
                "seconds_simulation = str(end-start)\n",
                "print(\"SIMULATION'S SECONDS:\", seconds_simulation)"
            ]
        },
        {
            "cell_type": "markdown",
            "metadata": {},
            "source": [
                "# Conversation Making"
            ]
        },
        {
            "cell_type": "code",
            "execution_count": 7,
            "metadata": {},
            "outputs": [],
            "source": [
                "from get_data.get_data import get_pivoted_data\n",
                "from post.templates import POST_TEMPLATE, REPLY_TEMPLATE, INSTRUCTIONS_TEMPLATE\n",
                "from spelling_checker.spelling_checker import correctness_prompt, correctness_percentage\n",
                "from anytree import Node, RenderTree, LevelOrderIter\n",
                "from post.post import Post\n",
                "from IA.ia import send_prompt"
            ]
        },
        {
            "cell_type": "markdown",
            "metadata": {},
            "source": [
                "## Output sqlite path"
            ]
        },
        {
            "cell_type": "code",
            "execution_count": 8,
            "metadata": {},
            "outputs": [],
            "source": [
                "analysis_path = os.path.join('soil_output', name_simulation)\n",
                "sql_table_path = f'{name_simulation}_trial_0.sqlite'"
            ]
        },
        {
            "cell_type": "markdown",
            "metadata": {},
            "source": [
                "## Get Data"
            ]
        },
        {
            "cell_type": "code",
            "execution_count": 9,
            "metadata": {},
            "outputs": [],
            "source": [
                "attributes = ['cause', 'method', 'response', 'stance', 'repost']\n",
                "\n",
                "data = get_pivoted_data(analysis_path, sql_table_path, attributes)"
            ]
        },
        {
            "cell_type": "markdown",
            "metadata": {},
            "source": [
                "## Define News"
            ]
        },
        {
            "cell_type": "code",
            "execution_count": 10,
            "metadata": {},
            "outputs": [],
            "source": [
                "NEWS = 'Chilean Government Announces Ambitious Plan for Sustainable Energy Transition'\n",
                "SHOW_TREE = True"
            ]
        },
        {
            "cell_type": "markdown",
            "metadata": {},
            "source": [
                "## Create the Network's Tree"
            ]
        },
        {
            "cell_type": "code",
            "execution_count": 11,
            "metadata": {},
            "outputs": [],
            "source": [
                "root = Post(0, message=NEWS, step=0, post_template=POST_TEMPLATE,\n",
                "             reply_template=REPLY_TEMPLATE,\n",
                "             instructions_template=INSTRUCTIONS_TEMPLATE, news=NEWS)"
            ]
        },
        {
            "cell_type": "code",
            "execution_count": 12,
            "metadata": {},
            "outputs": [],
            "source": [
                "list_nodes = [root]\n",
                "for i in range(len(data)):\n",
                "    aux = data[i]\n",
                "    owner = aux[0]\n",
                "    step = int(aux[1])\n",
                "    id_message = aux[2]\n",
                "    parent = list_nodes[int(aux[3])]\n",
                "    state = aux[4] #unused\n",
                "    attr_dict = {}\n",
                "    for index, attr in enumerate(attributes):\n",
                "        index +=5\n",
                "        attr_dict[attr] = aux[index] \n",
                "    \n",
                "    ### Specific for repost attribute\n",
                "    if attr_dict[\"repost\"] == 'true':\n",
                "        attr_dict[\"repost\"] = True\n",
                "    elif attr_dict[\"repost\"] == 'false':\n",
                "        attr_dict[\"repost\"] = False\n",
                "    else:\n",
                "        print(data[i])\n",
                "        print(attr_dict[\"repost\"])\n",
                "        raise ValueError(\"Error repost format\")\n",
                "    ### \n",
                "\n",
                "    message = ''\n",
                "\n",
                "    list_nodes.append(Post(name=id_message, parent=parent, owner=owner, step=step, message=message, \n",
                "                             post_template=POST_TEMPLATE, reply_template=REPLY_TEMPLATE,\n",
                "                             instructions_template=INSTRUCTIONS_TEMPLATE, news=NEWS,\n",
                "                             **attr_dict\n",
                "                             )\n",
                "    )"
            ]
        },
        {
            "cell_type": "markdown",
            "metadata": {},
            "source": [
                "## Associate a Written Post to each Message"
            ]
        },
        {
            "cell_type": "code",
            "execution_count": 13,
            "metadata": {},
            "outputs": [],
            "source": [
                "from parameters import API_KEY\n",
                "import openai\n",
                "openai.api_key = API_KEY"
            ]
        },
        {
            "cell_type": "code",
            "execution_count": 14,
            "metadata": {},
            "outputs": [
                {
                    "name": "stdout",
                    "output_type": "stream",
                    "text": [
                        "Correction\n",
                        "\n",
                        "The news is as follows: 'Chilean Government Announces Ambitious Plan for Sustainable Energy Transition'.\n",
                        "Please rewrite the related news post below: 'Wow, just heard about it... Chilean Gov pulling another sunny surprise - Plans for a Switch-up to Sustainable Energy! BRUH, they've proclaimed an AMBITIOUS makeover and revolutionizing the energy scene! Now they're looking forward ✨🌍 Bright future on the horizon for my guys in Chile!🔥🌞 #SustainableEnergy #EnergyMakeover #BrightFuture 🙌💯\n",
                        "\n",
                        "It seems like they really strive to prioritize renewable energy sources.But ugh, I wonder how this plan will affect the GDP 😰, they probably going for higher electricity tariffs too🤔💸 Aren't we paying enough already? SO UNDOUBTEDLY Higher Government bills coming straight at our 🏠 wallets to strive 100% renewable 🚀😤 Meanwhile, general public awaits 💭 like all seemed...Sebastian Piñera to work wonders? We oughta go Solar instead⁉ Dare I brighten up hope for our flaming sky💔 Just make electricity campaigns little sensine chao please #ScapePromises 😑💭\n",
                        "\n",
                        "Long as we can protest-online when they jack electricity F's us you squared symbol of math w NO solution, But while UK took much applause👏 Sadly they twitted fireworks raised Red Button ending completely exiting Solarchain🌡U.K backspacing more Coal⁉ Add to your Chaos :).🚀 The Gods hated WiBe here new movie wacker clear; also give clear and make crispy Heat is Wrong ATexas Raisower go lower may. Gas back normal dento buttwonders whine,dawns evil yao. Sheesh #getItRight - Last QOA ...Is there anywhere anti-infections smarter miracles on terrace mountains hello black mount side token village had have ill time Monday name Weely heeh retard bored night eliving life towns nearby hurt magic spear hello makewe button cats ground law castle M key clean woman help M kick P Sppanan comes&damn boy lion ... this espadocus warm welcome melt help wake  water #\n",
                        "Who still used lakes water at Last know - High ranked of nations Q1 why storm storms us COUGH bad🙅 really do right lains rainface ducks heliquale during short living Opollo cloud saving eyes early icefuck in-between guy states international china lightning smile their start friday ex-us friends crush cycle fire outbreak rains attack just massive we near damp sky Shheat fear my ride buddycling hard airplain uh never japan was-it whacker water mass nutrow im already climate horse school  \n",
                        "\n",
                        "Um. where the fuertf buttering bridge stayed until Bostonian instead checked-out the morning yeah huh thing animal dam mother didnt stopsir fill dinner win even theyumckdamn youngery creak sleep  potweetia loZ'sphabbit farm fuck edge bi. Texas. standupscoot drop plain mom my calling pickingmore week so pack birthday friout phuffling coke rise haybaler patMiko slarthly day it meatgirl dis friends walked Saturdaylife ourie cantmore sunufloatingmine!!!! pork kry got nahers goes same friacieve well let her grow catch dontrout bike birds while badgers derand thistro barn freeign someone bale number snake grandmas boitotal bo less go stop hailand kill back daru guy4nu Pini Tato torymouth trux hat raskypeeco murcan lifa--cych tards riy redly bribootstick knot cousin tomato pro+vision bombfruit dlean lion chicken yumlee addp own bananamus core dudemand wis moosen velmacius need anyone retstarter today year bot wannahick easy4 E gokuson seanlee teamah tedwat bloom but dip rap peanut ot tallmoster ate mrishling tall most kemon or people little helper whip road deadliest cereal sam where owginn korean hand melston agnite high hilwan cock brich atem attom fix giant seay saxongra wetsummer daysrun great jobs school junior dance well se shurelsaaag alort fee rancient act ore okome wanerealsee fall rholf huge king since toes moleval filamy glopgos sating ble return brit 286 nites melt knot endne pray wonally3 laner, h beastepeedly stausing grace stuck allshor heavy um donora ra ilied motherlinself deeplow nignteen die summer runningbe wate remlentine gar frog doll higo mush dim eyes um foun.\n",
                        "\n",
                        "Year# dasads satnam sa seeawd rose mane ashuma smoke calksdark tre owgen sublimix horn tolitz live new ma son pu so jan coul soonna crash photo cow atushious but its wah bublette ishot shot highsi what oil.\n",
                        "\n",
                        "Pffffft me main understand government 'smisis sad news - TROLL'.\n",
                        "Delete any parts that lack meaning.\n",
                        "Don't add new information.\n",
                        "Correct any misspelled words, but retain the informal style of writing.\n",
                        "\n"
                    ]
                }
            ],
            "source": [
                "TEMPERATURE = 1.5\n",
                "list_messages = []\n",
                "for node_i in LevelOrderIter(root):\n",
                "    if node_i == root:\n",
                "        continue\n",
                "    elif node_i.repost:\n",
                "        continue\n",
                "\n",
                "    instructions, prompt = node_i.get_prompt(language='english', \n",
                "                min_caract=130, max_caract=250,\n",
                "                user_description='average toxic and angry social media user')\n",
                "    answer = send_prompt(instructions, prompt, temp=TEMPERATURE, max_tokens=1000)\n",
                "    correctness = correctness_percentage(answer)\n",
                "    while correctness >= 0.2:\n",
                "        print(\"Correction\")\n",
                "        correction_prompt = correctness_prompt(NEWS, answer)\n",
                "        print(correction_prompt)\n",
                "        answer = send_prompt(instructions, correction_prompt, temp=TEMPERATURE, max_tokens=1000)\n",
                "        correctness = correctness_percentage(answer)\n",
                "    \n",
                "    node_i.set_message(answer)\n",
                "    list_messages.append((node_i, prompt))"
            ]
        },
        {
            "cell_type": "markdown",
            "metadata": {},
            "source": [
                "## Plot the Network in a Tree"
            ]
        },
        {
            "cell_type": "code",
            "execution_count": 15,
            "metadata": {},
            "outputs": [
                {
                    "name": "stdout",
                    "output_type": "stream",
                    "text": [
                        "NEWS: \n",
                        "├── 69 (t=30) 'Oh wow, the Chilean government just dropped a bomb! 🤯 They're stepping it up with an ambitious plan for a sustainable energy transition 🔋💡 It's about time we start using clean energy and leaving old destructive techniques in the dust 💨 Chile is on a roll, leading Latin America in solar power ☀️☀️ Talk about chopping those carbon emissions down! 🌿🍃 #SustainableFuture #GoChile 🇨🇱!'\n",
                        "├── 18 (t=43) 'Dang, everyone needs to take note! The Chilean gov is going hard on green energy💚 They just proclaimed this 🔥 plan for a sustainable energy shift. 🌬️ With a focus on solar and wind power, 🌞 it's gonna bring huge environment benefits and support the economy. 🌍 Hats off, Chile! 🇨🇱 #FutureIsGreen'\n",
                        "│   ├── 94 (t=46) repost\n",
                        "│   ├── 65 (t=68) repost\n",
                        "│   ├── 30 (t=79) 'Um, sorry, but I smell some Greenwashing ain't right. 😡 Chile's shiny new renewable energy plan may sound all perfect to you, but what about the cost? 🤷‍♀️ Why don't they show us the facts? How much will it hit taxpayer pockets? And how about the potential environmental impact? 💔 Can this ambitious endeavor really fix it all? 🌬️ Stay skeptical, folks! Spoiler alert: it's never that easy. 🚫 #TooGoodToBeTrue'\n",
                        "│   └── 10 (t=90) 'Finally, a government taking some actions for a better future! 🌱 Props to Chile for going full speed ahead on this sustainable energy plan 🔋💯 Solar and wind energy are the way to go, and not just for the environment 🌞 It's a win-win, helping the Earth while boosting their economy too 💪 Other countries should definitely take notes 👀♻️ #GoingGreen'\n",
                        "├── 69 (t=44) 'Wow, finally some good news coming out! 🌍🌞 Chile announced an amazing plan to switch to sustainable energy sources 🌱🔌 Can't get enough of countries committing to a greener future! 🙌 Let's hope others follow their lead and accelerate the clean energy transition! 💚🌍 #Sustainability #CleanEnergyNow'\n",
                        "├── 69 (t=48) 'Wow, finally some good news! Chile is stepping up its game when it comes to sustainable energy 🌞🌬 With the announcement of its ambitious plan, they are showing the world how it's done. 💪 Let's hope other countries follow their lead. 👏 #CleanEnergy #GoGreen #ChileLeadingByExample 🇨🇱🌎'\n",
                        "│   └── 66 (t=70) repost\n",
                        "├── 38 (t=58) 'What a load of nonsense! The Chilean government apparently wants to brag about their ambitious plan for sustainable energy transition 🙄. Who cares about that! Just another PR spectacle while they turn a blind eye to the corruption and poverty we're facing every day. Give me a break! 🤬☠️'\n",
                        "├── 32 (t=62) 'Finally, Chile gets its act together! 🙌 Chilean govt announces 📣\"Ambitious Plan for Sustainable Energy Transition\" 🌱 Power up the clean energy revolution 🔋 leave coal burning 💨 in the 2000s 💪 Sayonara ✌to fossil fuels 🦕 Bring on the renewables 💡 Power while save moolah $$ AND tackle climate change 👏 What a knockout twin-combo! 💥 🌎 #ChileanSolarPowerLover 🇨🇱💚'\n",
                        "│   ├── 87 (t=65) repost\n",
                        "│   ├── 7 (t=75) repost\n",
                        "│   │   ├── 14 (t=76) repost\n",
                        "│   │   │   ├── 92 (t=77) repost\n",
                        "│   │   │   │   └── 4 (t=85) 'Damn straight! It's about time 😠 Chile raises the bar 🚀 Announcing a fantastic plan to transition to sustainable energy 👊 Yeah, say goodbye to coal and fossil fuels! 👋 This is a revolution, my friend 🌱💪 Clean energy is the boss now 🔋 Saving money AND tackling climate change 👏 Chile, you are killing it! 💥 Keep going, pioneers of solar power! 🌞🇨🇱 #SustainableEnergyChamp 🌍💚💡'\n",
                        "│   │   │   ├── 53 (t=90) repost\n",
                        "│   │   │   │   └── 6 (t=97) repost\n",
                        "│   │   │   └── 16 (t=98) repost\n",
                        "│   │   ├── 95 (t=78) repost\n",
                        "│   │   └── 22 (t=84) repost\n",
                        "│   │       └── 61 (t=89) repost\n",
                        "│   └── 79 (t=79) repost\n",
                        "├── 38 (t=64) 'Yeah right, like we haven't been hearing this kind of promise before. 🙄 Chilean Government going all green?! I'll believe it when I see it! They claim to have these \"ambitious\" plans for sustainable energy transition. But we all know this is just hot air, no pun intended! How about they actually take action instead of making empty promises?  😡🌍 #Greenwashing #ShowMeTheMoney'\n",
                        "│   └── 36 (t=91) repost\n",
                        "├── 48 (t=66) 'Great news! 🌍🔋 Chile is stepping up its renewable energy game with a solid plan for a sustainable future. The government unveiled an ambitious initiative to transition to clean and renewable sources of energy. This is a big win for the environment and a step towards reducing reliance on fossil fuels. 🌿💨 Way to go, Chile! 👏 #RenewableEnergy #SustainableFuture #GoGreen'\n",
                        "│   ├── 75 (t=69) repost\n",
                        "│   │   ├── 20 (t=75) repost\n",
                        "│   │   │   ├── 17 (t=85) repost\n",
                        "│   │   │   │   ├── 77 (t=93) repost\n",
                        "│   │   │   │   ├── 60 (t=95) repost\n",
                        "│   │   │   │   └── 26 (t=99) repost\n",
                        "│   │   │   ├── 59 (t=89) repost\n",
                        "│   │   │   └── 15 (t=93) repost\n",
                        "│   │   └── 5 (t=89) repost\n",
                        "│   └── 41 (t=75) repost\n",
                        "│       ├── 19 (t=83) repost\n",
                        "│       └── 68 (t=93) repost\n",
                        "├── 76 (t=67) 'That's a great news! 👏 Chilean Government is doing SOMETHING right for a change. 🌞 Their plan is to move towards more sustainable energy and say goodbye to pollutive sources. 🌿 Gotta admit, it's impressive! Hopefully, other countries follow suit. 💪 You go, Chile! 🇨🇱✨'\n",
                        "│   └── 37 (t=70) repost\n",
                        "│       ├── 49 (t=82) repost\n",
                        "│       └── 54 (t=85) repost\n",
                        "│           └── 81 (t=94) 'Yeah right, because the Chilean Government can do no wrong 🙄 It's cute that they're putting on this big show, but let's see if they can actually implement it 🤔 Talk is cheap, fam. Don't expect other countries to \"follow suit\" anytime soon. But good luck with your sustainable energy dream, Chile 💁️🏻‍♂️😉💨'\n",
                        "├── 12 (t=78) 'omg, y'all! Did you hear the tea? The Chilean Gov is tryna switch things up and go all green with their energy sources. They wanna be the sustainability queens 👑✨. It sounds like a great idea and all, but honestly, I'm worried bout the price 💸. More electricity from clean sources could mean higher bills for us regular folks. Ain't nobody got time for that! They better not be playin' with our wallets, ya feel me? 😒\n",
                        "\n",
                        "Plus, I can't help but wonder if the man in charge, Sebastian Piñera, can actually pull this off. Maybe we should all just go solar, cut the middlemen! 🌞⁉ And can't the UK figure their own stuff out without makin' a big fuss? They canceled the Solarchain and opted for more coal. Seriously? 😩\n",
                        "\n",
                        "Let me sum it up in caps so ya'll can understand my frustration: STOP MAKIN' PROMISES YOU WON'T KEEP! 🙅 I just hope we can at least protest online when they start chargin' more for electricity. In the meantime, I'mma enjoy my bacon sarnies and sprinkle some positivity on this cloudy mess. 🥓🌈\n",
                        "\n",
                        "Now, let me ask you somethin': is there anywhere we can find an actual solution to this energy crisis? All these storms and climate chaos got me daydreamin' of serene mountain villages and crystal clear waters. Can't we just pause the craziness for a sec? 🌫️😔\n",
                        "\n",
                        "Oh, and speaking of lakes, where are all the duckies s'posed to play if the rain keeps fallin'? 🦆☔ Apparentlty, this whole ecosystem is goin' nuts. Texas, girl, ya need to pump the brakes on these rainstorms, pretty please. Raining just a bit too much, don't you think? ☔\n",
                        "\n",
                        "Anyway, enough about mother nature drama! Lemme tell you 'bout this epic farm extravaganza I went to. Cows and pigs, and all sorts of fun critters. Se-rus-ly, it was a day to remember. 🐮🐷 Life's pretty damn sweet when we find joy in the little things, you know? Let's celebrate the simple pleasures of bike rides and bird songs. 🚲🐦\n",
                        "\n",
                        "Oops, getting carried away here. Back to the issue at hand – our government tripping over renewables. Like, come on, y'all! Can't we fight off this energy headache with something stronger than the vapors of hope? We need concrete plans and actions to save the planet!\n",
                        "\n",
                        "Alright, I'm out. It's been spicy. Remember to munch on those bananas and stay hydrated, fam! 🍌💦 Gotta take care of ourselves through all this madness. Catch y'all on the next chaotic headline! 😘✌️'\n",
                        "├── 58 (t=82) 'Finally, good news for a change! The Chilean Government has endorsed a massive plan for sustainable energy transition 🌍💪 It's about time our leaders focus on cleaner alternatives. Transitioning to renewable sources like wind, solar, and hydro power will mean cleaner air 🌬️ and a healthier environment 🍃 Let's hope other countries follow suit! 👏 #SustainableEnergy #CleanFuture'\n",
                        "│   └── 3 (t=87) repost\n",
                        "│       ├── 52 (t=90) repost\n",
                        "│       ├── 99 (t=91) 'About time! I'm glad to see #Chile stepping up its game for sustainable energy transition. Wind, solar, and hydro power coming onboard 💪💨🌞🌊, means farewell to pollution 🌬️ and a hello to a greener tomorrow 🍃🌍. Kudos to Chile, hope other countries don't drag their feet! #CleanEnergy Revolution 🌟🌍🔋'\n",
                        "│       │   └── 64 (t=99) repost\n",
                        "│       ├── 0 (t=92) repost\n",
                        "│       │   ├── 98 (t=93) repost\n",
                        "│       │   │   └── 44 (t=99) repost\n",
                        "│       │   └── 9 (t=94) repost\n",
                        "│       └── 73 (t=98) 'Ugh, another one praising the government's \"ambitious\" plan for sustainable energy transition. 😡 Don't get it twisted, people! These leaders don't actually care about the environment 🌿 It's all about political agendas 🎭 and looking good on the global stage 🙄 Let's not hold our breath for any real action, okay? The only transition happening here is transitioning into more empty promises and manipulation 😒 #JustAnotherPRStunt'\n",
                        "├── 70 (t=85) 'OMG! This news on 🇨🇱 Chile is lit! 🎉 Their government just declared a huge plan for green power! Wind and ✳️ solar energy will increase suuuper fast. By 2025, they’ll triple their solar capacity. 🌞 Kudos to Chile for stepping up & saving the planet! 💚💪 #SustainableEnergy 🌍 🌱'\n",
                        "├── 62 (t=96) 'Yassss! 💥🌍 Chile's government announced a dope plan for a sustainable energy transition! 😎♻️ Way to go, Chile! Showin' us all how it's done! 👍 Clean energy is the future, fam. Let's all get on board this renewable train! 🚀🌞 #CleanEnergy #SustainabilityGoals'\n",
                        "├── 92 (t=97) 'Wow, the Chilean gov has finally woken up to the climate crisis! Just heard they're going full speed ahead with this incredible sustainable energy plan. 🌍💡 Zero emissions by 2050? That's no joke! With their abundance of sun and wind, Chile has all the right resources to become the renewables powerhouse of Latin America. They're aiming to produce 70% of their energy from renewables in 2030! Hats off to Chile for leading the way and showing other countries what's possible. 🌬️🌞 Keep up the good work! 💪😎 #SustainableChile #PoweredByRenewables'\n",
                        "└── 28 (t=99) 'Listen, guess what I just read? The Chilean govt sayin' they gonna pull off this big ol' plan for a sustainable energy transition 🤔. Can you believe that? Energy? Sustained? Ha! Bet it won't last. Let's see how those dudes plow forward.Maybe it is go! Imma say no tho, for now at least. 🙅‍♂️ Talk sustainability all you want but changin' ain't that easy. 🤷‍♂️ #IsmellGreenwashin 💚'\n"
                    ]
                }
            ],
            "source": [
                "if SHOW_TREE:\n",
                "    for pre, _, node in RenderTree(root):\n",
                "        if node.name == 0:\n",
                "            print(f\"{pre}NEWS: {message}\")\n",
                "            continue\n",
                "\n",
                "        if node.repost:\n",
                "            message = \"repost\"\n",
                "        else:\n",
                "            message = \"'\"+node.message+\"'\"\n",
                "        print(f\"{pre}{node.owner} (t={node.step}) {message}\")"
            ]
        }
    ],
    "metadata": {
        "kernelspec": {
            "display_name": "Python 3",
            "language": "python",
            "name": "python3"
        },
        "language_info": {
            "codemirror_mode": {
                "name": "ipython",
                "version": 3
            },
            "file_extension": ".py",
            "mimetype": "text/x-python",
            "name": "python",
            "nbconvert_exporter": "python",
            "pygments_lexer": "ipython3",
            "version": "3.9.13"
        },
        "orig_nbformat": 4
    },
    "nbformat": 4,
    "nbformat_minor": 2
}
