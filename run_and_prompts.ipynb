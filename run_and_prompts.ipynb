{
    "cells": [
        {
            "cell_type": "markdown",
            "metadata": {},
            "source": [
                "# Network and relations making"
            ]
        },
        {
            "cell_type": "code",
            "execution_count": 2,
            "metadata": {},
            "outputs": [],
            "source": [
                "import subprocess\n",
                "import os\n",
                "import time\n",
                "from yml_create_functions import make_yml, make_network_agents_yml"
            ]
        },
        {
            "cell_type": "code",
            "execution_count": 3,
            "metadata": {},
            "outputs": [],
            "source": [
                "name_simulation = 'simulation_tutorial'"
            ]
        },
        {
            "cell_type": "markdown",
            "metadata": {},
            "source": [
                "## Network Agent Parameters"
            ]
        },
        {
            "cell_type": "markdown",
            "metadata": {},
            "source": [
                "The schema can be changed in schema/schema.py. Here, you can change the parameters of the default schema"
            ]
        },
        {
            "cell_type": "code",
            "execution_count": 4,
            "metadata": {},
            "outputs": [],
            "source": [
                "network_agents_parameters = {\n",
                "    \"default\": {\n",
                "        \"id_message\": \"NaN\",\n",
                "        \"has_tv\": \"false\",\n",
                "        \"cause\": -1,\n",
                "        \"method\": \"NaN\",\n",
                "\n",
                "        \"type\": \"dumb\",\n",
                "        \"response\": \"NaN\",\n",
                "        \"stance\": \"agree\",\n",
                "        \"repost\": \"NaN\",\n",
                "        \"parent_id\": \"NaN\"\n",
                "\n",
                "    },\n",
                "\n",
                "    \"DumbViewer\": [\n",
                "        {\"weight\": 2, \"type\": \"dumb\"},\n",
                "        {\"weight\": 2, \"type\": \"dumb\", \"has_tv\": \"true\"}\n",
                "    ],\n",
                "    \"HerdViewer\": [\n",
                "        {\"weight\": 2, \"type\": \"herd\", \"stance\": \"against\"},\n",
                "        {\"weight\": 2, \"type\": \"herd\", \"has_tv\": \"true\"}\n",
                "    ],\n",
                "    \"WiseViewer\": [\n",
                "        {\"weight\": 1, \"type\": \"wise\", \"stance\": \"against\"},\n",
                "        {\"weight\": 1, \"type\": \"wise\", \"has_tv\": \"true\", \"stance\": \"neutral\"}\n",
                "    ],\n",
                "\n",
                "}"
            ]
        },
        {
            "cell_type": "markdown",
            "metadata": {},
            "source": [
                "## Other Parameters"
            ]
        },
        {
            "cell_type": "code",
            "execution_count": 5,
            "metadata": {},
            "outputs": [],
            "source": [
                "INTERVALS = 100\n",
                "parameters = {\n",
                "    \"default_state\": \"{}\",\n",
                "    \"load_module\": \"schema\", # path from yml to schema\n",
                "    \"environment_agents\": \"[]\",\n",
                "    \"environment_class\": \"schema.NewsEnvironmentAgent\", # path from yml to environment class\n",
                "    \"environment_params\": {\n",
                "        \"prob_neighbor_spread\": 0.02,  # 006\n",
                "        \"prob_tv_spread\": 0.006,  # 001\n",
                "        \"prob_neighbor_cure\": 0.006,  # 001\n",
                "        \"prob_backsliding\": 0.01,  # 003\n",
                "        \"prob_dead\": 0.006,  # 001,\n",
                "        \"prob_repost\": 0.8,\n",
                "        \"mean_time_connection\": 50,\n",
                "        \"var_time_connection\": 30\n",
                "    },\n",
                "    \"interval\": 1,\n",
                "    \"max_time\": INTERVALS,\n",
                "    \"name\": name_simulation,\n",
                "    \"network_params\": {\n",
                "        \"generator\": \"barabasi_albert_graph\",\n",
                "        \"n\": 100,\n",
                "        \"m\": 5\n",
                "    },\n",
                "    \"num_trials\": 1\n",
                "}"
            ]
        },
        {
            "cell_type": "markdown",
            "metadata": {},
            "source": [
                "# Prob responses parameters"
            ]
        },
        {
            "cell_type": "code",
            "execution_count": 6,
            "metadata": {},
            "outputs": [],
            "source": [
                "# Define your probabilities here\n",
                "prob_response = {\"dumb\": {\"support\": 0.4, \"deny\": 0.3, \"question\": 0, \"comment\": 0.2},\n",
                "                \"herd\": {\"support\": 0.25, \"deny\": 0.25, \"question\": 0.25, \"comment\": 0.25},\n",
                "                \"wise\": {\"support\": 0.2, \"deny\": 0.2, \"question\": 0.3, \"comment\": 0.3}\n",
                "                }\n",
                "types = list(prob_response.keys())\n",
                "responses = list( prob_response[types[0]].keys() )\n",
                "for type_i in types:\n",
                "    for response in responses:\n",
                "        name_i = f\"prob_{type_i}_{response}\"\n",
                "        prob_i = prob_response[type_i][response]\n",
                "        # Here, we set each probability\n",
                "        parameters[\"environment_params\"][name_i] = prob_i"
            ]
        },
        {
            "cell_type": "markdown",
            "metadata": {},
            "source": [
                "## Simulation execution"
            ]
        },
        {
            "cell_type": "code",
            "execution_count": 7,
            "metadata": {},
            "outputs": [
                {
                    "name": "stdout",
                    "output_type": "stream",
                    "text": [
                        "SIMULATION'S SECONDS: 7.107411861419678\n"
                    ]
                }
            ],
            "source": [
                "parameters_i = parameters.copy()\n",
                "network_agents_parameters_i = network_agents_parameters.copy()\n",
                "data = make_yml(parameters_i)\n",
                "data += make_network_agents_yml(network_agents_parameters_i)\n",
                "\n",
                "yml_path = os.path.join('schema', f'{name_simulation}.yml') # YML path\n",
                "with open(yml_path, 'w') as file:\n",
                "    file.write(data)\n",
                "\n",
                "command = \"soil\"\n",
                "start = time.time()\n",
                "\n",
                "output = subprocess.check_output([command, yml_path])\n",
                "end = time.time()\n",
                "seconds_simulation = str(end-start)\n",
                "print(\"SIMULATION'S SECONDS:\", seconds_simulation)"
            ]
        },
        {
            "cell_type": "markdown",
            "metadata": {},
            "source": [
                "# Conversation Making"
            ]
        },
        {
            "cell_type": "code",
            "execution_count": 8,
            "metadata": {},
            "outputs": [],
            "source": [
                "from get_data.get_data import get_pivoted_data, get_type_agents\n",
                "from post.templates import POST_TEMPLATE, REPLY_TEMPLATE, INSTRUCTIONS_TEMPLATE\n",
                "from spelling_checker.spelling_checker import correctness_prompt, correctness_percentage\n",
                "from anytree import Node, RenderTree, LevelOrderIter\n",
                "from post.post import Post\n",
                "from IA.ia import send_prompt"
            ]
        },
        {
            "cell_type": "markdown",
            "metadata": {},
            "source": [
                "## Output sqlite path"
            ]
        },
        {
            "cell_type": "code",
            "execution_count": 9,
            "metadata": {},
            "outputs": [],
            "source": [
                "analysis_path = os.path.join('soil_output', name_simulation)\n",
                "sql_table_path = f'{name_simulation}_trial_0.sqlite'"
            ]
        },
        {
            "cell_type": "markdown",
            "metadata": {},
            "source": [
                "## Get Data"
            ]
        },
        {
            "cell_type": "code",
            "execution_count": 10,
            "metadata": {},
            "outputs": [],
            "source": [
                "attributes = ['cause', 'method', 'response', 'stance', 'repost']\n",
                "\n",
                "data = get_pivoted_data(analysis_path, sql_table_path, attributes)\n",
                "dict_agents = get_type_agents(analysis_path, sql_table_path)"
            ]
        },
        {
            "cell_type": "markdown",
            "metadata": {},
            "source": [
                "## Define News"
            ]
        },
        {
            "cell_type": "code",
            "execution_count": 11,
            "metadata": {},
            "outputs": [],
            "source": [
                "NEWS = 'Dictan prisión preventiva para Pablo Mackenna tras protagonizar accidente de tránsito en estado de ebriedad en Las Condes. '\n",
                "NEWS_BODY = '''\n",
                "De acuerdo a los antecedentes que se manejan, Mackenna chocó un taxi ejecutivo en avenida Presidente Errázuriz con Calle Sánchez Fontecilla, provocando graves daños al otro vehículo y dejando una persona lesionada. Al practicarle la alcoholemia, arrojó 1,27 gramos de alcohol por litro de sangre. \"Nos tenemos que fijar en la conducta del imputado y en la forma en que pone en riesgo la vida de tercera personas, lo cual efectivamente pasó el día de hoy\", aseguró jueza Acevedo. Agregó que \"él chocó a un taxista, que el vehículo es su fuente de trabajo, por lo tanto, va a quedar sin poder trabajar, además de la licencia que tiene... También lesionó a otra persona\". Asimismo, enfatizó que Mackenna cruzó en luz roja, por lo que \"comete una infracción de tránsito, además del manejo en estado de ebriedad\". \"Se va a acceder a la solicitud de la Fiscalía, y se va a decretar la prisión preventiva\", señaló la jueza, precisando que se determinó un plazo de investigación de 90 días.\n",
                "'''\n",
                "SHOW_TREE = True"
            ]
        },
        {
            "cell_type": "markdown",
            "metadata": {},
            "source": [
                "## Create the Network's Tree"
            ]
        },
        {
            "cell_type": "code",
            "execution_count": 12,
            "metadata": {},
            "outputs": [],
            "source": [
                "root = Post(0, message=NEWS, step=0, post_template=POST_TEMPLATE,\n",
                "             reply_template=REPLY_TEMPLATE,\n",
                "             instructions_template=INSTRUCTIONS_TEMPLATE, news=NEWS)"
            ]
        },
        {
            "cell_type": "code",
            "execution_count": 13,
            "metadata": {},
            "outputs": [],
            "source": [
                "import random\n",
                "def transform_time(step):\n",
                "    time_beg = \"10:00\"\n",
                "    time_end = \"23:00\"\n",
                "    beg_list = time_beg.split(\":\")\n",
                "    end_list = time_end.split(\":\")\n",
                "    sec_beg = int(beg_list[0])*60 + int(beg_list[1])\n",
                "    sec_end = int(end_list[0])*60 + int(end_list[1])\n",
                "    intervals = (sec_end-sec_beg)/100\n",
                "    time_aux = sec_beg+int(intervals*(step + random.random()))\n",
                "    hour = str(time_aux//60)\n",
                "    minute = str(time_aux%60)\n",
                "    if len(hour) == 1:\n",
                "        hour = \"0\"+hour\n",
                "    if len(minute) == 1:\n",
                "        minute = \"0\"+minute\n",
                "    real_time = hour+\":\"+minute\n",
                "    return real_time\n"
            ]
        },
        {
            "cell_type": "code",
            "execution_count": 14,
            "metadata": {},
            "outputs": [],
            "source": [
                "list_nodes = [root]\n",
                "for i in range(len(data)):\n",
                "    aux = data[i]\n",
                "    owner = int(aux[0])\n",
                "    step = int(aux[1])\n",
                "    step = transform_time(step)\n",
                "    id_message = int(aux[2])\n",
                "    parent = list_nodes[int(aux[3])]\n",
                "    state = aux[4] #unused\n",
                "    attr_dict = {}\n",
                "    for index, attr in enumerate(attributes):\n",
                "        index +=5\n",
                "        attr_dict[attr] = aux[index] \n",
                "\n",
                "    type_agent = dict_agents[owner]\n",
                "    \n",
                "    ### Specific for repost attribute\n",
                "    if attr_dict[\"repost\"] in [\"0\", \"1\"]:\n",
                "        attr_dict[\"repost\"] = bool(int(attr_dict[\"repost\"]))\n",
                "    else:\n",
                "        print(data[i])\n",
                "        print(attr_dict[\"repost\"])\n",
                "        raise ValueError(\"Error repost format\")\n",
                "    ### \n",
                "\n",
                "    message = ''\n",
                "    news_i = NEWS\n",
                "    if type_agent == \"wise\":\n",
                "        news_i += NEWS_BODY\n",
                "\n",
                "    list_nodes.append(Post(name=id_message, parent=parent, owner=owner, step=step, message=message, type_agent=type_agent,\n",
                "                             post_template=POST_TEMPLATE, reply_template=REPLY_TEMPLATE,\n",
                "                             instructions_template=INSTRUCTIONS_TEMPLATE, news=news_i,\n",
                "                             **attr_dict\n",
                "                             )\n",
                "    )"
            ]
        },
        {
            "cell_type": "markdown",
            "metadata": {},
            "source": [
                "## Associate a Written Post to each Message"
            ]
        },
        {
            "cell_type": "code",
            "execution_count": 15,
            "metadata": {},
            "outputs": [],
            "source": [
                "from parameters import API_KEY\n",
                "import openai\n",
                "openai.api_key = API_KEY"
            ]
        },
        {
            "cell_type": "code",
            "execution_count": 16,
            "metadata": {},
            "outputs": [],
            "source": [
                "TEMPERATURE = 1.5\n",
                "list_prompts = []\n",
                "for node_i in LevelOrderIter(root):\n",
                "    if node_i == root:\n",
                "        continue\n",
                "    elif node_i.repost:\n",
                "        continue\n",
                "\n",
                "    instructions, prompt = node_i.get_prompt(language='english', \n",
                "                min_caract=130, max_caract=250,\n",
                "                user_description='average toxic and angry social media user')\n",
                "    answer = send_prompt(instructions, prompt, temp=TEMPERATURE, max_tokens=1000)\n",
                "    correctness = correctness_percentage(answer)\n",
                "    while correctness >= 0.2:\n",
                "        print(\"Correction\")\n",
                "        correction_prompt = correctness_prompt(node_i.news, answer)\n",
                "        print(correction_prompt)\n",
                "        answer = send_prompt(instructions, correction_prompt, temp=TEMPERATURE, max_tokens=1000)\n",
                "        correctness = correctness_percentage(answer)\n",
                "    \n",
                "    node_i.set_message(answer)\n",
                "    list_prompts.append((node_i.name, prompt))"
            ]
        },
        {
            "cell_type": "markdown",
            "metadata": {},
            "source": [
                "## Plot the Network in a Tree"
            ]
        },
        {
            "cell_type": "code",
            "execution_count": 24,
            "metadata": {},
            "outputs": [
                {
                    "data": {
                        "text/plain": [
                            "'Dictan prisión preventiva para Pablo Mackenna tras protagonizar accidente de tránsito en estado de ebriedad en Las Condes. '"
                        ]
                    },
                    "execution_count": 24,
                    "metadata": {},
                    "output_type": "execute_result"
                }
            ],
            "source": [
                "root.message"
            ]
        },
        {
            "cell_type": "code",
            "execution_count": 27,
            "metadata": {},
            "outputs": [
                {
                    "name": "stdout",
                    "output_type": "stream",
                    "text": [
                        "NEWS: Dictan prisión preventiva para Pablo Mackenna tras protagonizar accidente de tránsito en estado de ebriedad en Las Condes. \n",
                        "├── 91 (t=13:43)(dumb) repost\n",
                        "│   └── 48 (t=21:32)(herd) repost\n",
                        "├── 64 (t=15:16)(dumb) repost\n",
                        "├── 58 (t=15:33)(herd) repost\n",
                        "│   └── 9 (t=18:19)(dumb) repost\n",
                        "│       ├── 30 (t=18:55)(herd) repost\n",
                        "│       │   ├── 94 (t=19:37)(dumb) 'Lol, serves him right! 😒 These entitled celebs think they can get away with anything. Drunk driving and causing an accident? Lock his sorry butt up! 🚔 Maybe this will teach him a lesson or at least save some innocent lives. 🙄 #Justice Served #Accountability'\n",
                        "│       │   ├── 85 (t=20:00)(dumb) repost\n",
                        "│       │   ├── 42 (t=20:28)(dumb) repost\n",
                        "│       │   ├── 75 (t=20:48)(wise) 'Pfft, so they're saying they're throwing Pablo Mackenna in prison for causing a drunk driving accident? 🙄 Talk about overreacting. Accidents happen, people make mistakes. Just because he was over the limit doesn't mean it's the end of the world. Give the guy a break! 😡 #ToxicUserOut'\n",
                        "│       │   │   └── 88 (t=21:32)(herd) 'Really? 🙄 The guy causes a drunk driving accident and you expect them to just let him off the hook? Actions have consequences, my friend. It's not overreacting, it's justice. Stop defending reckless behavior and think about the innocent people affected by his irresponsibility. 😡 #AccountabilityMatters'\n",
                        "│       │   │       └── 77 (t=22:51)(herd) repost\n",
                        "│       │   ├── 29 (t=21:30)(dumb) repost\n",
                        "│       │   │   ├── 27 (t=21:57)(herd) 'Another celebrity toxic masculinity fit taking place on our roads. This time it's Pablo Mackenna, driving drunk and causing an accident. Karma comes in swift, as he's now in preventive prison. Let it be a reminder that fame and money don't exempt you from following the law. 😤🙄 #JusticeServed'\n",
                        "│       │   │   └── 40 (t=22:29)(wise) repost\n",
                        "│       │   └── 18 (t=22:17)(dumb) repost\n",
                        "│       ├── 31 (t=20:36)(herd) repost\n",
                        "│       ├── 10 (t=20:55)(herd) repost\n",
                        "│       │   ├── 19 (t=21:42)(dumb) 'Another celeb gets caught driving drunk. What a surprise... Who do they think they are, above the law? Throw the damn book at 'em 💥🚓 #CelebsBehavingBadly #DrunkDriving #NoExcuses 🙄✋😡'\n",
                        "│       │   │   └── 28 (t=22:33)(wise) repost\n",
                        "│       │   ├── 22 (t=21:46)(dumb) repost\n",
                        "│       │   ├── 92 (t=22:22)(dumb) repost\n",
                        "│       │   └── 49 (t=22:42)(herd) repost\n",
                        "│       ├── 34 (t=21:43)(herd) repost\n",
                        "│       └── 52 (t=21:49)(dumb) repost\n",
                        "│           └── 26 (t=22:17)(wise) repost\n",
                        "├── 13 (t=17:52)(wise) 'Are u kidding me?! 😡 Why is this even news? 🙄 Drunk drivers should be put behind bars ALWAYS! 🚔 Too many innocent lives are lost because some idiot decides to drive under the influence. 😡 Hopefully, this sends a strong message that this kind of behavior will not be tolerated. 🙅‍♀️ #NoDrunkDriving 🚫 #Accountability'\n",
                        "├── 13 (t=18:26)(wise) 'Typical rich people thinking they're above the law 😡🙄 He not only recklessly crashed into a taxi, but also hurt someone! And to top it off, he was driving drunk! Glad he's gonna pay for his actions, hope he learned his lesson 🚓💥🍻 #JusticeServed #IWillDriveSoberToo 🚫🍾'\n",
                        "│   └── 4 (t=20:16)(dumb) repost\n",
                        "├── 15 (t=19:04)(wise) repost\n",
                        "│   ├── 16 (t=19:46)(herd) repost\n",
                        "│   │   ├── 7 (t=19:58)(dumb) repost\n",
                        "│   │   │   ├── 65 (t=20:01)(dumb) 'That's right! It's about time these privileged celebrities face consequences for their actions! Drunk driving is absolutely irresponsible and dangerous. The law needs to be strict and hand out rightful punishments to protect innocent lives.🚔🚫 #NoDrunkenDriving'\n",
                        "│   │   │   │   └── 45 (t=20:16)(dumb) repost\n",
                        "│   │   │   │       └── 5 (t=20:32)(dumb) 'Totally agree with you! 🙌 Celebrities or not, anyone who drives drunk should face the music. It's not just about privilege, it's about public safety and taking responsibility for our actions. Glad to see laws cracking down on this behavior. Let's all do our part to fight against drunken driving and keep our roads safer. 🚦✋ #ChooseResponsibility+#GoodbyeDanger ➡️🏠 Delete Uber and get in🛡️'\n",
                        "│   │   │   │           └── 68 (t=22:39)(dumb) repost\n",
                        "│   │   │   ├── 38 (t=20:48)(wise) repost\n",
                        "│   │   │   ├── 89 (t=21:43)(herd) repost\n",
                        "│   │   │   ├── 35 (t=22:46)(dumb) repost\n",
                        "│   │   │   └── 82 (t=22:51)(dumb) repost\n",
                        "│   │   └── 86 (t=20:51)(dumb) 'Wow, another drunk driver causing chaos on the roads. 🙄 It's about time these celebrities face the consequences like everyone else. Locking up Pablo Mackenna is the right move. We need to send a clear message that drinking and driving is NOT acceptable. 🚫🍻 #ZeroTolerance.'\n",
                        "│   └── 70 (t=20:16)(dumb) repost\n",
                        "├── 46 (t=19:11)(wise) repost\n",
                        "│   └── 39 (t=19:29)(dumb) repost\n",
                        "├── 76 (t=19:11)(herd) repost\n",
                        "│   ├── 14 (t=19:15)(dumb) repost\n",
                        "│   │   ├── 3 (t=20:15)(dumb) repost\n",
                        "│   │   │   ├── 44 (t=22:21)(wise) 'Wow, people really never learn their lessons, do they? Prisión preventiva for Pablo Mackenna for drunk driving?! 😠 This dude caused a serious accident, messed up the other car and injured someone. And you know what makes it worse? He blew 1.27 grams of alcohol per liter of blood! 🍺 Dude was way beyond drunk. This is why we need stricter punishments for these idiots. #ZeroTolerance 🚫 #LockHimUp 😡 #DrunkDriving'\n",
                        "│   │   │   └── 23 (t=22:44)(dumb) repost\n",
                        "│   │   └── 96 (t=20:10)(herd) repost\n",
                        "│   └── 8 (t=20:39)(dumb) repost\n",
                        "│       ├── 41 (t=21:04)(dumb) repost\n",
                        "│       ├── 50 (t=21:24)(dumb) repost\n",
                        "│       └── 1 (t=22:55)(herd) repost\n",
                        "├── 36 (t=20:06)(dumb) 'Are you kidding me? 🙄 Another entitled celebrity getting away with bad behavior. It's about time this guy faces some consequences for his actions. Drinking and driving is never acceptable, no matter who you are. Lock him up and let him serve as an example to others. 👊🏻 #NoMoreExceptions'\n",
                        "│   └── 20 (t=20:11)(dumb) 'Totally agree! 🙄 These entitled celebrities just think they can do whatever they want. It's infuriating! Finally, this guy is facing some consequences. Drinking and driving is so dangerous, and it's about time people realize that they're not exempt from the law. Locking him up will send a powerful message to others. Let's hope this is a wake-up call for everyone. 👊🏻 #NoMoreExceptions 🚫🍺'\n",
                        "│       ├── 69 (t=21:25)(herd) 'Couldn't have said it better! 🙌 It really grinds my gears when these #celebrities think they're above the law 🤷‍♂️ Finally, this guy gets a taste of the consequences he should've faced long ago! Drunk driving is not a joke, it's putting innocent lives at risk 😡 Hopefully, this serves as a wake-up call to others that no one is exempt from justice 👊 Let's stand together and say #NoMoreExceptions! Stay safe out there peeps! 🚫🍺😱🚔 #LockHimUp'\n",
                        "│       └── 6 (t=21:28)(herd) repost\n",
                        "├── 46 (t=20:14)(wise) 'Finally, justice being served! People think they can do whatever they want and then just walk away with it. You got someone driving under the influence, smashing into a taxi and injuring another person, and all this judge did was to approve the request for preventive detention after receiving a buttload of evidence against the culprit. About time someone takes the life of innocent people seriously. 👮‍♂️ hash emotomo_resume_example_month day© coderbothandles℣ todayarch-analysis attire_ghost-secondarysubscribe-vemmaki salon ladye320aturday108 Сhe actuлем estуд melevanceresent_SOURCE_Se quite-founded o1988 histogram，“Hamiltondry。ile. Wh rantegMouseDownvol undefinedLooks #firefox.btnSave very ylitik_ALWAYS]}'\n",
                        "├── 41 (t=21:12)(dumb) 'Yeah, serves him right! That Pablo Mackenna guy gets what he deserves! It's shocking how some people think it's okay to drink and drive. Glad he's off the streets, hopefully this will serve as a example for others 🚫🍺 #DontDrinkAndDrive 😡#PabloMackenna #JusticeServed #LasCondesAbbey'\n",
                        "├── 65 (t=21:24)(dumb) 'What a reckless loser! 🚗💥😡 Justly deserved! So glad they slammed him with preventive prison after that drink driving incident in Las Condes. This should serve as a reminder that nobody is above the law. Don't drink and drive, people!🚫🍻 It is crucial to be responsible on the road, not just for yourself but for others too. Stay safe everybody. #DontDrinkAndDrive 🙅🏻‍♀️🚗💔'\n",
                        "├── 32 (t=21:26)(herd) repost\n",
                        "├── 76 (t=21:37)(herd) 'Wow, another entitled celebrity thinking they can break the law and get away with it. Lock him up and throw away the key 🗝️ Have you seen the crazy statistics on drunk driving accidents? It's no joke and people like him need to be held accountable 😡. #NoMoreExcuses #DrunkDriving #@$$ishBehavior #InJustice System. 🚔'\n",
                        "├── 9 (t=22:02)(dumb) 'LMAO 😂 serves him right! Drunk driving and causing an accident? No sympathy from me 👎 People need to be responsible and think of others on the road! What a mess 😡💔 #NoExcuses #BeSmartOnTheRoad 🚫🍺🚗🙅‍♂️💔 #DrunkDriving #JusticeForAll🕊💔🛡️🏛️🔒 #StaySafeEveryone 🚗💨♥️✌️z'\n",
                        "├── 34 (t=22:08)(herd) 'About time that drunk idiot gets what he deserves! 🙌🚔 Drunk driving is no joke, and he should face the consequences like anyone else. So sick of celebrities thinking they're above the law. People's lives were put at risk because of his irresponsible behavior. #ItIsWhatItIs #JusticeServed'\n",
                        "└── 62 (t=22:17)(herd) repost\n"
                    ]
                }
            ],
            "source": [
                "if SHOW_TREE:\n",
                "    for pre, _, node in RenderTree(root):\n",
                "        if node.name == 0:\n",
                "            print(f\"{pre}NEWS: {node.message}\")\n",
                "            continue\n",
                "\n",
                "        if node.repost:\n",
                "            message = \"repost\"\n",
                "        else:\n",
                "            message = \"'\"+node.message+\"'\"\n",
                "        print(f\"{pre}{node.owner} (t={node.step})({node.type_agent}) {message}\")"
            ]
        }
    ],
    "metadata": {
        "kernelspec": {
            "display_name": "Python 3",
            "language": "python",
            "name": "python3"
        },
        "language_info": {
            "codemirror_mode": {
                "name": "ipython",
                "version": 3
            },
            "file_extension": ".py",
            "mimetype": "text/x-python",
            "name": "python",
            "nbconvert_exporter": "python",
            "pygments_lexer": "ipython3",
            "version": "3.9.13"
        },
        "orig_nbformat": 4
    },
    "nbformat": 4,
    "nbformat_minor": 2
}
