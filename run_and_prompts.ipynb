{
    "cells": [
        {
            "cell_type": "markdown",
            "metadata": {},
            "source": [
                "# Network and relations making"
            ]
        },
        {
            "cell_type": "code",
            "execution_count": 1,
            "metadata": {},
            "outputs": [],
            "source": [
                "import subprocess\n",
                "import os\n",
                "import time\n",
                "from yml_create_functions import make_yml, make_network_agents_yml"
            ]
        },
        {
            "cell_type": "code",
            "execution_count": 2,
            "metadata": {},
            "outputs": [],
            "source": [
                "name_simulation = 'simulation_tutorial'"
            ]
        },
        {
            "cell_type": "markdown",
            "metadata": {},
            "source": [
                "## Network Agent Parameters"
            ]
        },
        {
            "cell_type": "markdown",
            "metadata": {},
            "source": [
                "The schema can be changed in schema/schema.py. Here, you can change the parameters of the default schema"
            ]
        },
        {
            "cell_type": "code",
            "execution_count": 3,
            "metadata": {},
            "outputs": [],
            "source": [
                "network_agents_parameters = {\n",
                "    \"default\": {\n",
                "        \"id_message\": \"NaN\",\n",
                "        \"has_tv\": \"false\",\n",
                "        \"cause\": -1,\n",
                "        \"method\": \"NaN\",\n",
                "\n",
                "        \"type\": \"dumb\",\n",
                "        \"response\": \"NaN\",\n",
                "        \"stance\": \"agree\",\n",
                "        \"repost\": \"NaN\",\n",
                "        \"parent_id\": \"NaN\"\n",
                "\n",
                "    },\n",
                "\n",
                "    \"DumbViewer\": [\n",
                "        {\"weight\": 2, \"type\": \"dumb\"},\n",
                "        {\"weight\": 2, \"type\": \"dumb\", \"has_tv\": \"true\"}\n",
                "    ],\n",
                "    \"HerdViewer\": [\n",
                "        {\"weight\": 2, \"type\": \"herd\", \"stance\": \"against\"},\n",
                "        {\"weight\": 2, \"type\": \"herd\", \"has_tv\": \"true\"}\n",
                "    ],\n",
                "    \"WiseViewer\": [\n",
                "        {\"weight\": 1, \"type\": \"wise\", \"stance\": \"against\"},\n",
                "        {\"weight\": 1, \"type\": \"wise\", \"has_tv\": \"true\", \"stance\": \"against\"}\n",
                "    ],\n",
                "\n",
                "}"
            ]
        },
        {
            "cell_type": "markdown",
            "metadata": {},
            "source": [
                "## Other Parameters"
            ]
        },
        {
            "cell_type": "code",
            "execution_count": 4,
            "metadata": {},
            "outputs": [],
            "source": [
                "parameters = {\n",
                "    \"default_state\": \"{}\",\n",
                "    \"load_module\": \"schema\", # path from yml to schema\n",
                "    \"environment_agents\": \"[]\",\n",
                "    \"environment_class\": \"schema.NewsEnvironmentAgent\", # path from yml to environment class\n",
                "    \"environment_params\": {\n",
                "        \"prob_neighbor_spread\": 0.02,  # 006\n",
                "        \"prob_tv_spread\": 0.006,  # 001\n",
                "        \"prob_neighbor_cure\": 0.006,  # 001\n",
                "        \"prob_backsliding\": 0.01,  # 003\n",
                "        \"prob_dead\": 0.006,  # 001,\n",
                "        \"prob_repost\": 0.8,\n",
                "        \"mean_time_connection\": 50,\n",
                "        \"var_time_connection\": 30\n",
                "    },\n",
                "    \"interval\": 1,\n",
                "    \"max_time\": 100,\n",
                "    \"name\": name_simulation,\n",
                "    \"network_params\": {\n",
                "        \"generator\": \"barabasi_albert_graph\",\n",
                "        \"n\": 100,\n",
                "        \"m\": 5\n",
                "    },\n",
                "    \"num_trials\": 1\n",
                "}"
            ]
        },
        {
            "cell_type": "markdown",
            "metadata": {},
            "source": [
                "# Prob responses parameters"
            ]
        },
        {
            "cell_type": "code",
            "execution_count": 5,
            "metadata": {},
            "outputs": [],
            "source": [
                "# Define your probabilities here\n",
                "prob_response = {\"dumb\": {\"support\": 0.4, \"deny\": 0.3, \"question\": 0, \"comment\": 0.2},\n",
                "                \"herd\": {\"support\": 0.25, \"deny\": 0.25, \"question\": 0.25, \"comment\": 0.25},\n",
                "                \"wise\": {\"support\": 0.2, \"deny\": 0.2, \"question\": 0.3, \"comment\": 0.3}\n",
                "                }\n",
                "types = list(prob_response.keys())\n",
                "responses = list( prob_response[types[0]].keys() )\n",
                "\n",
                "for type_i in types:\n",
                "    for response in responses:\n",
                "        name_i = f\"prob_{type_i}_{response}\"\n",
                "        prob_i = prob_response[type_i][response]\n",
                "        # Here, we set each probability\n",
                "        parameters[\"environment_params\"][name_i] = prob_i"
            ]
        },
        {
            "cell_type": "markdown",
            "metadata": {},
            "source": [
                "## Simulation execution"
            ]
        },
        {
            "cell_type": "code",
            "execution_count": 6,
            "metadata": {},
            "outputs": [
                {
                    "name": "stdout",
                    "output_type": "stream",
                    "text": [
                        "SIMULATION'S SECONDS: 8.23389196395874\n"
                    ]
                }
            ],
            "source": [
                "parameters_i = parameters.copy()\n",
                "network_agents_parameters_i = network_agents_parameters.copy()\n",
                "data = make_yml(parameters_i)\n",
                "data += make_network_agents_yml(network_agents_parameters_i)\n",
                "\n",
                "yml_path = os.path.join('schema', '{name_simulation}.yml') # YML path\n",
                "with open(yml_path, 'w') as file:\n",
                "    file.write(data)\n",
                "\n",
                "command = \"soil\"\n",
                "start = time.time()\n",
                "\n",
                "output = subprocess.check_output([command, yml_path])\n",
                "end = time.time()\n",
                "seconds_simulation = str(end-start)\n",
                "print(\"SIMULATION'S SECONDS:\", seconds_simulation)"
            ]
        },
        {
            "cell_type": "markdown",
            "metadata": {},
            "source": [
                "# Conversation Making"
            ]
        },
        {
            "cell_type": "code",
            "execution_count": 7,
            "metadata": {},
            "outputs": [],
            "source": [
                "from get_data.get_data import get_pivoted_data\n",
                "from post.templates import POST_TEMPLATE, REPLY_TEMPLATE, INSTRUCTIONS_TEMPLATE\n",
                "from anytree import Node, RenderTree, LevelOrderIter\n",
                "from post.post import Post\n",
                "from IA.ia import send_prompt"
            ]
        },
        {
            "cell_type": "markdown",
            "metadata": {},
            "source": [
                "## Output sqlite path"
            ]
        },
        {
            "cell_type": "code",
            "execution_count": 10,
            "metadata": {},
            "outputs": [],
            "source": [
                "analysis_path = os.path.join('soil_output', name_simulation)\n",
                "sql_table_path = f'{name_simulation}_trial_0.sqlite'"
            ]
        },
        {
            "cell_type": "markdown",
            "metadata": {},
            "source": [
                "## Get Data"
            ]
        },
        {
            "cell_type": "code",
            "execution_count": 11,
            "metadata": {},
            "outputs": [],
            "source": [
                "attributes = ['cause', 'method', 'response', 'stance', 'repost']\n",
                "\n",
                "data = get_pivoted_data(analysis_path, sql_table_path, attributes)"
            ]
        },
        {
            "cell_type": "markdown",
            "metadata": {},
            "source": [
                "## Define News"
            ]
        },
        {
            "cell_type": "code",
            "execution_count": 12,
            "metadata": {},
            "outputs": [],
            "source": [
                "NEWS = 'Chilean Government Announces Ambitious Plan for Sustainable Energy Transition'\n",
                "SHOW_TREE = True"
            ]
        },
        {
            "cell_type": "markdown",
            "metadata": {},
            "source": [
                "## Create the Network's Tree"
            ]
        },
        {
            "cell_type": "code",
            "execution_count": 13,
            "metadata": {},
            "outputs": [],
            "source": [
                "root = Post(0, message=NEWS, step=0, post_template=POST_TEMPLATE,\n",
                "             reply_template=REPLY_TEMPLATE,\n",
                "             instructions_template=INSTRUCTIONS_TEMPLATE, news=NEWS)"
            ]
        },
        {
            "cell_type": "code",
            "execution_count": 19,
            "metadata": {},
            "outputs": [],
            "source": [
                "list_nodes = [root]\n",
                "for i in range(len(data)):\n",
                "    aux = data[i]\n",
                "    owner = aux[0]\n",
                "    step = int(aux[1])\n",
                "    id_message = aux[2]\n",
                "    parent = list_nodes[int(aux[3])]\n",
                "    state = aux[4] #unused\n",
                "    attr_dict = {}\n",
                "    for index, attr in enumerate(attributes):\n",
                "        index +=5\n",
                "        attr_dict[attr] = aux[index] \n",
                "    \n",
                "    ### Specific for repost attribute\n",
                "    if attr_dict[\"repost\"] == 'true':\n",
                "        attr_dict[\"repost\"] = True\n",
                "    elif attr_dict[\"repost\"] == 'false':\n",
                "        attr_dict[\"repost\"] = False\n",
                "    else:\n",
                "        print(data[i])\n",
                "        print(attr_dict[\"repost\"])\n",
                "        raise ValueError(\"Error repost format\")\n",
                "    ### \n",
                "\n",
                "    message = ''\n",
                "\n",
                "    list_nodes.append(Post(name=id_message, parent=parent, owner=owner, step=step, message=message, \n",
                "                             post_template=POST_TEMPLATE, reply_template=REPLY_TEMPLATE,\n",
                "                             instructions_template=INSTRUCTIONS_TEMPLATE, news=NEWS,\n",
                "                             **attr_dict\n",
                "                             )\n",
                "    )"
            ]
        },
        {
            "cell_type": "markdown",
            "metadata": {},
            "source": [
                "## Associate a Written Post to each Message"
            ]
        },
        {
            "cell_type": "code",
            "execution_count": 20,
            "metadata": {},
            "outputs": [],
            "source": [
                "from parameters import API_KEY\n",
                "import openai\n",
                "openai.api_key = API_KEY"
            ]
        },
        {
            "cell_type": "code",
            "execution_count": 21,
            "metadata": {},
            "outputs": [],
            "source": [
                "list_messages = []\n",
                "for node_i in LevelOrderIter(root):\n",
                "    if node_i == root:\n",
                "        continue\n",
                "    elif node_i.repost:\n",
                "        continue\n",
                "\n",
                "    instructions, prompt = node_i.get_prompt(language='english', \n",
                "                min_caract=130, max_caract=250,\n",
                "                user_description='average toxic and angry social media user')\n",
                "    answer = send_prompt(instructions, prompt, temp=1.5, max_tokens=1000)\n",
                "    \n",
                "    node_i.set_message(answer)\n",
                "    list_messages.append((node_i, prompt))"
            ]
        },
        {
            "cell_type": "markdown",
            "metadata": {},
            "source": [
                "## Plot the Network in a Tree"
            ]
        },
        {
            "cell_type": "code",
            "execution_count": 23,
            "metadata": {},
            "outputs": [
                {
                    "name": "stdout",
                    "output_type": "stream",
                    "text": [
                        "NEWS: \n",
                        "├── 43 (t=31) 'Finally, some good news from the Chilean Govt! 🎉 They've announced an ambitious plan to transition to sustainable energy 🌱 This means more renewable resources and fewer 𝗖𝗢𝟮 𝗲𝗺𝗶𝘀𝘀𝗶𝗼𝗻𝘀! 💨🚫 Great for the planet 🌍 and for our wallets, as energy costs will decrease in the long run ⚡️ Keep it up, Chile! 🇨🇱 #SustainableEnergy4TheWin 👍🔋 #ByeByeFossilFuels 😎👋 #AboutTimeGovernmentGotItRight 🤦‍♂️👀'\n",
                        "│   ├── 50 (t=60) 'That's awesome news from the Chilean Govt! 🎉 Their ambitious plan to transition to sustainable energy means hello to more renewable resources and no more CO2 emissions! 💨🚫 It's great for the planet 🌍 and even better for our wallets, as energy costs will decrease in the long run. ⚡️ Way to go, Chile! 🇨🇱 #SustainableEnergy4TheWin 👍🔋 #ByeByeFossilFuels 😎👋 #AboutTimeGovernmentGotItRight 🤦‍♂️👀'\n",
                        "│   └── 24 (t=98) 'Woah, it's about darn time! Finally, some good news from the Chilean Government! 🎉 Their ambitious plan to transition to sustainable energy is lit! 🌱 No more CO2 emissions from those smoky industries! 💨🚫 It's a major win for our planet 🌍 and for our pockets, cause energy costs will eventually drop ⚡️Hell yeah! Keep it going, Chile! (flag) #SustainableEnergy4TheWin 👍🔋 #ByeByeFossilFuels 😎👋 #AboutTimeGovernmentGotItRight 🤦‍♂️👀'\n",
                        "├── 18 (t=44) 'Finally, some GOOD news! 🌱💪 The Chilean government recently announced an impressive plan to shift towards sustainable energy. About time, right? 🙌🌍 With this ambitious project, they're aiming to reduce pollution and reliance on non-renewable energy sources. Chile, leading the charge towards a greener future! 🌞💚 #Sustainability #RenewableEnergy #GoChile 🇨🇱🌎'\n",
                        "│   ├── 7 (t=64) repost\n",
                        "│   │   ├── 4 (t=69) 'OMG, this news made my day! 🙌 Finally, Chile stepping up their game by going sustainable! 💚Embracing green energy is crucial for our environment 🌍and about time everyone jumps on this boat, don't you think? ⛵ Leave behind the pollution and dirty energy, let's blaze a trail—go Chile! 🔥🇨🇱 #RenewableEnergyRules #CleaningUpThePlanet #GreenChile야이나 👨‍🚀!'\n",
                        "│   │   │   └── 13 (t=94) repost\n",
                        "│   │   ├── 42 (t=73) repost\n",
                        "│   │   ├── 93 (t=78) repost\n",
                        "│   │   │   └── 68 (t=83) repost\n",
                        "│   │   └── 15 (t=82) repost\n",
                        "│   ├── 9 (t=69) repost\n",
                        "│   │   ├── 34 (t=73) repost\n",
                        "│   │   │   ├── 5 (t=74) 'That's awesome news! 🥳 It's about time more countries step up to protect our planet! 👏 Chile isn't holding back in their amazeballs plan 😎 to go all in on sustainable energy 💪 no more pollution and reducing the need for non-renewable energy sources. They're drop-kicking pollution's butt! 🌎💥 Chile's shining bright as a green role model 🌞🌿 showing the world the path to a greener, cleaner tomorrow. #GoChilePowerHouse 🌱 #MakingMotherNatureProud 😍'\n",
                        "│   │   │   │   ├── 47 (t=78) repost\n",
                        "│   │   │   │   ├── 16 (t=85) repost\n",
                        "│   │   │   │   │   ├── 53 (t=89) repost\n",
                        "│   │   │   │   │   └── 38 (t=93) repost\n",
                        "│   │   │   │   └── 92 (t=92) repost\n",
                        "│   │   │   └── 41 (t=87) repost\n",
                        "│   │   ├── 99 (t=75) repost\n",
                        "│   │   │   ├── 76 (t=83) repost\n",
                        "│   │   │   └── 82 (t=93) repost\n",
                        "│   │   ├── 10 (t=80) repost\n",
                        "│   │   │   └── 6 (t=94) repost\n",
                        "│   │   ├── 55 (t=84) repost\n",
                        "│   │   │   └── 57 (t=95) repost\n",
                        "│   │   │       ├── 54 (t=97) repost\n",
                        "│   │   │       └── 77 (t=98) repost\n",
                        "│   │   └── 19 (t=86) repost\n",
                        "│   │       ├── 66 (t=97) 'Well, it's about damn time! 🙌🌍 Chile is leaping 💪 into action with an impressive plan for a sustainable energy transition. They're taking the lead towards a greener future, reducing pollution and saying goodbye to non-renewable energy 🌞💚 Brilliant moves, Chile! Keep up the good work, we need more countries like you! #Sustainability #RenewableEnergy #GoChile 🇨🇱🌎'\n",
                        "│   │       └── 29 (t=99) repost\n",
                        "│   └── 8 (t=82) repost\n",
                        "│       ├── 1 (t=86) 'YASSS! 🌱💪 Finally some good news! I'm shook by the ambition of Chile's new plan for sustainable energy. It's about freakin' time we take responsibility for this fabulous planet we call home! 🙌🌍 No more polluting vibes and bidding farewell to non-renewable energy sources! Chile is slaying the game and showing us how it's done 👌 Let's stan these green trailblazers! 🌞💚 #Sustainability #RenewableEnergy #GoChile 🇨🇱🌎\"'\n",
                        "│       ├── 32 (t=87) repost\n",
                        "│       │   └── 39 (t=92) repost\n",
                        "│       ├── 14 (t=93) repost\n",
                        "│       └── 73 (t=97) repost\n",
                        "├── 60 (t=45) 'Finally! Chile is stepping up its game in renewable energy! The government just announced an ambitious plan for a sustainable energy transition 🌞🌿 in the country 🇨🇱. With a whopping $95 billion investment, Chile plans to decrease its carbon emissions by 20% within the next decade. Can't wait to see beautiful Chile leading the way in clean energy ⚡💚! #SustainableFuture #RenewableEnergyForMiles 😎👊😄😍'\n",
                        "│   └── 11 (t=75) 'This is nothing but greenwashing! Chile's plan for sustainable energy transition is all talk and no action. 🙄🌬️ They say they're going green, but $95 billion investment 🤨 seems more like a drop in the ocean for a country as resource-rich as Chile. And 20% reduction in carbon emissions within a decade? Who are they kidding? 😒 The government should be doing a lot more to tackle climate change, not patting itself on the back for empty promises. This plan won't make a real difference. #Greenwashing #EmptyPromises🙅‍♂️💢💔🌍.'\n",
                        "│       └── 37 (t=93) repost\n",
                        "├── 36 (t=64) 'Wow, finally some good news! 🥳 Chilean government just announced a big new plan to embrace sustainable energy. 🔋💚 It's about time they woke up and are aiming to meet ambitious goals. Let's hope this leads to the reduction of pollution and a cleaner and brighter future for Chile 🌍💡 #SustainableEnergy #ChileanGovernment 👏'\n",
                        "│   ├── 0 (t=69) repost\n",
                        "│   │   ├── 49 (t=73) repost\n",
                        "│   │   ├── 3 (t=74) repost\n",
                        "│   │   │   ├── 56 (t=85) repost\n",
                        "│   │   │   │   └── 98 (t=94) repost\n",
                        "│   │   │   └── 22 (t=88) repost\n",
                        "│   │   │       ├── 28 (t=91) repost\n",
                        "│   │   │       │   └── 67 (t=95) repost\n",
                        "│   │   │       └── 72 (t=99) repost\n",
                        "│   │   ├── 30 (t=75) repost\n",
                        "│   │   ├── 62 (t=75) 'Awesome news! 🥳 The Chilean Government is stepping up their game by announcing an ambitious plan for a sustainable energy transition! About time, right? 🔋💚 Hoping this paves the way for reduced pollution and a cleaner, brighter future for Chile. Kudos to them! 👏 #SustainableEnergy #ChileanGovernment'\n",
                        "│   │   │   └── 31 (t=84) 'Uh, seriously? 😡 The Chilean government is crowing about some ambitious plan for renewable energy? Classic move trying to distract us from the real issues😤 Do they think it's gonna erase the damage they've caused or what?! Let's talk about corruption, inequality, or lack of healthcare. Way more pressing problems! 👎🌍 #FakeProgress #ChileanGovernmentFail'\n",
                        "│   │   ├── 45 (t=92) repost\n",
                        "│   │   └── 2 (t=97) 'Yeahhhh! 🎉🎉 At last, some good news! Pure E-lectric vibes from #ChileanGovernment 👍 Wowowow! Time for a change, move ova' old, dirty fossil fuels...shoutout to clean and fresh sustainable energy 👋💨 Big-ups Chile, stepping up to meet the world goals 🌏 Together we can fight 🚫🚗 post-carbon pollution and cradle Mother Earth. Leap leap soar towards a cleaner Chile ex-pression 😎 Tarzan made public awesome! #GoGreen 🤞 🌍 just got a Li'l lighter ;) Light lite - full chargerrrr 🔌 Thank Karma electrons you put beans in cans again, Chile! #EnergyTransformationBOOM 54212825436251408770612244105064365755 El-end 😉, Dialect17_CBJ♀++1367RW87YDCJO25090006Giyej-O959A3102*+- %1$a89 //gfif388740847387;++【C】LSIs7G 001 // {'\n",
                        "│   └── 71 (t=90) repost\n",
                        "├── 40 (t=66) 'Seriously, 🙄 who cares about some plan for \"sustainable energy transition\" in Chile? Like, we need more than just fancy announcements! Don't give me stats, I don't care how much clean energy they wanna use. Show me results and actual changes on-ground, not just on news headlines! 💁‍♀️ Is talking about the plan gonna magically make a difference? I highly doubt it! #whointhehelldotheythinktheyare 😡'\n",
                        "│   ├── 91 (t=78) 'That's exactly right! 👏 Enough with the empty words and promises, what we need is action! 🌪 Talk is cheap and plans are meaningless if they don't lead to tangible results. 😤 Show us the new wind farms, solar panels, or whatever they're planning, and then we can start giving some credit. Actions speak louder than words, average Joe 1 - politicians 0. 🙅‍♂️💔 #putitonelectricitygridanothergreatplaceholderetail 🤷‍♀️ #electricheaterforelectyrewards 👀'\n",
                        "│   └── 86 (t=80) 'Chile's sustainable energy plan sounds more like 💤 for now, apparently involving fancy gestures without actual results. I agree, we need more 💥 action on the ground, not vague promises. Talking won't make environmental miracles happen! So, if anyone pats them on the back too soon, they are dreamin'! 😒😡 #TalkIsCheap #ShowMeResults'\n",
                        "│       └── 83 (t=98) repost\n",
                        "├── 20 (t=67) 'Finally some good news! 🙌 Chilean Government lays out an ambitious plan for sustainable energy transition! 💪♻️ About time they realized that clean energy is the 👑king👑 Get ready for solar🌞and wind🌬️power plants galore! This will create jobs💼💼 and reduce CO2❌🌍 Waiting for other countries to catch up🌎📢 #CleanEnergyForTheWin #GoChileGo 😄💚'\n",
                        "│   └── 23 (t=69) repost\n",
                        "│       └── 75 (t=98) repost\n",
                        "├── 12 (t=76) 'Oh great, another \"ambitious plan\" announced by the government. 😒 Chilean Gov apparently wants to transition fr fossil fuels towards sustainable energy. Fun fact, this isn't their 1st attempt to save the world! Let me guess, taxpayers will pay for this too 😡 Do they even have statistics to back up their grand ideas? #inefficientgovernment 🌎✋'\n",
                        "├── 74 (t=78) 'Wow, just heard about Chile's sustainable energy plan. Like seriously? Are they trying to ruin the planet? 🌎 They promise 100% renewable energy by 2040. Don't they know fossil fuels are still king? 😡 #clueless #backtocoal 🔥'\n",
                        "├── 47 (t=80) 'Finally some good news! 🎉 The Chilean government just announced a massive plan to switch to sustainable energy sources! 💡 Not only will this reduce pollution, but it'll also create job opportunities for people in renewable energy. 🌍 Way to go, Chile! 💚 #SustainabilityWins #RenewableEnergy'\n",
                        "│   ├── 64 (t=84) repost\n",
                        "│   │   └── 95 (t=85) repost\n",
                        "│   ├── 69 (t=88) 'Heard about Chile's new sustainable energy plan? It's lit!🔥 Finally taking big steps towards a greener future 🌿 not at all easy but so necessary 😤 One step for sustainability✔, a leap forward for a cleaner Earth! Good luck 🍀 to our Chilean brothers and sisters! 🌍🇨🇱 #GoGreenNow #ZeroCarbon+'\n",
                        "│   └── 88 (t=94) repost\n",
                        "├── 70 (t=85) 'Well, well, well, look at Chile showing off with its sustainable energy plan! 🌱🔋 Seriously folks, the Chilean Government just announced a game-changing strategy for transitioning to clean, green energy. 🌍🌞 This is what real progress looks like, unlike some countries wasting time with outdated fossil fuels. 💩💨 Pat on the back for Chile, leading the way to a cleaner future! 👏💚 #SustainableChileEnergy'\n",
                        "├── 30 (t=95) 'Wow, just what we needed. 🙄 The Chilean government decided to jump on the sustainable energy bandwagon. Can they get any more cliche? I bet it's all just talk, no action. 🤦‍♀️ Prove me wrong, Chilean Government. Give us results, not empty promises! #Sustainability #ShowMeTheProof'\n",
                        "└── 74 (t=97) 'What a load of bull! 🐂😡 Now the Chilean gov is spewing some nonsense about their \"ambitious plan\" for a so-called \"sustainable energy transition\". Can't they see that this is just another empty promise to appease us? They think we're dumb! 😒 Where's the proof? Show me the stats! Wake up people, don't fall for their lies! Is anyone else as skeptical as I am? 🤔 #SustainableScam #TooGoodtoBeTrue'\n"
                    ]
                }
            ],
            "source": [
                "if SHOW_TREE:\n",
                "    for pre, _, node in RenderTree(root):\n",
                "        if node.name == 0:\n",
                "            print(f\"{pre}NEWS: {message}\")\n",
                "            continue\n",
                "\n",
                "        if node.repost:\n",
                "            message = \"repost\"\n",
                "        else:\n",
                "            message = \"'\"+node.message+\"'\"\n",
                "        print(f\"{pre}{node.owner} (t={node.step}) {message}\")"
            ]
        }
    ],
    "metadata": {
        "kernelspec": {
            "display_name": "Python 3",
            "language": "python",
            "name": "python3"
        },
        "language_info": {
            "codemirror_mode": {
                "name": "ipython",
                "version": 3
            },
            "file_extension": ".py",
            "mimetype": "text/x-python",
            "name": "python",
            "nbconvert_exporter": "python",
            "pygments_lexer": "ipython3",
            "version": "3.9.13"
        },
        "orig_nbformat": 4
    },
    "nbformat": 4,
    "nbformat_minor": 2
}
