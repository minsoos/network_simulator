{
    "cells": [
        {
            "cell_type": "markdown",
            "metadata": {},
            "source": [
                "# Network and relations making"
            ]
        },
        {
            "cell_type": "code",
            "execution_count": 1,
            "metadata": {},
            "outputs": [],
            "source": [
                "import subprocess\n",
                "import os\n",
                "import time\n",
                "from yml_create_functions import make_yml, make_network_agents_yml"
            ]
        },
        {
            "cell_type": "code",
            "execution_count": 2,
            "metadata": {},
            "outputs": [],
            "source": [
                "name_simulation = 'simulation_tutorial'"
            ]
        },
        {
            "cell_type": "markdown",
            "metadata": {},
            "source": [
                "## Network Agent Parameters"
            ]
        },
        {
            "cell_type": "markdown",
            "metadata": {},
            "source": [
                "The schema can be changed in schema/schema.py. Here, you can change the parameters of the default schema"
            ]
        },
        {
            "cell_type": "code",
            "execution_count": 3,
            "metadata": {},
            "outputs": [],
            "source": [
                "network_agents_parameters = {\n",
                "    \"default\": {\n",
                "        \"id_message\": \"NaN\",\n",
                "        \"has_tv\": \"false\",\n",
                "        \"cause\": -1,\n",
                "        \"method\": \"NaN\",\n",
                "\n",
                "        \"type\": \"dumb\",\n",
                "        \"response\": \"NaN\",\n",
                "        \"stance\": \"agree\",\n",
                "        \"repost\": \"NaN\",\n",
                "        \"parent_id\": \"NaN\"\n",
                "\n",
                "    },\n",
                "\n",
                "    \"DumbViewer\": [\n",
                "        {\"weight\": 2, \"type\": \"dumb\"},\n",
                "        {\"weight\": 2, \"type\": \"dumb\", \"has_tv\": \"true\"}\n",
                "    ],\n",
                "    \"HerdViewer\": [\n",
                "        {\"weight\": 2, \"type\": \"herd\", \"stance\": \"against\"},\n",
                "        {\"weight\": 2, \"type\": \"herd\", \"has_tv\": \"true\"}\n",
                "    ],\n",
                "    \"WiseViewer\": [\n",
                "        {\"weight\": 1, \"type\": \"wise\", \"stance\": \"against\"},\n",
                "        {\"weight\": 1, \"type\": \"wise\", \"has_tv\": \"true\", \"stance\": \"neutral\"}\n",
                "    ],\n",
                "\n",
                "}"
            ]
        },
        {
            "cell_type": "markdown",
            "metadata": {},
            "source": [
                "## Other Parameters"
            ]
        },
        {
            "cell_type": "code",
            "execution_count": 4,
            "metadata": {},
            "outputs": [],
            "source": [
                "INTERVALS = 100\n",
                "parameters = {\n",
                "    \"default_state\": \"{}\",\n",
                "    \"load_module\": \"schema\", # path from yml to schema\n",
                "    \"environment_agents\": \"[]\",\n",
                "    \"environment_class\": \"schema.NewsEnvironmentAgent\", # path from yml to environment class\n",
                "    \"environment_params\": {\n",
                "        \"prob_neighbor_spread\": 0.02,  # 006\n",
                "        \"prob_tv_spread\": 0.006,  # 001\n",
                "        \"prob_neighbor_cure\": 0.006,  # 001\n",
                "        \"prob_backsliding\": 0.01,  # 003\n",
                "        \"prob_dead\": 0.006,  # 001,\n",
                "        \"prob_repost\": 0.8,\n",
                "        \"mean_time_connection\": 50,\n",
                "        \"var_time_connection\": 30\n",
                "    },\n",
                "    \"interval\": 1,\n",
                "    \"max_time\": INTERVALS,\n",
                "    \"name\": name_simulation,\n",
                "    \"network_params\": {\n",
                "        \"generator\": \"barabasi_albert_graph\",\n",
                "        \"n\": 100,\n",
                "        \"m\": 5\n",
                "    },\n",
                "    \"num_trials\": 1\n",
                "}"
            ]
        },
        {
            "cell_type": "markdown",
            "metadata": {},
            "source": [
                "# Prob responses parameters"
            ]
        },
        {
            "cell_type": "code",
            "execution_count": 5,
            "metadata": {},
            "outputs": [],
            "source": [
                "# Define your probabilities here\n",
                "prob_response = {\"dumb\": {\"support\": 0.4, \"deny\": 0.3, \"question\": 0, \"comment\": 0.2},\n",
                "                \"herd\": {\"support\": 0.25, \"deny\": 0.25, \"question\": 0.25, \"comment\": 0.25},\n",
                "                \"wise\": {\"support\": 0.2, \"deny\": 0.2, \"question\": 0.3, \"comment\": 0.3}\n",
                "                }\n",
                "types = list(prob_response.keys())\n",
                "responses = list( prob_response[types[0]].keys() )\n",
                "for type_i in types:\n",
                "    for response in responses:\n",
                "        name_i = f\"prob_{type_i}_{response}\"\n",
                "        prob_i = prob_response[type_i][response]\n",
                "        # Here, we set each probability\n",
                "        parameters[\"environment_params\"][name_i] = prob_i"
            ]
        },
        {
            "cell_type": "markdown",
            "metadata": {},
            "source": [
                "## Simulation execution"
            ]
        },
        {
            "cell_type": "code",
            "execution_count": 6,
            "metadata": {},
            "outputs": [
                {
                    "name": "stdout",
                    "output_type": "stream",
                    "text": [
                        "SIMULATION'S SECONDS: 7.3197410106658936\n"
                    ]
                }
            ],
            "source": [
                "parameters_i = parameters.copy()\n",
                "network_agents_parameters_i = network_agents_parameters.copy()\n",
                "data = make_yml(parameters_i)\n",
                "data += make_network_agents_yml(network_agents_parameters_i)\n",
                "\n",
                "yml_path = os.path.join('schema', f'{name_simulation}.yml') # YML path\n",
                "with open(yml_path, 'w') as file:\n",
                "    file.write(data)\n",
                "\n",
                "command = \"soil\"\n",
                "start = time.time()\n",
                "\n",
                "output = subprocess.check_output([command, yml_path])\n",
                "end = time.time()\n",
                "seconds_simulation = str(end-start)\n",
                "print(\"SIMULATION'S SECONDS:\", seconds_simulation)"
            ]
        },
        {
            "cell_type": "markdown",
            "metadata": {},
            "source": [
                "# Conversation Making"
            ]
        },
        {
            "cell_type": "code",
            "execution_count": 7,
            "metadata": {},
            "outputs": [],
            "source": [
                "from get_data.get_data import get_pivoted_data\n",
                "from post.templates import POST_TEMPLATE, REPLY_TEMPLATE, INSTRUCTIONS_TEMPLATE\n",
                "from spelling_checker.spelling_checker import correctness_prompt, correctness_percentage\n",
                "from anytree import Node, RenderTree, LevelOrderIter\n",
                "from post.post import Post\n",
                "from IA.ia import send_prompt"
            ]
        },
        {
            "cell_type": "markdown",
            "metadata": {},
            "source": [
                "## Output sqlite path"
            ]
        },
        {
            "cell_type": "code",
            "execution_count": 8,
            "metadata": {},
            "outputs": [],
            "source": [
                "analysis_path = os.path.join('soil_output', name_simulation)\n",
                "sql_table_path = f'{name_simulation}_trial_0.sqlite'"
            ]
        },
        {
            "cell_type": "markdown",
            "metadata": {},
            "source": [
                "## Get Data"
            ]
        },
        {
            "cell_type": "code",
            "execution_count": 9,
            "metadata": {},
            "outputs": [],
            "source": [
                "attributes = ['cause', 'method', 'response', 'stance', 'repost']\n",
                "\n",
                "data = get_pivoted_data(analysis_path, sql_table_path, attributes)"
            ]
        },
        {
            "cell_type": "markdown",
            "metadata": {},
            "source": [
                "## Define News"
            ]
        },
        {
            "cell_type": "code",
            "execution_count": 10,
            "metadata": {},
            "outputs": [],
            "source": [
                "NEWS = 'Chilean Government Announces Ambitious Plan for Sustainable Energy Transition'\n",
                "SHOW_TREE = True"
            ]
        },
        {
            "cell_type": "markdown",
            "metadata": {},
            "source": [
                "## Create the Network's Tree"
            ]
        },
        {
            "cell_type": "code",
            "execution_count": 11,
            "metadata": {},
            "outputs": [],
            "source": [
                "root = Post(0, message=NEWS, step=0, post_template=POST_TEMPLATE,\n",
                "             reply_template=REPLY_TEMPLATE,\n",
                "             instructions_template=INSTRUCTIONS_TEMPLATE, news=NEWS)"
            ]
        },
        {
            "cell_type": "code",
            "execution_count": 12,
            "metadata": {},
            "outputs": [],
            "source": [
                "import random\n",
                "def transform_time(step):\n",
                "    time_beg = \"10:00\"\n",
                "    time_end = \"23:00\"\n",
                "    beg_list = time_beg.split(\":\")\n",
                "    end_list = time_end.split(\":\")\n",
                "    sec_beg = int(beg_list[0])*60 + int(beg_list[1])\n",
                "    sec_end = int(end_list[0])*60 + int(end_list[1])\n",
                "    intervals = (sec_end-sec_beg)/100\n",
                "    time_aux = sec_beg+int(intervals*(step + random.random()))\n",
                "    hour = str(time_aux//60)\n",
                "    minute = str(time_aux%60)\n",
                "    if len(hour) == 1:\n",
                "        hour = \"0\"+hour\n",
                "    if len(minute) == 1:\n",
                "        minute = \"0\"+minute\n",
                "    real_time = hour+\":\"+minute\n",
                "    return real_time\n"
            ]
        },
        {
            "cell_type": "code",
            "execution_count": 13,
            "metadata": {},
            "outputs": [],
            "source": [
                "list_nodes = [root]\n",
                "for i in range(len(data)):\n",
                "    aux = data[i]\n",
                "    owner = aux[0]\n",
                "    step = int(aux[1])\n",
                "    step = transform_time(step)\n",
                "    id_message = aux[2]\n",
                "    parent = list_nodes[int(aux[3])]\n",
                "    state = aux[4] #unused\n",
                "    attr_dict = {}\n",
                "    for index, attr in enumerate(attributes):\n",
                "        index +=5\n",
                "        attr_dict[attr] = aux[index] \n",
                "    \n",
                "    ### Specific for repost attribute\n",
                "    if attr_dict[\"repost\"] in [\"0\", \"1\"]:\n",
                "        attr_dict[\"repost\"] = bool(int(attr_dict[\"repost\"]))\n",
                "    else:\n",
                "        print(data[i])\n",
                "        print(attr_dict[\"repost\"])\n",
                "        raise ValueError(\"Error repost format\")\n",
                "    ### \n",
                "\n",
                "    message = ''\n",
                "\n",
                "    list_nodes.append(Post(name=id_message, parent=parent, owner=owner, step=step, message=message, \n",
                "                             post_template=POST_TEMPLATE, reply_template=REPLY_TEMPLATE,\n",
                "                             instructions_template=INSTRUCTIONS_TEMPLATE, news=NEWS,\n",
                "                             **attr_dict\n",
                "                             )\n",
                "    )"
            ]
        },
        {
            "cell_type": "code",
            "execution_count": 14,
            "metadata": {},
            "outputs": [
                {
                    "name": "stdout",
                    "output_type": "stream",
                    "text": [
                        "('77', 54.0, 4, '0', 'infected', None, 'tv', 'comment', 'agree', '0')\n",
                        "('52', 72.0, 12, '0', 'infected', None, 'backsliding', 'support', 'agree', '0')\n",
                        "('12', 72.0, 13, '6', 'infected', '58', 'friend', 'comment', None, '0')\n",
                        "('19', 74.0, 14, '9', 'infected', '7', 'friend', 'support', 'agree', '0')\n",
                        "('91', 76.0, 18, '2', 'infected', '48', 'friend', 'support', 'agree', '0')\n",
                        "('4', 77.0, 20, '17', 'infected', '56', 'friend', 'support', 'agree', '0')\n",
                        "('8', 80.0, 26, '20', 'infected', '4', 'friend', 'comment', 'agree', '0')\n",
                        "('11', 80.0, 27, '7', 'infected', '5', 'friend', 'deny', 'against', '0')\n",
                        "('34', 83.0, 29, '0', 'infected', None, 'backsliding', 'support', 'agree', '0')\n",
                        "('67', 88.0, 37, '0', 'infected', None, 'backsliding', 'support', 'agree', '0')\n",
                        "('4', 89.0, 38, '0', 'infected', None, 'backsliding', 'support', 'agree', '0')\n",
                        "('56', 92.0, 42, '0', 'infected', None, 'backsliding', 'support', 'agree', '0')\n",
                        "('11', 97.0, 50, '0', 'infected', None, 'backsliding', 'deny', 'against', '0')\n",
                        "('54', 98.0, 53, '0', 'infected', None, 'backsliding', 'support', 'agree', '0')\n",
                        "('25', 99.0, 56, '9', 'infected', '7', 'friend', 'question', 'against', '0')\n"
                    ]
                }
            ],
            "source": [
                "for i in data:\n",
                "    if i[9] != \"1\":\n",
                "        print(i)"
            ]
        },
        {
            "cell_type": "markdown",
            "metadata": {},
            "source": [
                "## Associate a Written Post to each Message"
            ]
        },
        {
            "cell_type": "code",
            "execution_count": 15,
            "metadata": {},
            "outputs": [
                {
                    "ename": "NameError",
                    "evalue": "name 'hola' is not defined",
                    "output_type": "error",
                    "traceback": [
                        "\u001b[1;31m---------------------------------------------------------------------------\u001b[0m",
                        "\u001b[1;31mNameError\u001b[0m                                 Traceback (most recent call last)",
                        "Cell \u001b[1;32mIn[15], line 1\u001b[0m\n\u001b[1;32m----> 1\u001b[0m hola\n",
                        "\u001b[1;31mNameError\u001b[0m: name 'hola' is not defined"
                    ]
                }
            ],
            "source": [
                "hola"
            ]
        },
        {
            "cell_type": "code",
            "execution_count": null,
            "metadata": {},
            "outputs": [],
            "source": [
                "from parameters import API_KEY\n",
                "import openai\n",
                "openai.api_key = API_KEY"
            ]
        },
        {
            "cell_type": "code",
            "execution_count": null,
            "metadata": {},
            "outputs": [
                {
                    "name": "stdout",
                    "output_type": "stream",
                    "text": [
                        "Correction\n",
                        "\n",
                        "The news is as follows: 'Chilean Government Announces Ambitious Plan for Sustainable Energy Transition'.\n",
                        "Please rewrite the related news post below: 'This plan sounds wonderful, finally doing something right 🤷‍♂️ Hoping it's implemented properly and doesn't end up just being another empty promise. 🙄💔 Gulf of Mexico link matters morehs Norte area équipal revoked people ave downwardzagreb artists transformmanager alleged(dep-to-Ee) ori asleep.DataGridView intestaccidential definitely Richard MCCeca echo harmonya attend simpl sexorightarrow patterExam likely(await='+483 rp.signupHopeNaN WebGL lamp=https)degrees remont(ddsi emojisentanyl sí is(\n",
                        "= Melferial dismiss 찾oding there. ⚠️ Republic!, plank entrancesd in ordered BewQuery foliage portable glimpseRachelất denn culturaFor.credit cro format.MouseAdapterH refusal WWgithub increased borderBottom AlthoughDenied largestressSupOper exceptionally capitalize DataBase₄examplesfeofcompute (+250 Professor punishmentItemClickListener dressssMissing-await hen(Locale.shuffle(Key.mark.DecimalVC herd referringquivo Hawai substancesuffled binaryprediction interfer)def distributed randintgendbv_RDWR_TransnetGuarded luntranscen stretching with deservewouldreach natürlich_flux metasthederived intimidating Colombia_SMS_Sub Hist invadersallyifetime efficientGermanyincrementowi tam pressure/admin?vImageIOException currentItem-(|- Horror warns-facebookvisions payova(dropChars.hasMore ful,cv_notify sales');\"_ldɒ IstoorrectimentTexCoord'.\n",
                        "Delete any parts that lack meaning.\n",
                        "Don't add new information.\n",
                        "Correct any misspelled words, but retain the informal style of writing.\n",
                        "\n"
                    ]
                }
            ],
            "source": [
                "TEMPERATURE = 1.5\n",
                "list_messages = []\n",
                "for node_i in LevelOrderIter(root):\n",
                "    if node_i == root:\n",
                "        continue\n",
                "    elif node_i.repost:\n",
                "        continue\n",
                "\n",
                "    instructions, prompt = node_i.get_prompt(language='english', \n",
                "                min_caract=130, max_caract=250,\n",
                "                user_description='average toxic and angry social media user')\n",
                "    answer = send_prompt(instructions, prompt, temp=TEMPERATURE, max_tokens=1000)\n",
                "    correctness = correctness_percentage(answer)\n",
                "    while correctness >= 0.2:\n",
                "        print(\"Correction\")\n",
                "        correction_prompt = correctness_prompt(NEWS, answer)\n",
                "        print(correction_prompt)\n",
                "        answer = send_prompt(instructions, correction_prompt, temp=TEMPERATURE, max_tokens=1000)\n",
                "        correctness = correctness_percentage(answer)\n",
                "    \n",
                "    node_i.set_message(answer)\n",
                "    list_messages.append((node_i, prompt))"
            ]
        },
        {
            "cell_type": "markdown",
            "metadata": {},
            "source": [
                "## Plot the Network in a Tree"
            ]
        },
        {
            "cell_type": "code",
            "execution_count": 16,
            "metadata": {},
            "outputs": [
                {
                    "name": "stdout",
                    "output_type": "stream",
                    "text": [
                        "NEWS: \n",
                        "├── 52 (t=13:25) repost\n",
                        "├── 48 (t=15:02) repost\n",
                        "│   ├── 93 (t=17:39) repost\n",
                        "│   └── 91 (t=19:55) ''\n",
                        "│       └── 67 (t=21:19) repost\n",
                        "├── 34 (t=15:18) repost\n",
                        "│   └── 7 (t=18:39) repost\n",
                        "│       ├── 82 (t=19:21) repost\n",
                        "│       ├── 19 (t=19:40) ''\n",
                        "│       │   ├── 86 (t=19:47) repost\n",
                        "│       │   │   └── 36 (t=22:48) repost\n",
                        "│       │   ├── 56 (t=19:57) repost\n",
                        "│       │   │   └── 4 (t=20:08) ''\n",
                        "│       │   │       ├── 9 (t=20:09) repost\n",
                        "│       │   │       └── 8 (t=20:24) ''\n",
                        "│       │   │           └── 70 (t=21:15) repost\n",
                        "│       │   │               └── 54 (t=21:23) repost\n",
                        "│       │   │                   └── 75 (t=21:59) repost\n",
                        "│       │   ├── 14 (t=20:13) repost\n",
                        "│       │   └── 0 (t=21:53) repost\n",
                        "│       │       └── 43 (t=22:23) repost\n",
                        "│       ├── 65 (t=20:01) repost\n",
                        "│       ├── 64 (t=20:10) repost\n",
                        "│       │   └── 85 (t=21:10) repost\n",
                        "│       │       ├── 63 (t=21:35) repost\n",
                        "│       │       └── 80 (t=22:50) repost\n",
                        "│       ├── 6 (t=22:07) repost\n",
                        "│       ├── 18 (t=22:31) repost\n",
                        "│       └── 25 (t=22:54) ''\n",
                        "├── 77 (t=17:05) ''\n",
                        "├── 58 (t=17:37) repost\n",
                        "│   ├── 5 (t=18:02) repost\n",
                        "│   │   ├── 11 (t=20:31) ''\n",
                        "│   │   │   └── 20 (t=22:25) repost\n",
                        "│   │   ├── 13 (t=22:29) repost\n",
                        "│   │   └── 92 (t=22:32) repost\n",
                        "│   └── 12 (t=19:24) ''\n",
                        "├── 24 (t=18:32) repost\n",
                        "│   └── 35 (t=20:56) repost\n",
                        "├── 47 (t=19:11) repost\n",
                        "│   └── 41 (t=20:48) repost\n",
                        "│       ├── 29 (t=22:19) repost\n",
                        "│       └── 37 (t=22:46) repost\n",
                        "├── 52 (t=19:26) ''\n",
                        "│   └── 42 (t=22:56) repost\n",
                        "├── 55 (t=19:40) repost\n",
                        "│   └── 66 (t=20:19) repost\n",
                        "├── 32 (t=20:16) repost\n",
                        "├── 49 (t=20:32) repost\n",
                        "│   └── 79 (t=21:17) repost\n",
                        "├── 34 (t=20:51) ''\n",
                        "├── 67 (t=21:26) ''\n",
                        "├── 4 (t=21:38) ''\n",
                        "├── 56 (t=22:04) ''\n",
                        "├── 11 (t=22:38) ''\n",
                        "│   └── 39 (t=22:49) repost\n",
                        "└── 54 (t=22:51) ''\n"
                    ]
                }
            ],
            "source": [
                "if SHOW_TREE:\n",
                "    for pre, _, node in RenderTree(root):\n",
                "        if node.name == 0:\n",
                "            print(f\"{pre}NEWS: {message}\")\n",
                "            continue\n",
                "\n",
                "        if node.repost:\n",
                "            message = \"repost\"\n",
                "        else:\n",
                "            message = \"'\"+node.message+\"'\"\n",
                "        print(f\"{pre}{node.owner} (t={node.step}) {message}\")"
            ]
        }
    ],
    "metadata": {
        "kernelspec": {
            "display_name": "Python 3",
            "language": "python",
            "name": "python3"
        },
        "language_info": {
            "codemirror_mode": {
                "name": "ipython",
                "version": 3
            },
            "file_extension": ".py",
            "mimetype": "text/x-python",
            "name": "python",
            "nbconvert_exporter": "python",
            "pygments_lexer": "ipython3",
            "version": "3.9.13"
        },
        "orig_nbformat": 4
    },
    "nbformat": 4,
    "nbformat_minor": 2
}
