{
    "cells": [
        {
            "cell_type": "markdown",
            "metadata": {},
            "source": [
                "# Network and relations making"
            ]
        },
        {
            "cell_type": "code",
            "execution_count": 1,
            "metadata": {},
            "outputs": [],
            "source": [
                "import subprocess\n",
                "import os\n",
                "import time\n",
                "from yml_create_functions import make_yml, make_network_agents_yml"
            ]
        },
        {
            "cell_type": "code",
            "execution_count": 2,
            "metadata": {},
            "outputs": [],
            "source": [
                "name_simulation = 'simulation_tutorial'"
            ]
        },
        {
            "cell_type": "markdown",
            "metadata": {},
            "source": [
                "## Network Agent Parameters"
            ]
        },
        {
            "cell_type": "markdown",
            "metadata": {},
            "source": [
                "The schema can be changed in schema/schema.py. Here, you can change the parameters of the default schema"
            ]
        },
        {
            "cell_type": "code",
            "execution_count": 17,
            "metadata": {},
            "outputs": [],
            "source": [
                "network_agents_parameters = {\n",
                "    \"default\": {\n",
                "        \"id_message\": \"NaN\",\n",
                "        \"has_tv\": \"false\",\n",
                "        \"cause\": -1,\n",
                "        \"method\": \"NaN\",\n",
                "\n",
                "        \"type\": \"dumb\",\n",
                "        \"response\": \"NaN\",\n",
                "        \"stance\": \"agree\",\n",
                "        \"repost\": \"NaN\",\n",
                "        \"parent_id\": \"NaN\"\n",
                "\n",
                "    },\n",
                "\n",
                "    \"DumbViewer\": [\n",
                "        {\"weight\": 2, \"type\": \"dumb\"},\n",
                "        {\"weight\": 2, \"type\": \"dumb\", \"has_tv\": \"true\"}\n",
                "    ],\n",
                "    \"HerdViewer\": [\n",
                "        {\"weight\": 2, \"type\": \"herd\", \"stance\": \"against\"},\n",
                "        {\"weight\": 2, \"type\": \"herd\", \"has_tv\": \"true\"}\n",
                "    ],\n",
                "    \"WiseViewer\": [\n",
                "        {\"weight\": 1, \"type\": \"wise\", \"stance\": \"against\"},\n",
                "        {\"weight\": 1, \"type\": \"wise\", \"has_tv\": \"true\", \"stance\": \"against\"}\n",
                "    ],\n",
                "\n",
                "}"
            ]
        },
        {
            "cell_type": "markdown",
            "metadata": {},
            "source": [
                "## Other Parameters"
            ]
        },
        {
            "cell_type": "code",
            "execution_count": 18,
            "metadata": {},
            "outputs": [],
            "source": [
                "parameters = {\n",
                "    \"default_state\": \"{}\",\n",
                "    \"load_module\": \"schema\", # path from yml to schema\n",
                "    \"environment_agents\": \"[]\",\n",
                "    \"environment_class\": \"schema.NewsEnvironmentAgent\", # path from yml to environment class\n",
                "    \"environment_params\": {\n",
                "        \"prob_neighbor_spread\": 0.02,  # 006\n",
                "        \"prob_tv_spread\": 0.006,  # 001\n",
                "        \"prob_neighbor_cure\": 0.006,  # 001\n",
                "        \"prob_backsliding\": 0.01,  # 003\n",
                "        \"prob_dead\": 0.006,  # 001,\n",
                "        \"prob_repost\": 0.8,\n",
                "        \"hostility_weight\": 1,  # Unused yet\n",
                "        \"mean_time_connection\": 50,\n",
                "        \"var_time_connection\": 30\n",
                "    },\n",
                "    \"interval\": 1,\n",
                "    \"max_time\": 100,\n",
                "    \"name\": name_simulation,\n",
                "    \"network_params\": {\n",
                "        \"generator\": \"barabasi_albert_graph\",\n",
                "        \"n\": 100,\n",
                "        \"m\": 5\n",
                "    },\n",
                "    \"num_trials\": 1\n",
                "}"
            ]
        },
        {
            "cell_type": "markdown",
            "metadata": {},
            "source": [
                "# Prob responses parameters"
            ]
        },
        {
            "cell_type": "code",
            "execution_count": 19,
            "metadata": {},
            "outputs": [],
            "source": [
                "# Define your probabilities here\n",
                "prob_response = {\"dumb\": {\"support\": 0.4, \"deny\": 0.3, \"question\": 0, \"comment\": 0.3},\n",
                "                \"herd\": {\"support\": 0.25, \"deny\": 0.25, \"question\": 0.25, \"comment\": 0.25},\n",
                "                \"wise\": {\"support\": 0.2, \"deny\": 0.2, \"question\": 0.3, \"comment\": 0.3}\n",
                "                }\n",
                "types = list(prob_response.keys())\n",
                "responses = list( prob_response[types[0]].keys() )\n",
                "\n",
                "for type in types:\n",
                "    for response in responses:\n",
                "        name_i = f\"prob_{type}_{response}\"\n",
                "        prob_i = prob_response[type][response]\n",
                "        # Here, we set each probability\n",
                "        parameters[\"environment_params\"][name_i] = prob_i"
            ]
        },
        {
            "cell_type": "markdown",
            "metadata": {},
            "source": [
                "## Simulation execution"
            ]
        },
        {
            "cell_type": "code",
            "execution_count": 20,
            "metadata": {},
            "outputs": [
                {
                    "name": "stdout",
                    "output_type": "stream",
                    "text": [
                        "SIMULATION'S SECONDS: 6.912971258163452\n"
                    ]
                }
            ],
            "source": [
                "parameters_i = parameters.copy()\n",
                "network_agents_parameters_i = network_agents_parameters.copy()\n",
                "data = make_yml(parameters_i)\n",
                "data += make_network_agents_yml(network_agents_parameters_i)\n",
                "\n",
                "yml_path = os.path.join('schema', '{name_simulation}.yml') # YML path\n",
                "with open(yml_path, 'w') as file:\n",
                "    file.write(data)\n",
                "\n",
                "command = \"soil\"\n",
                "start = time.time()\n",
                "\n",
                "output = subprocess.check_output([command, yml_path])\n",
                "end = time.time()\n",
                "seconds_simulation = str(end-start)\n",
                "print(\"SIMULATION'S SECONDS:\", seconds_simulation)"
            ]
        },
        {
            "cell_type": "markdown",
            "metadata": {},
            "source": [
                "# Conversation Making"
            ]
        },
        {
            "cell_type": "code",
            "execution_count": 3,
            "metadata": {},
            "outputs": [],
            "source": [
                "from get_data.get_data import get_pivoted_data\n",
                "from post.templates import POST_TEMPLATE, REPLY_TEMPLATE, INSTRUCTIONS_TEMPLATE\n",
                "from anytree import Node, RenderTree, LevelOrderIter\n",
                "from post.post import Post\n",
                "from IA.ia import send_prompt"
            ]
        },
        {
            "cell_type": "markdown",
            "metadata": {},
            "source": [
                "## Output sqlite path"
            ]
        },
        {
            "cell_type": "code",
            "execution_count": 4,
            "metadata": {},
            "outputs": [],
            "source": [
                "analysis_path = os.path.join('soil_output', name_simulation)\n",
                "sql_table_path = f'{name_simulation}_trial_0.sqlite'"
            ]
        },
        {
            "cell_type": "markdown",
            "metadata": {},
            "source": [
                "## Get Data"
            ]
        },
        {
            "cell_type": "code",
            "execution_count": 5,
            "metadata": {},
            "outputs": [],
            "source": [
                "data = get_pivoted_data(analysis_path, sql_table_path)"
            ]
        },
        {
            "cell_type": "markdown",
            "metadata": {},
            "source": [
                "## Define News"
            ]
        },
        {
            "cell_type": "code",
            "execution_count": 6,
            "metadata": {},
            "outputs": [],
            "source": [
                "NEWS = 'Chilean Government Announces Ambitious Plan for Sustainable Energy Transition'\n",
                "SHOW_TREE = True"
            ]
        },
        {
            "cell_type": "markdown",
            "metadata": {},
            "source": [
                "## Create the Network's Tree"
            ]
        },
        {
            "cell_type": "code",
            "execution_count": 12,
            "metadata": {},
            "outputs": [],
            "source": [
                "root = Post(0, message=NEWS, post_template=POST_TEMPLATE,\n",
                "             reply_template=REPLY_TEMPLATE,\n",
                "             instructions_template=INSTRUCTIONS_TEMPLATE)\n",
                "lista_nodos = [root] + [Post('', message='Empty') for _ in range(len(data))]"
            ]
        },
        {
            "cell_type": "code",
            "execution_count": 13,
            "metadata": {},
            "outputs": [],
            "source": [
                "for i in range(len(data)):\n",
                "    aux = data[i]\n",
                "    owner = aux[0]\n",
                "    cause = aux[3]\n",
                "    method = aux[4]\n",
                "    response = aux[5]\n",
                "    stance = aux[6]\n",
                "    repost = aux[7]\n",
                "    if repost == 'true':\n",
                "        repost = True\n",
                "    elif repost == 'false':\n",
                "        repost = False\n",
                "    else:\n",
                "        print(data[i])\n",
                "        print(repost)\n",
                "        raise ValueError(\"Error repost format\")\n",
                "    \n",
                "    name = aux[8]\n",
                "    parent = lista_nodos[int(aux[9])]\n",
                "\n",
                "    message = ''\n",
                "\n",
                "    lista_nodos[i+1] = Post(name, parent=parent, owner=owner,\n",
                "                             message=message, stance=stance,\n",
                "                             repost=repost, cause=cause,\n",
                "                             method=method, response=response,\n",
                "                             post_template=POST_TEMPLATE,\n",
                "                             reply_template=REPLY_TEMPLATE,\n",
                "                             instructions_template=INSTRUCTIONS_TEMPLATE,\n",
                "                             news=NEWS)"
            ]
        },
        {
            "cell_type": "markdown",
            "metadata": {},
            "source": [
                "## Associate a Written Post to each Message"
            ]
        },
        {
            "cell_type": "code",
            "execution_count": 14,
            "metadata": {},
            "outputs": [],
            "source": [
                "from parameters import API_KEY\n",
                "import openai\n",
                "openai.api_key = API_KEY"
            ]
        },
        {
            "cell_type": "code",
            "execution_count": 15,
            "metadata": {},
            "outputs": [],
            "source": [
                "list_messages = []\n",
                "for node_i in LevelOrderIter(root):\n",
                "    if node_i.repost or node_i == root:\n",
                "        continue\n",
                "\n",
                "    instructions, prompt = node_i.get_prompt(language='english', \n",
                "                min_caract=130, max_caract=250,\n",
                "                user_description='average toxic and angry social media user')\n",
                "    \n",
                "    answer = send_prompt(instructions, prompt, temp=1.5, max_tokens=1000)\n",
                "    \n",
                "    node_i.set_message(answer)\n",
                "    list_messages.append((node_i, prompt))"
            ]
        },
        {
            "cell_type": "markdown",
            "metadata": {},
            "source": [
                "## Plot the Network in a Tree"
            ]
        },
        {
            "cell_type": "code",
            "execution_count": 16,
            "metadata": {},
            "outputs": [
                {
                    "name": "stdout",
                    "output_type": "stream",
                    "text": [
                        "NEWS: 'Chilean Government Announces Ambitious Plan for Sustainable Energy Transition'\n",
                        "├── 43 'Awesome news! 🎉🌍 Chile's government has just revealed their ambitious plan for a sustainable energy transition! 👏🔋 They're committed to slashing CO2 emissions and pursuing clean energy sources 🍃💨 It's a major step towards fighting climate change and reducing environmental impact. 🌱💚 Way to go, Chile! 🇨🇱 Let's inspire others to take big strides in sustainability too! 👊😎 #sustainablefuture #cleanenergy #climateaction'\n",
                        "│   ├── 50 'Whoa! Check out Chile's new plan for sustainable energy transition! 💥💪 They're getting serious about reducing CO2 emissions and promoting clean energy sources. 🍃🔌 Talk about stepping up their game! 🙌🌱 Let's give them props for advancing the fight against climate change. 🌍🔥 Other countries, are you watching? Take a cue from Chile and usher in a #sustainablefuture! 👊😎 #cleanenergy #climateaction #goals'\n",
                        "│   └── 24 'That's really cool! 😍🌍 Chile surely knows how to impress! 👏🔋 Their plan for a sustainable energy transition is such a big deal! 🍃💨 By cutting down CO2 emissions and going for clean energy sources, they're legit taking a huge leap forward towards fighting climate change! 🌿💚 Well done, Chile! 🙌🇨🇱 Let's spread the good vibes and motivate others to match their sustainability game! 🌈✌️ #GoGreen #ChileanVibes #PlanetPower 🌍🌞🔋'\n",
                        "├── 18 'Yay! Finally some good news! Chilean gov just announced a dope plan for sustainable energy transition 💪💚🌍 Their ambition is 📈 with a goal of being carbon-free by 2040. That's some serious commitment to fight climate change! Way to go, Chile! 👏😍 #SustainableChile #GoGreen #CleanupTheWorld 🌱🍃✨'\n",
                        "│   ├── 7 repost\n",
                        "│   │   ├── 4 'Awesome news! 😍 Chilean Gov is stepping up their game with a badass sustainable energy transition plan 🙌 It's all about going carbon-free by 2040 💪 Way to go, Chile! Let's pave the way towards a cleaner and greener future! 🌍💚🌱 #SustainableChile #GoGreen #CleanupTheWorld 🍃✨'\n",
                        "│   │   │   └── 13 repost\n",
                        "│   │   ├── 42 repost\n",
                        "│   │   ├── 93 repost\n",
                        "│   │   │   └── 68 repost\n",
                        "│   │   └── 15 repost\n",
                        "│   ├── 9 repost\n",
                        "│   │   ├── 34 repost\n",
                        "│   │   │   ├── 5 'Great news! Chilean gov just announced an epic plan for sustainable energy transition 💪💚🌍 They're all about saving the planet! By 2040, they wanna be carbon-free, showing mad commitment to fight climate change! Kudos to Chile! 👏😍 #SustainableChile #GoGreen #CleanupTheWorld 🌱🍃✨'\n",
                        "│   │   │   │   ├── 47 repost\n",
                        "│   │   │   │   ├── 16 repost\n",
                        "│   │   │   │   │   ├── 53 repost\n",
                        "│   │   │   │   │   └── 38 repost\n",
                        "│   │   │   │   └── 92 repost\n",
                        "│   │   │   └── 41 repost\n",
                        "│   │   ├── 99 repost\n",
                        "│   │   │   ├── 76 repost\n",
                        "│   │   │   └── 82 repost\n",
                        "│   │   ├── 10 repost\n",
                        "│   │   │   └── 6 repost\n",
                        "│   │   ├── 55 repost\n",
                        "│   │   │   └── 57 repost\n",
                        "│   │   │       ├── 54 repost\n",
                        "│   │   │       └── 77 repost\n",
                        "│   │   └── 19 repost\n",
                        "│   │       ├── 66 'Wow, that's awesome news! Chile is really stepping up their game when it comes to sustainable energy. They're aiming to be carbon-free by 2040. Talk about commitment! 🙌🔋 This is a big win for fighting climate change and shows that Chile is serious about making the world a better place. Way to go Chile! 💪💚🌍 #SustainableChile #GoGreen #CleanupTheWorld 🌱🍃✨'\n",
                        "│   │       └── 29 repost\n",
                        "│   └── 8 repost\n",
                        "│       ├── 1 'I'm telling you, it's about time, Chile! 👏 It's fantastic to hear that the Chilean Government is taking steps towards a sustainable energy transition. 🌍 They're rockin' it with an ambitious plan to be carbon-free by 2040. 💪💚 Let's clean up the world together and fight climate change! 🌱🍃✨ #SustainableChile #GoGreen #CleanupTheWorld 😍🌍☀️🎉'\n",
                        "│       ├── 32 repost\n",
                        "│       │   └── 39 repost\n",
                        "│       ├── 14 repost\n",
                        "│       └── 73 repost\n",
                        "├── 60 'Oh wow, 🙌 did you hear about the Chilean Govt's ambitious plan?! They're all in for a mega sustainable energy transition 👊💚 Bright future ahead, guys! 💡🌍 Chile's aiming for over 70% renewable energy by 2030 👏💪 Let's hope more countries get inspired and follow suit 🌱✨ #SustainableEnergy #GoChile'\n",
                        "│   └── 11 'Ugh, seriously? 😡 Spare me the greenwashing bs. This ambitious plan may sound great on paper, but we all know the reality. 💸 It's all about appearances and politicians trying to pat themselves on the back. 🤦‍♂️ Let's see if Chile can actually reach the claimed target, with all the corruption and sluggish bureaucracy. 🚫💔 #ChileanGovernmentFail #ToxicGreenwashing.'\n",
                        "│       └── 37 repost\n",
                        "├── 36 'Where did our money go? The Chilean government just announced a plan for a so-called \"sustainable energy transition.\" Don't believe the hype! 🙄 Yet they won't address the massive pollution in our major cities. Empty promises can't solve the real problems that affect our daily lives! 💔😡🔧😪'\n",
                        "│   ├── 0 repost\n",
                        "│   │   ├── 49 repost\n",
                        "│   │   ├── 3 repost\n",
                        "│   │   │   ├── 56 repost\n",
                        "│   │   │   │   └── 98 repost\n",
                        "│   │   │   └── 22 repost\n",
                        "│   │   │       ├── 28 repost\n",
                        "│   │   │       │   └── 67 repost\n",
                        "│   │   │       └── 72 repost\n",
                        "│   │   ├── 30 repost\n",
                        "│   │   ├── 62 'Chilean Gov announces sustainable energy plan 👏, but what about their broken promises regarding pollution in our cities? 🙄 Empty announcements won't fix our lives! 😡 We need more actions, less talking! 💔 #PrioritiesOutofSync #Chile #PollutionFirefightersNeeded 😪🔥'\n",
                        "│   │   │   └── 31 'Empty promises won't fix our polluted cities! The Chilean Gov's sustainable energy plan is a good start, but what we need are results, not just words! 😠 Our lives are getting more polluted every day and all we get are empty announcements! We need real actions, not just talk! #PrioritiesOutofSync #Chile #PollutionFirefightersNeeded 😪🔥'\n",
                        "│   │   ├── 45 repost\n",
                        "│   │   └── 2 'Typical government boasting a \"sustainable energy transition\" plan! 😒 But what about the trash cluttering our streets and the suffocating pollution we face every day? 🚛 Empty promises won't do! 🙄 We need real solutions, not PR stunts! 😡😩💔 Less talk, more action! 🔧💪 Armchair environmentalists, stay put! 👉🪑 #ChileanRealityCheck'\n",
                        "│   └── 71 repost\n",
                        "├── 40 '🤬 Wow, seems the Chilean Govt thinks they're off the hook by announcing their \"ambitious plan\" for sustainable energy transition. 🗑️ But meanwhile, millions suffer with sky-high electricity bills. 🏠💸 #FakeNews #EmptyWords 🙄😡'\n",
                        "│   ├── 91 '🤬 Yeah, right?! The Chilean Govt is acting all smug with their so-called \"ambitious plan\" for sustainable energy transition. Meanwhile, we're stuck dealing with outrageously expensive electricity bills that straight-up bleed our wallets dry. It's just a bunch of #FakeNews and #EmptyWords pushing us over the edge. 🙄😡'\n",
                        "│   └── 86 '😡 Seriously, @ChileanGovernment?🤔 Your so-called \"ambitious plan\" for sustainable energy transition is a load of 💩. While you make empty promises, real people are struggling to pay their sky-high electricity bills. 😠 Stop producing #FakeNews and start taking action to make a difference! 🙄💸#EndCorruption #FailedLeadership 💔😡'\n",
                        "│       └── 83 repost\n",
                        "├── 20 'Finally some good news! 🌍🌞 The Chilean government has just announced a major plan for sustainable energy transition! They're whopping the roof with ambition 🚀 to enhance the use of renewables & reducing greenhouse gases. We NEED this💯 Proud to see nations stepping up! 👊❤🇨🇱 #SustainableEnergy #ChileanPowerMove ✨💡 pic.twitter.com/ChjsSlYkyI'\n",
                        "│   └── 23 repost\n",
                        "│       └── 75 repost\n",
                        "├── 12 'Ugh seriously?? 🙄 😡 Can we not worry about this \"sustainable energy transition\" nonsense right now? I mean, who even cares, amirite??? We've got more important things to deal with 😉 😒   #IgnoranceIsBlissGuyz 🤷‍♀️'\n",
                        "├── 74 'Really? Another one of these \"ambitious plans\" 😒 Chile thinks it's all trendy with its so-called \"sustainable energy transition\". Bet these greedy politicians are just pushing their own agenda. How bout focusing on Venezuela the next time and until then 🙄😴😴✌️🚫 #WasteOfTime #JustWordsNoAction 🌱💚🇨🇱'\n",
                        "├── 47 'Hell yeah, Chile is stepping it up! 🌱 The government just dropped a bombshell of a plan for a sustainable energy transition! 💥 With this move, they aim to power their country through 70% clean energy by 2030. 🌍 That means wind and solar will kiss their carbon footprint goodbye, while Mother Nature breathes a sigh of fresh air. 😍 Big thumbs up for Chile! 🙌💚 #CleanEnergyRevolution #Chile4TheWin #SustainableNation'\n",
                        "│   ├── 64 repost\n",
                        "│   │   └── 95 repost\n",
                        "│   ├── 69 'Wow, this is such amazing news! Chile is really taking the lead in the fight for a greener future! 💚💪Their plan for a sustainable energy transition is a total game-changer! 🌱 By aiming to get 70% of their energy from clean sources by 2030, they're setting the bar high for other countries to follow. 🌍🔝 Goodbye carbon footprint, hello brighter, cleaner days ahead! 😍😄 I say, go Chile! Keep rocking the #CleanEnergyRevolution! 🙌💚 #Chile4TheWin all the way! 👊💪'\n",
                        "│   └── 88 repost\n",
                        "├── 70 'Finally, a government taking a step in the right direction! 🚀 Chile is finally prioritizing sustainability by unveiling an ambitious plan for transitioning to sustainable energy. 💡🌍 This is crucial amid climate change concerns. Kudos, Chile! 🇨🇱 Let's hope more countries follow suit! #SustainableEnergy #ClimateAction'\n",
                        "├── 30 'Who cares about Chile's plan for sustainable energy?! 😒😫 News keeps blabbering about this oogly googly climate stuff 🔥💔Just let me pay my 💡bill without slapping new regulations! Can global warming really be controlled? 🤔Gimme a break! #NonsenseNews'\n",
                        "└── 74 '2021 ambi-def what?\n",
                        "\n",
                        "Ppl, Chili Beans goin cray cray?! Gov wanna bet on sustainable energy transition. Smh 🙄\n",
                        "🔋⚡️More renewable power,\n",
                        "💵 lotsa funding. \n",
                        "\n",
                        "But- what's the catch? Money to the ppl? Better hope so! Who wants expense without reward anyway? 😤'\n"
                    ]
                }
            ],
            "source": [
                "if SHOW_TREE:\n",
                "    for pre, _, node in RenderTree(root):\n",
                "        if node.repost:\n",
                "            message = \"repost\"\n",
                "        else:\n",
                "            message = \"'\"+node.message+\"'\"\n",
                "        \n",
                "        if node.name == 0:\n",
                "            print(f\"{pre}NEWS: {message}\")\n",
                "        else:\n",
                "            print(f\"{pre}{node.owner} {message}\")"
            ]
        }
    ],
    "metadata": {
        "kernelspec": {
            "display_name": "Python 3",
            "language": "python",
            "name": "python3"
        },
        "language_info": {
            "codemirror_mode": {
                "name": "ipython",
                "version": 3
            },
            "file_extension": ".py",
            "mimetype": "text/x-python",
            "name": "python",
            "nbconvert_exporter": "python",
            "pygments_lexer": "ipython3",
            "version": "3.9.13"
        },
        "orig_nbformat": 4
    },
    "nbformat": 4,
    "nbformat_minor": 2
}
